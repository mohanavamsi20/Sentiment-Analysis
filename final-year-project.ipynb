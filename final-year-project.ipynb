{
 "cells": [
  {
   "cell_type": "code",
   "execution_count": 1,
   "id": "71eeac92",
   "metadata": {
    "_cell_guid": "b1076dfc-b9ad-4769-8c92-a6c4dae69d19",
    "_uuid": "8f2839f25d086af736a60e9eeb907d3b93b6e0e5",
    "execution": {
     "iopub.execute_input": "2022-10-29T14:08:23.052934Z",
     "iopub.status.busy": "2022-10-29T14:08:23.052123Z",
     "iopub.status.idle": "2022-10-29T14:08:23.075723Z",
     "shell.execute_reply": "2022-10-29T14:08:23.074505Z"
    },
    "papermill": {
     "duration": 0.045317,
     "end_time": "2022-10-29T14:08:23.079084",
     "exception": false,
     "start_time": "2022-10-29T14:08:23.033767",
     "status": "completed"
    },
    "tags": []
   },
   "outputs": [
    {
     "name": "stdout",
     "output_type": "stream",
     "text": [
      "/kaggle/input/amazon/amazon_reviews.csv\n",
      "/kaggle/input/womens-ecommerce-clothing-reviews/Womens Clothing E-Commerce Reviews.csv\n"
     ]
    }
   ],
   "source": [
    "# This Python 3 environment comes with many helpful analytics libraries installed\n",
    "# It is defined by the kaggle/python Docker image: https://github.com/kaggle/docker-python\n",
    "# For example, here's several helpful packages to load\n",
    "# Input data files are available in the read-only \"../input/\" directory\n",
    "# For example, running this (by clicking run or pressing Shift+Enter) will list all files under the input directory\n",
    "\n",
    "import os\n",
    "for dirname, _, filenames in os.walk('/kaggle/input'):\n",
    "    for filename in filenames:\n",
    "        print(os.path.join(dirname, filename))\n",
    "\n",
    "# You can write up to 20GB to the current directory (/kaggle/working/) that gets preserved as output when you create a version using \"Save & Run All\" \n",
    "# You can also write temporary files to /kaggle/temp/, but they won't be saved outside of the current session"
   ]
  },
  {
   "cell_type": "code",
   "execution_count": 2,
   "id": "2a68317d",
   "metadata": {
    "execution": {
     "iopub.execute_input": "2022-10-29T14:08:23.117686Z",
     "iopub.status.busy": "2022-10-29T14:08:23.117235Z",
     "iopub.status.idle": "2022-10-29T14:08:25.604545Z",
     "shell.execute_reply": "2022-10-29T14:08:25.603204Z"
    },
    "papermill": {
     "duration": 2.50606,
     "end_time": "2022-10-29T14:08:25.607301",
     "exception": false,
     "start_time": "2022-10-29T14:08:23.101241",
     "status": "completed"
    },
    "tags": []
   },
   "outputs": [
    {
     "name": "stderr",
     "output_type": "stream",
     "text": [
      "[nltk_data] Downloading package omw-1.4 to /usr/share/nltk_data...\n"
     ]
    }
   ],
   "source": [
    "#for data wrangling and manipulation\n",
    "\n",
    "import pandas as pd\n",
    "import numpy as np\n",
    "\n",
    "#for NLP text processing and formatting\n",
    "\n",
    "import re\n",
    "import string\n",
    "from nltk.corpus import stopwords\n",
    "from nltk.tokenize import word_tokenize\n",
    "\n",
    "\n",
    "# For word lemmitization\n",
    "import nltk\n",
    "from nltk.stem import WordNetLemmatizer\n",
    "from nltk.sentiment.vader import SentimentIntensityAnalyzer \n",
    "# for word Stemming\n",
    "nltk.download('omw-1.4')\n",
    "from nltk.stem.porter import PorterStemmer\n",
    "\n",
    "# for Machine Learning process\n",
    "\n",
    "from sklearn.feature_extraction.text import TfidfVectorizer\n",
    "from sklearn.model_selection import train_test_split\n",
    "from sklearn.naive_bayes import MultinomialNB\n",
    "from sklearn.linear_model import LogisticRegression\n",
    "from sklearn.svm import SVC\n",
    "from sklearn.model_selection import StratifiedShuffleSplit\n",
    "\n",
    "# for Machine Learning model evaluation\n",
    "\n",
    "from sklearn.metrics import classification_report\n",
    "from sklearn.metrics import accuracy_score\n",
    "from sklearn.metrics import confusion_matrix\n",
    "from textblob import TextBlob\n",
    "from nltk.tokenize import word_tokenize\n",
    "from sklearn.feature_extraction.text import CountVectorizer\n",
    "\n",
    "from sklearn.metrics import mean_squared_error, mean_absolute_error\n",
    "\n",
    "# Global Parameters\n",
    "stop_words = set(stopwords.words('english'))\n",
    "\n",
    "from wordcloud import WordCloud\n",
    "\n",
    "import matplotlib.pyplot as plt\n",
    "%matplotlib inline\n",
    "\n",
    "# from autosklearn.regression import AutoSklearnRegressor\n",
    "\n",
    "import plotly.graph_objs as go\n",
    "from plotly.subplots import make_subplots\n",
    "from plotly.offline import init_notebook_mode, iplot\n"
   ]
  },
  {
   "cell_type": "markdown",
   "id": "227ee934",
   "metadata": {
    "papermill": {
     "duration": 0.015593,
     "end_time": "2022-10-29T14:08:25.638963",
     "exception": false,
     "start_time": "2022-10-29T14:08:25.623370",
     "status": "completed"
    },
    "tags": []
   },
   "source": [
    "**Indian Language NLPs**\n",
    "\n",
    ">!pip install inltk\n",
    "\n",
    ">!pip install indic-nlp-library\n",
    "\n",
    ">!pip install stanza"
   ]
  },
  {
   "cell_type": "markdown",
   "id": "eca0a00a",
   "metadata": {
    "papermill": {
     "duration": 0.01559,
     "end_time": "2022-10-29T14:08:25.670991",
     "exception": false,
     "start_time": "2022-10-29T14:08:25.655401",
     "status": "completed"
    },
    "tags": []
   },
   "source": [
    "**DATASETS AND PREPROCESSING**"
   ]
  },
  {
   "cell_type": "code",
   "execution_count": 3,
   "id": "addb7de0",
   "metadata": {
    "execution": {
     "iopub.execute_input": "2022-10-29T14:08:25.703531Z",
     "iopub.status.busy": "2022-10-29T14:08:25.703113Z",
     "iopub.status.idle": "2022-10-29T14:08:25.971433Z",
     "shell.execute_reply": "2022-10-29T14:08:25.970390Z"
    },
    "papermill": {
     "duration": 0.287353,
     "end_time": "2022-10-29T14:08:25.974115",
     "exception": false,
     "start_time": "2022-10-29T14:08:25.686762",
     "status": "completed"
    },
    "tags": []
   },
   "outputs": [],
   "source": [
    "data = pd.read_csv(\"../input/womens-ecommerce-clothing-reviews/Womens Clothing E-Commerce Reviews.csv\")"
   ]
  },
  {
   "cell_type": "code",
   "execution_count": 4,
   "id": "94b0cd87",
   "metadata": {
    "execution": {
     "iopub.execute_input": "2022-10-29T14:08:26.007679Z",
     "iopub.status.busy": "2022-10-29T14:08:26.006357Z",
     "iopub.status.idle": "2022-10-29T14:08:26.063007Z",
     "shell.execute_reply": "2022-10-29T14:08:26.061805Z"
    },
    "papermill": {
     "duration": 0.07616,
     "end_time": "2022-10-29T14:08:26.065656",
     "exception": false,
     "start_time": "2022-10-29T14:08:25.989496",
     "status": "completed"
    },
    "tags": []
   },
   "outputs": [],
   "source": [
    "df = pd.read_csv(\"../input/amazon/amazon_reviews.csv\")"
   ]
  },
  {
   "cell_type": "code",
   "execution_count": 5,
   "id": "38b26848",
   "metadata": {
    "execution": {
     "iopub.execute_input": "2022-10-29T14:08:26.097960Z",
     "iopub.status.busy": "2022-10-29T14:08:26.097514Z",
     "iopub.status.idle": "2022-10-29T14:08:26.125157Z",
     "shell.execute_reply": "2022-10-29T14:08:26.123969Z"
    },
    "papermill": {
     "duration": 0.04697,
     "end_time": "2022-10-29T14:08:26.127688",
     "exception": false,
     "start_time": "2022-10-29T14:08:26.080718",
     "status": "completed"
    },
    "tags": []
   },
   "outputs": [
    {
     "data": {
      "text/html": [
       "<div>\n",
       "<style scoped>\n",
       "    .dataframe tbody tr th:only-of-type {\n",
       "        vertical-align: middle;\n",
       "    }\n",
       "\n",
       "    .dataframe tbody tr th {\n",
       "        vertical-align: top;\n",
       "    }\n",
       "\n",
       "    .dataframe thead th {\n",
       "        text-align: right;\n",
       "    }\n",
       "</style>\n",
       "<table border=\"1\" class=\"dataframe\">\n",
       "  <thead>\n",
       "    <tr style=\"text-align: right;\">\n",
       "      <th></th>\n",
       "      <th>Unnamed: 0</th>\n",
       "      <th>reviewerName</th>\n",
       "      <th>overall</th>\n",
       "      <th>reviewText</th>\n",
       "      <th>reviewTime</th>\n",
       "      <th>day_diff</th>\n",
       "      <th>helpful_yes</th>\n",
       "      <th>helpful_no</th>\n",
       "      <th>total_vote</th>\n",
       "      <th>score_pos_neg_diff</th>\n",
       "      <th>score_average_rating</th>\n",
       "      <th>wilson_lower_bound</th>\n",
       "    </tr>\n",
       "  </thead>\n",
       "  <tbody>\n",
       "    <tr>\n",
       "      <th>0</th>\n",
       "      <td>0</td>\n",
       "      <td>NaN</td>\n",
       "      <td>4.0</td>\n",
       "      <td>No issues.</td>\n",
       "      <td>2014-07-23</td>\n",
       "      <td>138</td>\n",
       "      <td>0</td>\n",
       "      <td>0</td>\n",
       "      <td>0</td>\n",
       "      <td>0</td>\n",
       "      <td>0.0</td>\n",
       "      <td>0.0</td>\n",
       "    </tr>\n",
       "    <tr>\n",
       "      <th>1</th>\n",
       "      <td>1</td>\n",
       "      <td>0mie</td>\n",
       "      <td>5.0</td>\n",
       "      <td>Purchased this for my device, it worked as adv...</td>\n",
       "      <td>2013-10-25</td>\n",
       "      <td>409</td>\n",
       "      <td>0</td>\n",
       "      <td>0</td>\n",
       "      <td>0</td>\n",
       "      <td>0</td>\n",
       "      <td>0.0</td>\n",
       "      <td>0.0</td>\n",
       "    </tr>\n",
       "    <tr>\n",
       "      <th>2</th>\n",
       "      <td>2</td>\n",
       "      <td>1K3</td>\n",
       "      <td>4.0</td>\n",
       "      <td>it works as expected. I should have sprung for...</td>\n",
       "      <td>2012-12-23</td>\n",
       "      <td>715</td>\n",
       "      <td>0</td>\n",
       "      <td>0</td>\n",
       "      <td>0</td>\n",
       "      <td>0</td>\n",
       "      <td>0.0</td>\n",
       "      <td>0.0</td>\n",
       "    </tr>\n",
       "    <tr>\n",
       "      <th>3</th>\n",
       "      <td>3</td>\n",
       "      <td>1m2</td>\n",
       "      <td>5.0</td>\n",
       "      <td>This think has worked out great.Had a diff. br...</td>\n",
       "      <td>2013-11-21</td>\n",
       "      <td>382</td>\n",
       "      <td>0</td>\n",
       "      <td>0</td>\n",
       "      <td>0</td>\n",
       "      <td>0</td>\n",
       "      <td>0.0</td>\n",
       "      <td>0.0</td>\n",
       "    </tr>\n",
       "    <tr>\n",
       "      <th>4</th>\n",
       "      <td>4</td>\n",
       "      <td>2&amp;amp;1/2Men</td>\n",
       "      <td>5.0</td>\n",
       "      <td>Bought it with Retail Packaging, arrived legit...</td>\n",
       "      <td>2013-07-13</td>\n",
       "      <td>513</td>\n",
       "      <td>0</td>\n",
       "      <td>0</td>\n",
       "      <td>0</td>\n",
       "      <td>0</td>\n",
       "      <td>0.0</td>\n",
       "      <td>0.0</td>\n",
       "    </tr>\n",
       "  </tbody>\n",
       "</table>\n",
       "</div>"
      ],
      "text/plain": [
       "   Unnamed: 0  reviewerName  overall  \\\n",
       "0           0           NaN      4.0   \n",
       "1           1          0mie      5.0   \n",
       "2           2           1K3      4.0   \n",
       "3           3           1m2      5.0   \n",
       "4           4  2&amp;1/2Men      5.0   \n",
       "\n",
       "                                          reviewText  reviewTime  day_diff  \\\n",
       "0                                         No issues.  2014-07-23       138   \n",
       "1  Purchased this for my device, it worked as adv...  2013-10-25       409   \n",
       "2  it works as expected. I should have sprung for...  2012-12-23       715   \n",
       "3  This think has worked out great.Had a diff. br...  2013-11-21       382   \n",
       "4  Bought it with Retail Packaging, arrived legit...  2013-07-13       513   \n",
       "\n",
       "   helpful_yes  helpful_no  total_vote  score_pos_neg_diff  \\\n",
       "0            0           0           0                   0   \n",
       "1            0           0           0                   0   \n",
       "2            0           0           0                   0   \n",
       "3            0           0           0                   0   \n",
       "4            0           0           0                   0   \n",
       "\n",
       "   score_average_rating  wilson_lower_bound  \n",
       "0                   0.0                 0.0  \n",
       "1                   0.0                 0.0  \n",
       "2                   0.0                 0.0  \n",
       "3                   0.0                 0.0  \n",
       "4                   0.0                 0.0  "
      ]
     },
     "execution_count": 5,
     "metadata": {},
     "output_type": "execute_result"
    }
   ],
   "source": [
    "df.head()"
   ]
  },
  {
   "cell_type": "code",
   "execution_count": 6,
   "id": "1d20cf9a",
   "metadata": {
    "execution": {
     "iopub.execute_input": "2022-10-29T14:08:26.161922Z",
     "iopub.status.busy": "2022-10-29T14:08:26.161128Z",
     "iopub.status.idle": "2022-10-29T14:08:26.190253Z",
     "shell.execute_reply": "2022-10-29T14:08:26.188799Z"
    },
    "papermill": {
     "duration": 0.048898,
     "end_time": "2022-10-29T14:08:26.192675",
     "exception": false,
     "start_time": "2022-10-29T14:08:26.143777",
     "status": "completed"
    },
    "tags": []
   },
   "outputs": [
    {
     "name": "stdout",
     "output_type": "stream",
     "text": [
      "<class 'pandas.core.frame.DataFrame'>\n",
      "RangeIndex: 4915 entries, 0 to 4914\n",
      "Data columns (total 12 columns):\n",
      " #   Column                Non-Null Count  Dtype  \n",
      "---  ------                --------------  -----  \n",
      " 0   Unnamed: 0            4915 non-null   int64  \n",
      " 1   reviewerName          4914 non-null   object \n",
      " 2   overall               4915 non-null   float64\n",
      " 3   reviewText            4914 non-null   object \n",
      " 4   reviewTime            4915 non-null   object \n",
      " 5   day_diff              4915 non-null   int64  \n",
      " 6   helpful_yes           4915 non-null   int64  \n",
      " 7   helpful_no            4915 non-null   int64  \n",
      " 8   total_vote            4915 non-null   int64  \n",
      " 9   score_pos_neg_diff    4915 non-null   int64  \n",
      " 10  score_average_rating  4915 non-null   float64\n",
      " 11  wilson_lower_bound    4915 non-null   float64\n",
      "dtypes: float64(3), int64(6), object(3)\n",
      "memory usage: 460.9+ KB\n"
     ]
    }
   ],
   "source": [
    "df.info()"
   ]
  },
  {
   "cell_type": "code",
   "execution_count": 7,
   "id": "5098faaf",
   "metadata": {
    "execution": {
     "iopub.execute_input": "2022-10-29T14:08:26.227706Z",
     "iopub.status.busy": "2022-10-29T14:08:26.226328Z",
     "iopub.status.idle": "2022-10-29T14:08:26.270644Z",
     "shell.execute_reply": "2022-10-29T14:08:26.269474Z"
    },
    "papermill": {
     "duration": 0.065082,
     "end_time": "2022-10-29T14:08:26.273328",
     "exception": false,
     "start_time": "2022-10-29T14:08:26.208246",
     "status": "completed"
    },
    "tags": []
   },
   "outputs": [
    {
     "data": {
      "text/html": [
       "<div>\n",
       "<style scoped>\n",
       "    .dataframe tbody tr th:only-of-type {\n",
       "        vertical-align: middle;\n",
       "    }\n",
       "\n",
       "    .dataframe tbody tr th {\n",
       "        vertical-align: top;\n",
       "    }\n",
       "\n",
       "    .dataframe thead th {\n",
       "        text-align: right;\n",
       "    }\n",
       "</style>\n",
       "<table border=\"1\" class=\"dataframe\">\n",
       "  <thead>\n",
       "    <tr style=\"text-align: right;\">\n",
       "      <th></th>\n",
       "      <th>Unnamed: 0</th>\n",
       "      <th>overall</th>\n",
       "      <th>day_diff</th>\n",
       "      <th>helpful_yes</th>\n",
       "      <th>helpful_no</th>\n",
       "      <th>total_vote</th>\n",
       "      <th>score_pos_neg_diff</th>\n",
       "      <th>score_average_rating</th>\n",
       "      <th>wilson_lower_bound</th>\n",
       "    </tr>\n",
       "  </thead>\n",
       "  <tbody>\n",
       "    <tr>\n",
       "      <th>count</th>\n",
       "      <td>4915.000000</td>\n",
       "      <td>4915.000000</td>\n",
       "      <td>4915.000000</td>\n",
       "      <td>4915.000000</td>\n",
       "      <td>4915.000000</td>\n",
       "      <td>4915.000000</td>\n",
       "      <td>4915.000000</td>\n",
       "      <td>4915.000000</td>\n",
       "      <td>4915.000000</td>\n",
       "    </tr>\n",
       "    <tr>\n",
       "      <th>mean</th>\n",
       "      <td>2457.000000</td>\n",
       "      <td>4.587589</td>\n",
       "      <td>437.367040</td>\n",
       "      <td>1.311089</td>\n",
       "      <td>0.210376</td>\n",
       "      <td>1.521465</td>\n",
       "      <td>1.100712</td>\n",
       "      <td>0.075468</td>\n",
       "      <td>0.020053</td>\n",
       "    </tr>\n",
       "    <tr>\n",
       "      <th>std</th>\n",
       "      <td>1418.982617</td>\n",
       "      <td>0.996845</td>\n",
       "      <td>209.439871</td>\n",
       "      <td>41.619161</td>\n",
       "      <td>4.023296</td>\n",
       "      <td>44.123095</td>\n",
       "      <td>39.367949</td>\n",
       "      <td>0.256062</td>\n",
       "      <td>0.077187</td>\n",
       "    </tr>\n",
       "    <tr>\n",
       "      <th>min</th>\n",
       "      <td>0.000000</td>\n",
       "      <td>1.000000</td>\n",
       "      <td>1.000000</td>\n",
       "      <td>0.000000</td>\n",
       "      <td>0.000000</td>\n",
       "      <td>0.000000</td>\n",
       "      <td>-130.000000</td>\n",
       "      <td>0.000000</td>\n",
       "      <td>0.000000</td>\n",
       "    </tr>\n",
       "    <tr>\n",
       "      <th>25%</th>\n",
       "      <td>1228.500000</td>\n",
       "      <td>5.000000</td>\n",
       "      <td>281.000000</td>\n",
       "      <td>0.000000</td>\n",
       "      <td>0.000000</td>\n",
       "      <td>0.000000</td>\n",
       "      <td>0.000000</td>\n",
       "      <td>0.000000</td>\n",
       "      <td>0.000000</td>\n",
       "    </tr>\n",
       "    <tr>\n",
       "      <th>50%</th>\n",
       "      <td>2457.000000</td>\n",
       "      <td>5.000000</td>\n",
       "      <td>431.000000</td>\n",
       "      <td>0.000000</td>\n",
       "      <td>0.000000</td>\n",
       "      <td>0.000000</td>\n",
       "      <td>0.000000</td>\n",
       "      <td>0.000000</td>\n",
       "      <td>0.000000</td>\n",
       "    </tr>\n",
       "    <tr>\n",
       "      <th>75%</th>\n",
       "      <td>3685.500000</td>\n",
       "      <td>5.000000</td>\n",
       "      <td>601.000000</td>\n",
       "      <td>0.000000</td>\n",
       "      <td>0.000000</td>\n",
       "      <td>0.000000</td>\n",
       "      <td>0.000000</td>\n",
       "      <td>0.000000</td>\n",
       "      <td>0.000000</td>\n",
       "    </tr>\n",
       "    <tr>\n",
       "      <th>max</th>\n",
       "      <td>4914.000000</td>\n",
       "      <td>5.000000</td>\n",
       "      <td>1064.000000</td>\n",
       "      <td>1952.000000</td>\n",
       "      <td>183.000000</td>\n",
       "      <td>2020.000000</td>\n",
       "      <td>1884.000000</td>\n",
       "      <td>1.000000</td>\n",
       "      <td>0.957544</td>\n",
       "    </tr>\n",
       "  </tbody>\n",
       "</table>\n",
       "</div>"
      ],
      "text/plain": [
       "        Unnamed: 0      overall     day_diff  helpful_yes   helpful_no  \\\n",
       "count  4915.000000  4915.000000  4915.000000  4915.000000  4915.000000   \n",
       "mean   2457.000000     4.587589   437.367040     1.311089     0.210376   \n",
       "std    1418.982617     0.996845   209.439871    41.619161     4.023296   \n",
       "min       0.000000     1.000000     1.000000     0.000000     0.000000   \n",
       "25%    1228.500000     5.000000   281.000000     0.000000     0.000000   \n",
       "50%    2457.000000     5.000000   431.000000     0.000000     0.000000   \n",
       "75%    3685.500000     5.000000   601.000000     0.000000     0.000000   \n",
       "max    4914.000000     5.000000  1064.000000  1952.000000   183.000000   \n",
       "\n",
       "        total_vote  score_pos_neg_diff  score_average_rating  \\\n",
       "count  4915.000000         4915.000000           4915.000000   \n",
       "mean      1.521465            1.100712              0.075468   \n",
       "std      44.123095           39.367949              0.256062   \n",
       "min       0.000000         -130.000000              0.000000   \n",
       "25%       0.000000            0.000000              0.000000   \n",
       "50%       0.000000            0.000000              0.000000   \n",
       "75%       0.000000            0.000000              0.000000   \n",
       "max    2020.000000         1884.000000              1.000000   \n",
       "\n",
       "       wilson_lower_bound  \n",
       "count         4915.000000  \n",
       "mean             0.020053  \n",
       "std              0.077187  \n",
       "min              0.000000  \n",
       "25%              0.000000  \n",
       "50%              0.000000  \n",
       "75%              0.000000  \n",
       "max              0.957544  "
      ]
     },
     "execution_count": 7,
     "metadata": {},
     "output_type": "execute_result"
    }
   ],
   "source": [
    "df.describe()"
   ]
  },
  {
   "cell_type": "code",
   "execution_count": 8,
   "id": "55ad6c79",
   "metadata": {
    "execution": {
     "iopub.execute_input": "2022-10-29T14:08:26.307083Z",
     "iopub.status.busy": "2022-10-29T14:08:26.306673Z",
     "iopub.status.idle": "2022-10-29T14:08:26.317968Z",
     "shell.execute_reply": "2022-10-29T14:08:26.316880Z"
    },
    "papermill": {
     "duration": 0.030749,
     "end_time": "2022-10-29T14:08:26.320398",
     "exception": false,
     "start_time": "2022-10-29T14:08:26.289649",
     "status": "completed"
    },
    "tags": []
   },
   "outputs": [
    {
     "data": {
      "text/plain": [
       "Unnamed: 0              False\n",
       "reviewerName             True\n",
       "overall                 False\n",
       "reviewText               True\n",
       "reviewTime              False\n",
       "day_diff                False\n",
       "helpful_yes             False\n",
       "helpful_no              False\n",
       "total_vote              False\n",
       "score_pos_neg_diff      False\n",
       "score_average_rating    False\n",
       "wilson_lower_bound      False\n",
       "dtype: bool"
      ]
     },
     "execution_count": 8,
     "metadata": {},
     "output_type": "execute_result"
    }
   ],
   "source": [
    "df.isnull().any()"
   ]
  },
  {
   "cell_type": "code",
   "execution_count": 9,
   "id": "036bb813",
   "metadata": {
    "execution": {
     "iopub.execute_input": "2022-10-29T14:08:26.358769Z",
     "iopub.status.busy": "2022-10-29T14:08:26.358282Z",
     "iopub.status.idle": "2022-10-29T14:08:26.381620Z",
     "shell.execute_reply": "2022-10-29T14:08:26.380320Z"
    },
    "papermill": {
     "duration": 0.045363,
     "end_time": "2022-10-29T14:08:26.384208",
     "exception": false,
     "start_time": "2022-10-29T14:08:26.338845",
     "status": "completed"
    },
    "tags": []
   },
   "outputs": [
    {
     "data": {
      "text/html": [
       "<div>\n",
       "<style scoped>\n",
       "    .dataframe tbody tr th:only-of-type {\n",
       "        vertical-align: middle;\n",
       "    }\n",
       "\n",
       "    .dataframe tbody tr th {\n",
       "        vertical-align: top;\n",
       "    }\n",
       "\n",
       "    .dataframe thead th {\n",
       "        text-align: right;\n",
       "    }\n",
       "</style>\n",
       "<table border=\"1\" class=\"dataframe\">\n",
       "  <thead>\n",
       "    <tr style=\"text-align: right;\">\n",
       "      <th></th>\n",
       "      <th>Unnamed: 0</th>\n",
       "      <th>reviewerName</th>\n",
       "      <th>overall</th>\n",
       "      <th>reviewText</th>\n",
       "      <th>reviewTime</th>\n",
       "      <th>day_diff</th>\n",
       "      <th>helpful_yes</th>\n",
       "      <th>helpful_no</th>\n",
       "      <th>total_vote</th>\n",
       "      <th>score_pos_neg_diff</th>\n",
       "      <th>score_average_rating</th>\n",
       "      <th>wilson_lower_bound</th>\n",
       "    </tr>\n",
       "  </thead>\n",
       "  <tbody>\n",
       "    <tr>\n",
       "      <th>1</th>\n",
       "      <td>1</td>\n",
       "      <td>0mie</td>\n",
       "      <td>5.0</td>\n",
       "      <td>Purchased this for my device, it worked as adv...</td>\n",
       "      <td>2013-10-25</td>\n",
       "      <td>409</td>\n",
       "      <td>0</td>\n",
       "      <td>0</td>\n",
       "      <td>0</td>\n",
       "      <td>0</td>\n",
       "      <td>0.0</td>\n",
       "      <td>0.0</td>\n",
       "    </tr>\n",
       "    <tr>\n",
       "      <th>2</th>\n",
       "      <td>2</td>\n",
       "      <td>1K3</td>\n",
       "      <td>4.0</td>\n",
       "      <td>it works as expected. I should have sprung for...</td>\n",
       "      <td>2012-12-23</td>\n",
       "      <td>715</td>\n",
       "      <td>0</td>\n",
       "      <td>0</td>\n",
       "      <td>0</td>\n",
       "      <td>0</td>\n",
       "      <td>0.0</td>\n",
       "      <td>0.0</td>\n",
       "    </tr>\n",
       "    <tr>\n",
       "      <th>3</th>\n",
       "      <td>3</td>\n",
       "      <td>1m2</td>\n",
       "      <td>5.0</td>\n",
       "      <td>This think has worked out great.Had a diff. br...</td>\n",
       "      <td>2013-11-21</td>\n",
       "      <td>382</td>\n",
       "      <td>0</td>\n",
       "      <td>0</td>\n",
       "      <td>0</td>\n",
       "      <td>0</td>\n",
       "      <td>0.0</td>\n",
       "      <td>0.0</td>\n",
       "    </tr>\n",
       "    <tr>\n",
       "      <th>4</th>\n",
       "      <td>4</td>\n",
       "      <td>2&amp;amp;1/2Men</td>\n",
       "      <td>5.0</td>\n",
       "      <td>Bought it with Retail Packaging, arrived legit...</td>\n",
       "      <td>2013-07-13</td>\n",
       "      <td>513</td>\n",
       "      <td>0</td>\n",
       "      <td>0</td>\n",
       "      <td>0</td>\n",
       "      <td>0</td>\n",
       "      <td>0.0</td>\n",
       "      <td>0.0</td>\n",
       "    </tr>\n",
       "    <tr>\n",
       "      <th>5</th>\n",
       "      <td>5</td>\n",
       "      <td>2Cents!</td>\n",
       "      <td>5.0</td>\n",
       "      <td>It's mini storage.  It doesn't do anything els...</td>\n",
       "      <td>2013-04-29</td>\n",
       "      <td>588</td>\n",
       "      <td>0</td>\n",
       "      <td>0</td>\n",
       "      <td>0</td>\n",
       "      <td>0</td>\n",
       "      <td>0.0</td>\n",
       "      <td>0.0</td>\n",
       "    </tr>\n",
       "  </tbody>\n",
       "</table>\n",
       "</div>"
      ],
      "text/plain": [
       "   Unnamed: 0  reviewerName  overall  \\\n",
       "1           1          0mie      5.0   \n",
       "2           2           1K3      4.0   \n",
       "3           3           1m2      5.0   \n",
       "4           4  2&amp;1/2Men      5.0   \n",
       "5           5       2Cents!      5.0   \n",
       "\n",
       "                                          reviewText  reviewTime  day_diff  \\\n",
       "1  Purchased this for my device, it worked as adv...  2013-10-25       409   \n",
       "2  it works as expected. I should have sprung for...  2012-12-23       715   \n",
       "3  This think has worked out great.Had a diff. br...  2013-11-21       382   \n",
       "4  Bought it with Retail Packaging, arrived legit...  2013-07-13       513   \n",
       "5  It's mini storage.  It doesn't do anything els...  2013-04-29       588   \n",
       "\n",
       "   helpful_yes  helpful_no  total_vote  score_pos_neg_diff  \\\n",
       "1            0           0           0                   0   \n",
       "2            0           0           0                   0   \n",
       "3            0           0           0                   0   \n",
       "4            0           0           0                   0   \n",
       "5            0           0           0                   0   \n",
       "\n",
       "   score_average_rating  wilson_lower_bound  \n",
       "1                   0.0                 0.0  \n",
       "2                   0.0                 0.0  \n",
       "3                   0.0                 0.0  \n",
       "4                   0.0                 0.0  \n",
       "5                   0.0                 0.0  "
      ]
     },
     "execution_count": 9,
     "metadata": {},
     "output_type": "execute_result"
    }
   ],
   "source": [
    "df.dropna(inplace = True)\n",
    "df.head()"
   ]
  },
  {
   "cell_type": "code",
   "execution_count": 10,
   "id": "0efe9bb9",
   "metadata": {
    "execution": {
     "iopub.execute_input": "2022-10-29T14:08:26.418608Z",
     "iopub.status.busy": "2022-10-29T14:08:26.418189Z",
     "iopub.status.idle": "2022-10-29T14:08:26.430738Z",
     "shell.execute_reply": "2022-10-29T14:08:26.429568Z"
    },
    "papermill": {
     "duration": 0.03241,
     "end_time": "2022-10-29T14:08:26.433086",
     "exception": false,
     "start_time": "2022-10-29T14:08:26.400676",
     "status": "completed"
    },
    "tags": []
   },
   "outputs": [
    {
     "data": {
      "text/plain": [
       "Unnamed: 0              4913\n",
       "reviewerName            4913\n",
       "overall                 4913\n",
       "reviewText              4913\n",
       "reviewTime              4913\n",
       "day_diff                4913\n",
       "helpful_yes             4913\n",
       "helpful_no              4913\n",
       "total_vote              4913\n",
       "score_pos_neg_diff      4913\n",
       "score_average_rating    4913\n",
       "wilson_lower_bound      4913\n",
       "dtype: int64"
      ]
     },
     "execution_count": 10,
     "metadata": {},
     "output_type": "execute_result"
    }
   ],
   "source": [
    "df.count()"
   ]
  },
  {
   "cell_type": "code",
   "execution_count": 11,
   "id": "9bba9702",
   "metadata": {
    "execution": {
     "iopub.execute_input": "2022-10-29T14:08:26.467784Z",
     "iopub.status.busy": "2022-10-29T14:08:26.467266Z",
     "iopub.status.idle": "2022-10-29T14:08:26.475004Z",
     "shell.execute_reply": "2022-10-29T14:08:26.473787Z"
    },
    "papermill": {
     "duration": 0.027815,
     "end_time": "2022-10-29T14:08:26.477534",
     "exception": false,
     "start_time": "2022-10-29T14:08:26.449719",
     "status": "completed"
    },
    "tags": []
   },
   "outputs": [],
   "source": [
    "text = \" \".join(title for title in df['reviewText'])"
   ]
  },
  {
   "cell_type": "code",
   "execution_count": 12,
   "id": "5a0fe8ac",
   "metadata": {
    "execution": {
     "iopub.execute_input": "2022-10-29T14:08:26.513976Z",
     "iopub.status.busy": "2022-10-29T14:08:26.513055Z",
     "iopub.status.idle": "2022-10-29T14:08:27.326957Z",
     "shell.execute_reply": "2022-10-29T14:08:27.325662Z"
    },
    "papermill": {
     "duration": 0.83578,
     "end_time": "2022-10-29T14:08:27.330502",
     "exception": false,
     "start_time": "2022-10-29T14:08:26.494722",
     "status": "completed"
    },
    "tags": []
   },
   "outputs": [
    {
     "data": {
      "image/png": "[encoded data removed]",
      "text/plain": [
       "<Figure size 432x288 with 1 Axes>"
      ]
     },
     "metadata": {
      "needs_background": "light"
     },
     "output_type": "display_data"
    }
   ],
   "source": [
    "word_cloud = WordCloud(collocations = False, background_color = 'white').generate(text) # Display the generated Word Cloud \n",
    "plt.imshow(word_cloud, interpolation='bilinear') \n",
    "plt.axis(\"off\") \n",
    "plt.show()"
   ]
  },
  {
   "cell_type": "markdown",
   "id": "e3cceb0e",
   "metadata": {
    "papermill": {
     "duration": 0.017643,
     "end_time": "2022-10-29T14:08:27.366290",
     "exception": false,
     "start_time": "2022-10-29T14:08:27.348647",
     "status": "completed"
    },
    "tags": []
   },
   "source": [
    "**Visualizing the distributions of numerical variables:**"
   ]
  },
  {
   "cell_type": "code",
   "execution_count": 13,
   "id": "2da10023",
   "metadata": {
    "execution": {
     "iopub.execute_input": "2022-10-29T14:08:27.404864Z",
     "iopub.status.busy": "2022-10-29T14:08:27.404395Z",
     "iopub.status.idle": "2022-10-29T14:08:29.547040Z",
     "shell.execute_reply": "2022-10-29T14:08:29.545528Z"
    },
    "papermill": {
     "duration": 2.164894,
     "end_time": "2022-10-29T14:08:29.549777",
     "exception": false,
     "start_time": "2022-10-29T14:08:27.384883",
     "status": "completed"
    },
    "tags": []
   },
   "outputs": [
    {
     "data": {
      "image/png": "[encoded data removed]",
      "text/plain": [
       "<Figure size 1440x1080 with 9 Axes>"
      ]
     },
     "metadata": {
      "needs_background": "light"
     },
     "output_type": "display_data"
    }
   ],
   "source": [
    "df.hist(bins=50, figsize=(20,15)) # builds histogram and set the number of bins and fig size (width, height)\n",
    "plt.show()"
   ]
  },
  {
   "cell_type": "markdown",
   "id": "a9fb9aa8",
   "metadata": {
    "papermill": {
     "duration": 0.019202,
     "end_time": "2022-10-29T14:08:29.588776",
     "exception": false,
     "start_time": "2022-10-29T14:08:29.569574",
     "status": "completed"
    },
    "tags": []
   },
   "source": [
    "**Split into Train/Test**\n",
    "\n",
    "    Before we explore the dataset we're going to split it into training set and test sets\n",
    "    \n",
    "    Our goal is to eventually train a sentiment analysis classifier\n",
    "    \n",
    "    Since the majority of reviews are positive (5 stars), we will need to do a stratified split on the reviews score to ensure that we don't train the classifier on imbalanced data\n",
    "    \n",
    "    To use sklearn's Stratified ShuffleSplit class, we're going to remove all samples that have NAN in review score, then covert all review scores to integer datatype"
   ]
  },
  {
   "cell_type": "code",
   "execution_count": 14,
   "id": "5aa88470",
   "metadata": {
    "execution": {
     "iopub.execute_input": "2022-10-29T14:08:29.629373Z",
     "iopub.status.busy": "2022-10-29T14:08:29.628911Z",
     "iopub.status.idle": "2022-10-29T14:08:29.640235Z",
     "shell.execute_reply": "2022-10-29T14:08:29.638877Z"
    },
    "papermill": {
     "duration": 0.034573,
     "end_time": "2022-10-29T14:08:29.642821",
     "exception": false,
     "start_time": "2022-10-29T14:08:29.608248",
     "status": "completed"
    },
    "tags": []
   },
   "outputs": [
    {
     "name": "stdout",
     "output_type": "stream",
     "text": [
      "Before 4913\n",
      "After 4913\n"
     ]
    }
   ],
   "source": [
    "print(\"Before {}\".format(len(df)))\n",
    "dataAfter = df.dropna(subset=[\"overall\"]) # removes all NAN in reviews.rating\n",
    "print(\"After {}\".format(len(dataAfter)))\n",
    "dataAfter[\"overall\"] = dataAfter[\"overall\"].astype(int)"
   ]
  },
  {
   "cell_type": "code",
   "execution_count": 15,
   "id": "94716238",
   "metadata": {
    "execution": {
     "iopub.execute_input": "2022-10-29T14:08:29.685113Z",
     "iopub.status.busy": "2022-10-29T14:08:29.684686Z",
     "iopub.status.idle": "2022-10-29T14:08:29.707676Z",
     "shell.execute_reply": "2022-10-29T14:08:29.706327Z"
    },
    "papermill": {
     "duration": 0.047854,
     "end_time": "2022-10-29T14:08:29.710645",
     "exception": false,
     "start_time": "2022-10-29T14:08:29.662791",
     "status": "completed"
    },
    "tags": []
   },
   "outputs": [],
   "source": [
    "split = StratifiedShuffleSplit(n_splits=5, test_size=0.2)\n",
    "for train_index, test_index in split.split(dataAfter, dataAfter[\"overall\"]): \n",
    "    start_train = dataAfter.reindex(train_index)\n",
    "    start_test = dataAfter.reindex(test_index)"
   ]
  },
  {
   "cell_type": "markdown",
   "id": "db683435",
   "metadata": {
    "papermill": {
     "duration": 0.019206,
     "end_time": "2022-10-29T14:08:29.750379",
     "exception": false,
     "start_time": "2022-10-29T14:08:29.731173",
     "status": "completed"
    },
    "tags": []
   },
   "source": [
    "Check to see if train/test sets were stratified proportionately in comparison to raw data."
   ]
  },
  {
   "cell_type": "code",
   "execution_count": 16,
   "id": "0f501064",
   "metadata": {
    "execution": {
     "iopub.execute_input": "2022-10-29T14:08:29.790241Z",
     "iopub.status.busy": "2022-10-29T14:08:29.789857Z",
     "iopub.status.idle": "2022-10-29T14:08:29.797202Z",
     "shell.execute_reply": "2022-10-29T14:08:29.795851Z"
    },
    "papermill": {
     "duration": 0.030587,
     "end_time": "2022-10-29T14:08:29.800200",
     "exception": false,
     "start_time": "2022-10-29T14:08:29.769613",
     "status": "completed"
    },
    "tags": []
   },
   "outputs": [
    {
     "data": {
      "text/plain": [
       "3930"
      ]
     },
     "execution_count": 16,
     "metadata": {},
     "output_type": "execute_result"
    }
   ],
   "source": [
    "len(start_train)"
   ]
  },
  {
   "cell_type": "code",
   "execution_count": 17,
   "id": "95684c28",
   "metadata": {
    "execution": {
     "iopub.execute_input": "2022-10-29T14:08:29.841848Z",
     "iopub.status.busy": "2022-10-29T14:08:29.841392Z",
     "iopub.status.idle": "2022-10-29T14:08:29.853643Z",
     "shell.execute_reply": "2022-10-29T14:08:29.852236Z"
    },
    "papermill": {
     "duration": 0.035669,
     "end_time": "2022-10-29T14:08:29.856163",
     "exception": false,
     "start_time": "2022-10-29T14:08:29.820494",
     "status": "completed"
    },
    "tags": []
   },
   "outputs": [
    {
     "data": {
      "text/plain": [
       "5.0    0.798982\n",
       "4.0    0.108651\n",
       "1.0    0.046310\n",
       "3.0    0.030025\n",
       "2.0    0.015522\n",
       "Name: overall, dtype: float64"
      ]
     },
     "execution_count": 17,
     "metadata": {},
     "output_type": "execute_result"
    }
   ],
   "source": [
    "start_train[\"overall\"].value_counts()/len(start_train) # value_count() counts all the values based on column"
   ]
  },
  {
   "cell_type": "code",
   "execution_count": 18,
   "id": "5de8a9ce",
   "metadata": {
    "execution": {
     "iopub.execute_input": "2022-10-29T14:08:29.896236Z",
     "iopub.status.busy": "2022-10-29T14:08:29.895792Z",
     "iopub.status.idle": "2022-10-29T14:08:29.903318Z",
     "shell.execute_reply": "2022-10-29T14:08:29.902026Z"
    },
    "papermill": {
     "duration": 0.030231,
     "end_time": "2022-10-29T14:08:29.905508",
     "exception": false,
     "start_time": "2022-10-29T14:08:29.875277",
     "status": "completed"
    },
    "tags": []
   },
   "outputs": [
    {
     "data": {
      "text/plain": [
       "983"
      ]
     },
     "execution_count": 18,
     "metadata": {},
     "output_type": "execute_result"
    }
   ],
   "source": [
    "len(start_test)"
   ]
  },
  {
   "cell_type": "markdown",
   "id": "ee7bde62",
   "metadata": {
    "papermill": {
     "duration": 0.018695,
     "end_time": "2022-10-29T14:08:29.943380",
     "exception": false,
     "start_time": "2022-10-29T14:08:29.924685",
     "status": "completed"
    },
    "tags": []
   },
   "source": [
    "**Data Exploration (Training Set)**"
   ]
  },
  {
   "cell_type": "code",
   "execution_count": 19,
   "id": "65c75aa1",
   "metadata": {
    "execution": {
     "iopub.execute_input": "2022-10-29T14:08:29.985530Z",
     "iopub.status.busy": "2022-10-29T14:08:29.984239Z",
     "iopub.status.idle": "2022-10-29T14:08:30.008268Z",
     "shell.execute_reply": "2022-10-29T14:08:30.007303Z"
    },
    "papermill": {
     "duration": 0.04754,
     "end_time": "2022-10-29T14:08:30.010732",
     "exception": false,
     "start_time": "2022-10-29T14:08:29.963192",
     "status": "completed"
    },
    "tags": []
   },
   "outputs": [
    {
     "data": {
      "text/html": [
       "<div>\n",
       "<style scoped>\n",
       "    .dataframe tbody tr th:only-of-type {\n",
       "        vertical-align: middle;\n",
       "    }\n",
       "\n",
       "    .dataframe tbody tr th {\n",
       "        vertical-align: top;\n",
       "    }\n",
       "\n",
       "    .dataframe thead th {\n",
       "        text-align: right;\n",
       "    }\n",
       "</style>\n",
       "<table border=\"1\" class=\"dataframe\">\n",
       "  <thead>\n",
       "    <tr style=\"text-align: right;\">\n",
       "      <th></th>\n",
       "      <th>Unnamed: 0</th>\n",
       "      <th>reviewerName</th>\n",
       "      <th>overall</th>\n",
       "      <th>reviewText</th>\n",
       "      <th>reviewTime</th>\n",
       "      <th>day_diff</th>\n",
       "      <th>helpful_yes</th>\n",
       "      <th>helpful_no</th>\n",
       "      <th>total_vote</th>\n",
       "      <th>score_pos_neg_diff</th>\n",
       "      <th>score_average_rating</th>\n",
       "      <th>wilson_lower_bound</th>\n",
       "    </tr>\n",
       "  </thead>\n",
       "  <tbody>\n",
       "    <tr>\n",
       "      <th>4051</th>\n",
       "      <td>4051.0</td>\n",
       "      <td>S. Andersom</td>\n",
       "      <td>5.0</td>\n",
       "      <td>This is what I needed for my tablet and it wor...</td>\n",
       "      <td>2013-03-01</td>\n",
       "      <td>647.0</td>\n",
       "      <td>0.0</td>\n",
       "      <td>0.0</td>\n",
       "      <td>0.0</td>\n",
       "      <td>0.0</td>\n",
       "      <td>0.0</td>\n",
       "      <td>0.0</td>\n",
       "    </tr>\n",
       "    <tr>\n",
       "      <th>4435</th>\n",
       "      <td>4435.0</td>\n",
       "      <td>Tebowned</td>\n",
       "      <td>5.0</td>\n",
       "      <td>Love it, use it to store videos and photos on ...</td>\n",
       "      <td>2013-07-18</td>\n",
       "      <td>508.0</td>\n",
       "      <td>0.0</td>\n",
       "      <td>0.0</td>\n",
       "      <td>0.0</td>\n",
       "      <td>0.0</td>\n",
       "      <td>0.0</td>\n",
       "      <td>0.0</td>\n",
       "    </tr>\n",
       "    <tr>\n",
       "      <th>4118</th>\n",
       "      <td>4118.0</td>\n",
       "      <td>Sean P</td>\n",
       "      <td>4.0</td>\n",
       "      <td>The card works with a Galaxy Note 2.  Install ...</td>\n",
       "      <td>2013-04-28</td>\n",
       "      <td>589.0</td>\n",
       "      <td>0.0</td>\n",
       "      <td>0.0</td>\n",
       "      <td>0.0</td>\n",
       "      <td>0.0</td>\n",
       "      <td>0.0</td>\n",
       "      <td>0.0</td>\n",
       "    </tr>\n",
       "    <tr>\n",
       "      <th>3265</th>\n",
       "      <td>3265.0</td>\n",
       "      <td>M. Metras \"metras3\"</td>\n",
       "      <td>5.0</td>\n",
       "      <td>My first computer had 64k of RAM.I just put th...</td>\n",
       "      <td>2014-01-19</td>\n",
       "      <td>323.0</td>\n",
       "      <td>0.0</td>\n",
       "      <td>0.0</td>\n",
       "      <td>0.0</td>\n",
       "      <td>0.0</td>\n",
       "      <td>0.0</td>\n",
       "      <td>0.0</td>\n",
       "    </tr>\n",
       "    <tr>\n",
       "      <th>88</th>\n",
       "      <td>88.0</td>\n",
       "      <td>A. Gutierrez</td>\n",
       "      <td>5.0</td>\n",
       "      <td>THis memory helps me to keep all what I want t...</td>\n",
       "      <td>2014-04-21</td>\n",
       "      <td>231.0</td>\n",
       "      <td>0.0</td>\n",
       "      <td>0.0</td>\n",
       "      <td>0.0</td>\n",
       "      <td>0.0</td>\n",
       "      <td>0.0</td>\n",
       "      <td>0.0</td>\n",
       "    </tr>\n",
       "  </tbody>\n",
       "</table>\n",
       "</div>"
      ],
      "text/plain": [
       "      Unnamed: 0         reviewerName  overall  \\\n",
       "4051      4051.0          S. Andersom      5.0   \n",
       "4435      4435.0             Tebowned      5.0   \n",
       "4118      4118.0               Sean P      4.0   \n",
       "3265      3265.0  M. Metras \"metras3\"      5.0   \n",
       "88          88.0         A. Gutierrez      5.0   \n",
       "\n",
       "                                             reviewText  reviewTime  day_diff  \\\n",
       "4051  This is what I needed for my tablet and it wor...  2013-03-01     647.0   \n",
       "4435  Love it, use it to store videos and photos on ...  2013-07-18     508.0   \n",
       "4118  The card works with a Galaxy Note 2.  Install ...  2013-04-28     589.0   \n",
       "3265  My first computer had 64k of RAM.I just put th...  2014-01-19     323.0   \n",
       "88    THis memory helps me to keep all what I want t...  2014-04-21     231.0   \n",
       "\n",
       "      helpful_yes  helpful_no  total_vote  score_pos_neg_diff  \\\n",
       "4051          0.0         0.0         0.0                 0.0   \n",
       "4435          0.0         0.0         0.0                 0.0   \n",
       "4118          0.0         0.0         0.0                 0.0   \n",
       "3265          0.0         0.0         0.0                 0.0   \n",
       "88            0.0         0.0         0.0                 0.0   \n",
       "\n",
       "      score_average_rating  wilson_lower_bound  \n",
       "4051                   0.0                 0.0  \n",
       "4435                   0.0                 0.0  \n",
       "4118                   0.0                 0.0  \n",
       "3265                   0.0                 0.0  \n",
       "88                     0.0                 0.0  "
      ]
     },
     "execution_count": 19,
     "metadata": {},
     "output_type": "execute_result"
    }
   ],
   "source": [
    "reviews = start_train.copy()\n",
    "reviews.head()"
   ]
  },
  {
   "cell_type": "code",
   "execution_count": 20,
   "id": "65b7af49",
   "metadata": {
    "execution": {
     "iopub.execute_input": "2022-10-29T14:08:30.056104Z",
     "iopub.status.busy": "2022-10-29T14:08:30.055356Z",
     "iopub.status.idle": "2022-10-29T14:08:30.070749Z",
     "shell.execute_reply": "2022-10-29T14:08:30.069270Z"
    },
    "papermill": {
     "duration": 0.041066,
     "end_time": "2022-10-29T14:08:30.073235",
     "exception": false,
     "start_time": "2022-10-29T14:08:30.032169",
     "status": "completed"
    },
    "tags": []
   },
   "outputs": [
    {
     "name": "stdout",
     "output_type": "stream",
     "text": [
      "<class 'pandas.core.frame.DataFrame'>\n",
      "Int64Index: 3930 entries, 4051 to 1363\n",
      "Data columns (total 12 columns):\n",
      " #   Column                Non-Null Count  Dtype  \n",
      "---  ------                --------------  -----  \n",
      " 0   Unnamed: 0            3928 non-null   float64\n",
      " 1   reviewerName          3928 non-null   object \n",
      " 2   overall               3928 non-null   float64\n",
      " 3   reviewText            3928 non-null   object \n",
      " 4   reviewTime            3928 non-null   object \n",
      " 5   day_diff              3928 non-null   float64\n",
      " 6   helpful_yes           3928 non-null   float64\n",
      " 7   helpful_no            3928 non-null   float64\n",
      " 8   total_vote            3928 non-null   float64\n",
      " 9   score_pos_neg_diff    3928 non-null   float64\n",
      " 10  score_average_rating  3928 non-null   float64\n",
      " 11  wilson_lower_bound    3928 non-null   float64\n",
      "dtypes: float64(9), object(3)\n",
      "memory usage: 399.1+ KB\n"
     ]
    }
   ],
   "source": [
    "reviews.info()"
   ]
  },
  {
   "cell_type": "markdown",
   "id": "87da73e0",
   "metadata": {
    "papermill": {
     "duration": 0.019111,
     "end_time": "2022-10-29T14:08:30.113115",
     "exception": false,
     "start_time": "2022-10-29T14:08:30.094004",
     "status": "completed"
    },
    "tags": []
   },
   "source": [
    "**Correlations**"
   ]
  },
  {
   "cell_type": "code",
   "execution_count": 21,
   "id": "be8c0586",
   "metadata": {
    "execution": {
     "iopub.execute_input": "2022-10-29T14:08:30.154026Z",
     "iopub.status.busy": "2022-10-29T14:08:30.153311Z",
     "iopub.status.idle": "2022-10-29T14:08:30.176388Z",
     "shell.execute_reply": "2022-10-29T14:08:30.175201Z"
    },
    "papermill": {
     "duration": 0.046405,
     "end_time": "2022-10-29T14:08:30.178963",
     "exception": false,
     "start_time": "2022-10-29T14:08:30.132558",
     "status": "completed"
    },
    "tags": []
   },
   "outputs": [
    {
     "data": {
      "text/html": [
       "<div>\n",
       "<style scoped>\n",
       "    .dataframe tbody tr th:only-of-type {\n",
       "        vertical-align: middle;\n",
       "    }\n",
       "\n",
       "    .dataframe tbody tr th {\n",
       "        vertical-align: top;\n",
       "    }\n",
       "\n",
       "    .dataframe thead th {\n",
       "        text-align: right;\n",
       "    }\n",
       "</style>\n",
       "<table border=\"1\" class=\"dataframe\">\n",
       "  <thead>\n",
       "    <tr style=\"text-align: right;\">\n",
       "      <th></th>\n",
       "      <th>Unnamed: 0</th>\n",
       "      <th>overall</th>\n",
       "      <th>day_diff</th>\n",
       "      <th>helpful_yes</th>\n",
       "      <th>helpful_no</th>\n",
       "      <th>total_vote</th>\n",
       "      <th>score_pos_neg_diff</th>\n",
       "      <th>score_average_rating</th>\n",
       "      <th>wilson_lower_bound</th>\n",
       "    </tr>\n",
       "  </thead>\n",
       "  <tbody>\n",
       "    <tr>\n",
       "      <th>Unnamed: 0</th>\n",
       "      <td>1.000000</td>\n",
       "      <td>-0.021307</td>\n",
       "      <td>-0.006492</td>\n",
       "      <td>0.010285</td>\n",
       "      <td>0.012922</td>\n",
       "      <td>0.010877</td>\n",
       "      <td>0.009556</td>\n",
       "      <td>0.009999</td>\n",
       "      <td>0.008861</td>\n",
       "    </tr>\n",
       "    <tr>\n",
       "      <th>overall</th>\n",
       "      <td>-0.021307</td>\n",
       "      <td>1.000000</td>\n",
       "      <td>-0.086658</td>\n",
       "      <td>-0.035916</td>\n",
       "      <td>-0.068787</td>\n",
       "      <td>-0.040133</td>\n",
       "      <td>-0.030964</td>\n",
       "      <td>-0.148449</td>\n",
       "      <td>-0.139130</td>\n",
       "    </tr>\n",
       "    <tr>\n",
       "      <th>day_diff</th>\n",
       "      <td>-0.006492</td>\n",
       "      <td>-0.086658</td>\n",
       "      <td>1.000000</td>\n",
       "      <td>0.042055</td>\n",
       "      <td>0.028467</td>\n",
       "      <td>0.042264</td>\n",
       "      <td>0.041552</td>\n",
       "      <td>0.123100</td>\n",
       "      <td>0.133789</td>\n",
       "    </tr>\n",
       "    <tr>\n",
       "      <th>helpful_yes</th>\n",
       "      <td>0.010285</td>\n",
       "      <td>-0.035916</td>\n",
       "      <td>0.042055</td>\n",
       "      <td>1.000000</td>\n",
       "      <td>0.592542</td>\n",
       "      <td>0.997322</td>\n",
       "      <td>0.996638</td>\n",
       "      <td>0.111980</td>\n",
       "      <td>0.359538</td>\n",
       "    </tr>\n",
       "    <tr>\n",
       "      <th>helpful_no</th>\n",
       "      <td>0.012922</td>\n",
       "      <td>-0.068787</td>\n",
       "      <td>0.028467</td>\n",
       "      <td>0.592542</td>\n",
       "      <td>1.000000</td>\n",
       "      <td>0.649870</td>\n",
       "      <td>0.524555</td>\n",
       "      <td>0.088263</td>\n",
       "      <td>0.281037</td>\n",
       "    </tr>\n",
       "    <tr>\n",
       "      <th>total_vote</th>\n",
       "      <td>0.010877</td>\n",
       "      <td>-0.040133</td>\n",
       "      <td>0.042264</td>\n",
       "      <td>0.997322</td>\n",
       "      <td>0.649870</td>\n",
       "      <td>1.000000</td>\n",
       "      <td>0.987977</td>\n",
       "      <td>0.113669</td>\n",
       "      <td>0.364749</td>\n",
       "    </tr>\n",
       "    <tr>\n",
       "      <th>score_pos_neg_diff</th>\n",
       "      <td>0.009556</td>\n",
       "      <td>-0.030964</td>\n",
       "      <td>0.041552</td>\n",
       "      <td>0.996638</td>\n",
       "      <td>0.524555</td>\n",
       "      <td>0.987977</td>\n",
       "      <td>1.000000</td>\n",
       "      <td>0.109375</td>\n",
       "      <td>0.351414</td>\n",
       "    </tr>\n",
       "    <tr>\n",
       "      <th>score_average_rating</th>\n",
       "      <td>0.009999</td>\n",
       "      <td>-0.148449</td>\n",
       "      <td>0.123100</td>\n",
       "      <td>0.111980</td>\n",
       "      <td>0.088263</td>\n",
       "      <td>0.113669</td>\n",
       "      <td>0.109375</td>\n",
       "      <td>1.000000</td>\n",
       "      <td>0.867688</td>\n",
       "    </tr>\n",
       "    <tr>\n",
       "      <th>wilson_lower_bound</th>\n",
       "      <td>0.008861</td>\n",
       "      <td>-0.139130</td>\n",
       "      <td>0.133789</td>\n",
       "      <td>0.359538</td>\n",
       "      <td>0.281037</td>\n",
       "      <td>0.364749</td>\n",
       "      <td>0.351414</td>\n",
       "      <td>0.867688</td>\n",
       "      <td>1.000000</td>\n",
       "    </tr>\n",
       "  </tbody>\n",
       "</table>\n",
       "</div>"
      ],
      "text/plain": [
       "                      Unnamed: 0   overall  day_diff  helpful_yes  helpful_no  \\\n",
       "Unnamed: 0              1.000000 -0.021307 -0.006492     0.010285    0.012922   \n",
       "overall                -0.021307  1.000000 -0.086658    -0.035916   -0.068787   \n",
       "day_diff               -0.006492 -0.086658  1.000000     0.042055    0.028467   \n",
       "helpful_yes             0.010285 -0.035916  0.042055     1.000000    0.592542   \n",
       "helpful_no              0.012922 -0.068787  0.028467     0.592542    1.000000   \n",
       "total_vote              0.010877 -0.040133  0.042264     0.997322    0.649870   \n",
       "score_pos_neg_diff      0.009556 -0.030964  0.041552     0.996638    0.524555   \n",
       "score_average_rating    0.009999 -0.148449  0.123100     0.111980    0.088263   \n",
       "wilson_lower_bound      0.008861 -0.139130  0.133789     0.359538    0.281037   \n",
       "\n",
       "                      total_vote  score_pos_neg_diff  score_average_rating  \\\n",
       "Unnamed: 0              0.010877            0.009556              0.009999   \n",
       "overall                -0.040133           -0.030964             -0.148449   \n",
       "day_diff                0.042264            0.041552              0.123100   \n",
       "helpful_yes             0.997322            0.996638              0.111980   \n",
       "helpful_no              0.649870            0.524555              0.088263   \n",
       "total_vote              1.000000            0.987977              0.113669   \n",
       "score_pos_neg_diff      0.987977            1.000000              0.109375   \n",
       "score_average_rating    0.113669            0.109375              1.000000   \n",
       "wilson_lower_bound      0.364749            0.351414              0.867688   \n",
       "\n",
       "                      wilson_lower_bound  \n",
       "Unnamed: 0                      0.008861  \n",
       "overall                        -0.139130  \n",
       "day_diff                        0.133789  \n",
       "helpful_yes                     0.359538  \n",
       "helpful_no                      0.281037  \n",
       "total_vote                      0.364749  \n",
       "score_pos_neg_diff              0.351414  \n",
       "score_average_rating            0.867688  \n",
       "wilson_lower_bound              1.000000  "
      ]
     },
     "execution_count": 21,
     "metadata": {},
     "output_type": "execute_result"
    }
   ],
   "source": [
    "corr_matrix = reviews.corr()\n",
    "corr_matrix"
   ]
  },
  {
   "cell_type": "code",
   "execution_count": 22,
   "id": "891ff975",
   "metadata": {
    "execution": {
     "iopub.execute_input": "2022-10-29T14:08:30.220987Z",
     "iopub.status.busy": "2022-10-29T14:08:30.220560Z",
     "iopub.status.idle": "2022-10-29T14:08:30.236914Z",
     "shell.execute_reply": "2022-10-29T14:08:30.235159Z"
    },
    "papermill": {
     "duration": 0.040324,
     "end_time": "2022-10-29T14:08:30.239469",
     "exception": false,
     "start_time": "2022-10-29T14:08:30.199145",
     "status": "completed"
    },
    "tags": []
   },
   "outputs": [
    {
     "name": "stdout",
     "output_type": "stream",
     "text": [
      "<class 'pandas.core.frame.DataFrame'>\n",
      "Int64Index: 3930 entries, 4051 to 1363\n",
      "Data columns (total 12 columns):\n",
      " #   Column                Non-Null Count  Dtype  \n",
      "---  ------                --------------  -----  \n",
      " 0   Unnamed: 0            3928 non-null   float64\n",
      " 1   reviewerName          3928 non-null   object \n",
      " 2   overall               3928 non-null   float64\n",
      " 3   reviewText            3928 non-null   object \n",
      " 4   reviewTime            3928 non-null   object \n",
      " 5   day_diff              3928 non-null   float64\n",
      " 6   helpful_yes           3928 non-null   float64\n",
      " 7   helpful_no            3928 non-null   float64\n",
      " 8   total_vote            3928 non-null   float64\n",
      " 9   score_pos_neg_diff    3928 non-null   float64\n",
      " 10  score_average_rating  3928 non-null   float64\n",
      " 11  wilson_lower_bound    3928 non-null   float64\n",
      "dtypes: float64(9), object(3)\n",
      "memory usage: 399.1+ KB\n"
     ]
    }
   ],
   "source": [
    "reviews.info()"
   ]
  },
  {
   "cell_type": "markdown",
   "id": "cc2e4b77",
   "metadata": {
    "papermill": {
     "duration": 0.020178,
     "end_time": "2022-10-29T14:08:30.281787",
     "exception": false,
     "start_time": "2022-10-29T14:08:30.261609",
     "status": "completed"
    },
    "tags": []
   },
   "source": [
    "**Sentiment Analysis on Number Based Reviews**"
   ]
  },
  {
   "cell_type": "markdown",
   "id": "1f59d0bc",
   "metadata": {
    "papermill": {
     "duration": 0.020053,
     "end_time": "2022-10-29T14:08:30.321802",
     "exception": false,
     "start_time": "2022-10-29T14:08:30.301749",
     "status": "completed"
    },
    "tags": []
   },
   "source": [
    "**Set Target Variable (Sentiments)**\n",
    "\n",
    "    Segregate ratings from 1-5 into positive, neutral, and negative."
   ]
  },
  {
   "cell_type": "code",
   "execution_count": 23,
   "id": "151666d8",
   "metadata": {
    "execution": {
     "iopub.execute_input": "2022-10-29T14:08:30.365677Z",
     "iopub.status.busy": "2022-10-29T14:08:30.365183Z",
     "iopub.status.idle": "2022-10-29T14:08:30.380875Z",
     "shell.execute_reply": "2022-10-29T14:08:30.379314Z"
    },
    "papermill": {
     "duration": 0.041121,
     "end_time": "2022-10-29T14:08:30.383443",
     "exception": false,
     "start_time": "2022-10-29T14:08:30.342322",
     "status": "completed"
    },
    "tags": []
   },
   "outputs": [
    {
     "data": {
      "text/plain": [
       "4051    Positive\n",
       "4435    Positive\n",
       "4118    Positive\n",
       "3265    Positive\n",
       "88      Positive\n",
       "1265    Positive\n",
       "3974    Positive\n",
       "2452    Positive\n",
       "259     Positive\n",
       "1277    Positive\n",
       "548     Positive\n",
       "354     Positive\n",
       "568     Positive\n",
       "2734    Positive\n",
       "4613    Positive\n",
       "311     Positive\n",
       "3916    Positive\n",
       "1218    Positive\n",
       "1119    Positive\n",
       "2069    Positive\n",
       "Name: Sentiment, dtype: object"
      ]
     },
     "execution_count": 23,
     "metadata": {},
     "output_type": "execute_result"
    }
   ],
   "source": [
    "def sentiments(rating):\n",
    "    if (rating == 5) or (rating == 4):\n",
    "        return \"Positive\"\n",
    "    elif rating == 3:\n",
    "        return \"Neutral\"\n",
    "    elif (rating == 2) or (rating == 1) or (rating == 0):\n",
    "        return \"Negative\"\n",
    "# Add sentiments to the data\n",
    "start_train[\"Sentiment\"] = start_train[\"overall\"].apply(sentiments)\n",
    "start_test[\"Sentiment\"] = start_test[\"overall\"].apply(sentiments)\n",
    "start_train[\"Sentiment\"][:20]"
   ]
  },
  {
   "cell_type": "code",
   "execution_count": 24,
   "id": "a40cab17",
   "metadata": {
    "execution": {
     "iopub.execute_input": "2022-10-29T14:08:30.426280Z",
     "iopub.status.busy": "2022-10-29T14:08:30.425814Z",
     "iopub.status.idle": "2022-10-29T14:08:30.439465Z",
     "shell.execute_reply": "2022-10-29T14:08:30.438179Z"
    },
    "papermill": {
     "duration": 0.038005,
     "end_time": "2022-10-29T14:08:30.442084",
     "exception": false,
     "start_time": "2022-10-29T14:08:30.404079",
     "status": "completed"
    },
    "tags": []
   },
   "outputs": [
    {
     "data": {
      "text/html": [
       "<div>\n",
       "<style scoped>\n",
       "    .dataframe tbody tr th:only-of-type {\n",
       "        vertical-align: middle;\n",
       "    }\n",
       "\n",
       "    .dataframe tbody tr th {\n",
       "        vertical-align: top;\n",
       "    }\n",
       "\n",
       "    .dataframe thead th {\n",
       "        text-align: right;\n",
       "    }\n",
       "</style>\n",
       "<table border=\"1\" class=\"dataframe\">\n",
       "  <thead>\n",
       "    <tr style=\"text-align: right;\">\n",
       "      <th></th>\n",
       "      <th>reviewText</th>\n",
       "      <th>overall</th>\n",
       "    </tr>\n",
       "  </thead>\n",
       "  <tbody>\n",
       "    <tr>\n",
       "      <th>1</th>\n",
       "      <td>Purchased this for my device, it worked as adv...</td>\n",
       "      <td>5.0</td>\n",
       "    </tr>\n",
       "    <tr>\n",
       "      <th>2</th>\n",
       "      <td>it works as expected. I should have sprung for...</td>\n",
       "      <td>4.0</td>\n",
       "    </tr>\n",
       "    <tr>\n",
       "      <th>3</th>\n",
       "      <td>This think has worked out great.Had a diff. br...</td>\n",
       "      <td>5.0</td>\n",
       "    </tr>\n",
       "    <tr>\n",
       "      <th>4</th>\n",
       "      <td>Bought it with Retail Packaging, arrived legit...</td>\n",
       "      <td>5.0</td>\n",
       "    </tr>\n",
       "    <tr>\n",
       "      <th>5</th>\n",
       "      <td>It's mini storage.  It doesn't do anything els...</td>\n",
       "      <td>5.0</td>\n",
       "    </tr>\n",
       "  </tbody>\n",
       "</table>\n",
       "</div>"
      ],
      "text/plain": [
       "                                          reviewText  overall\n",
       "1  Purchased this for my device, it worked as adv...      5.0\n",
       "2  it works as expected. I should have sprung for...      4.0\n",
       "3  This think has worked out great.Had a diff. br...      5.0\n",
       "4  Bought it with Retail Packaging, arrived legit...      5.0\n",
       "5  It's mini storage.  It doesn't do anything els...      5.0"
      ]
     },
     "execution_count": 24,
     "metadata": {},
     "output_type": "execute_result"
    }
   ],
   "source": [
    "review=df[['reviewText','overall']]\n",
    "review.head()"
   ]
  },
  {
   "cell_type": "code",
   "execution_count": 25,
   "id": "b3f6dc97",
   "metadata": {
    "execution": {
     "iopub.execute_input": "2022-10-29T14:08:30.484858Z",
     "iopub.status.busy": "2022-10-29T14:08:30.484157Z",
     "iopub.status.idle": "2022-10-29T14:08:30.495561Z",
     "shell.execute_reply": "2022-10-29T14:08:30.494501Z"
    },
    "papermill": {
     "duration": 0.035208,
     "end_time": "2022-10-29T14:08:30.497733",
     "exception": false,
     "start_time": "2022-10-29T14:08:30.462525",
     "status": "completed"
    },
    "tags": []
   },
   "outputs": [
    {
     "data": {
      "text/plain": [
       "reviewText    0.0\n",
       "overall       0.0\n",
       "dtype: float64"
      ]
     },
     "execution_count": 25,
     "metadata": {},
     "output_type": "execute_result"
    }
   ],
   "source": [
    "round(review.isnull().sum().sort_values(ascending=False)*100/len(review),2)"
   ]
  },
  {
   "cell_type": "code",
   "execution_count": 26,
   "id": "551d4edc",
   "metadata": {
    "execution": {
     "iopub.execute_input": "2022-10-29T14:08:30.540052Z",
     "iopub.status.busy": "2022-10-29T14:08:30.539286Z",
     "iopub.status.idle": "2022-10-29T14:08:30.553432Z",
     "shell.execute_reply": "2022-10-29T14:08:30.552254Z"
    },
    "papermill": {
     "duration": 0.038539,
     "end_time": "2022-10-29T14:08:30.556194",
     "exception": false,
     "start_time": "2022-10-29T14:08:30.517655",
     "status": "completed"
    },
    "tags": []
   },
   "outputs": [
    {
     "data": {
      "text/html": [
       "<div>\n",
       "<style scoped>\n",
       "    .dataframe tbody tr th:only-of-type {\n",
       "        vertical-align: middle;\n",
       "    }\n",
       "\n",
       "    .dataframe tbody tr th {\n",
       "        vertical-align: top;\n",
       "    }\n",
       "\n",
       "    .dataframe thead th {\n",
       "        text-align: right;\n",
       "    }\n",
       "</style>\n",
       "<table border=\"1\" class=\"dataframe\">\n",
       "  <thead>\n",
       "    <tr style=\"text-align: right;\">\n",
       "      <th></th>\n",
       "      <th>reviewText</th>\n",
       "      <th>overall</th>\n",
       "    </tr>\n",
       "  </thead>\n",
       "  <tbody>\n",
       "    <tr>\n",
       "      <th>1</th>\n",
       "      <td>Purchased this for my device, it worked as adv...</td>\n",
       "      <td>5.0</td>\n",
       "    </tr>\n",
       "    <tr>\n",
       "      <th>2</th>\n",
       "      <td>it works as expected. I should have sprung for...</td>\n",
       "      <td>4.0</td>\n",
       "    </tr>\n",
       "    <tr>\n",
       "      <th>3</th>\n",
       "      <td>This think has worked out great.Had a diff. br...</td>\n",
       "      <td>5.0</td>\n",
       "    </tr>\n",
       "    <tr>\n",
       "      <th>4</th>\n",
       "      <td>Bought it with Retail Packaging, arrived legit...</td>\n",
       "      <td>5.0</td>\n",
       "    </tr>\n",
       "    <tr>\n",
       "      <th>5</th>\n",
       "      <td>It's mini storage.  It doesn't do anything els...</td>\n",
       "      <td>5.0</td>\n",
       "    </tr>\n",
       "  </tbody>\n",
       "</table>\n",
       "</div>"
      ],
      "text/plain": [
       "                                          reviewText  overall\n",
       "1  Purchased this for my device, it worked as adv...      5.0\n",
       "2  it works as expected. I should have sprung for...      4.0\n",
       "3  This think has worked out great.Had a diff. br...      5.0\n",
       "4  Bought it with Retail Packaging, arrived legit...      5.0\n",
       "5  It's mini storage.  It doesn't do anything els...      5.0"
      ]
     },
     "execution_count": 26,
     "metadata": {},
     "output_type": "execute_result"
    }
   ],
   "source": [
    "review=review.dropna()\n",
    "review.head()"
   ]
  },
  {
   "cell_type": "code",
   "execution_count": 27,
   "id": "e8400376",
   "metadata": {
    "execution": {
     "iopub.execute_input": "2022-10-29T14:08:30.601262Z",
     "iopub.status.busy": "2022-10-29T14:08:30.599978Z",
     "iopub.status.idle": "2022-10-29T14:08:30.609177Z",
     "shell.execute_reply": "2022-10-29T14:08:30.607928Z"
    },
    "papermill": {
     "duration": 0.034707,
     "end_time": "2022-10-29T14:08:30.611917",
     "exception": false,
     "start_time": "2022-10-29T14:08:30.577210",
     "status": "completed"
    },
    "tags": []
   },
   "outputs": [
    {
     "data": {
      "text/plain": [
       "array([5., 4., 3., 1., 2.])"
      ]
     },
     "execution_count": 27,
     "metadata": {},
     "output_type": "execute_result"
    }
   ],
   "source": [
    "review['overall'].unique()"
   ]
  },
  {
   "cell_type": "code",
   "execution_count": 28,
   "id": "1142ff7a",
   "metadata": {
    "execution": {
     "iopub.execute_input": "2022-10-29T14:08:30.654872Z",
     "iopub.status.busy": "2022-10-29T14:08:30.654488Z",
     "iopub.status.idle": "2022-10-29T14:08:30.663363Z",
     "shell.execute_reply": "2022-10-29T14:08:30.662293Z"
    },
    "papermill": {
     "duration": 0.033295,
     "end_time": "2022-10-29T14:08:30.665908",
     "exception": false,
     "start_time": "2022-10-29T14:08:30.632613",
     "status": "completed"
    },
    "tags": []
   },
   "outputs": [
    {
     "data": {
      "text/plain": [
       "5.0    3921\n",
       "4.0     526\n",
       "1.0     244\n",
       "3.0     142\n",
       "2.0      80\n",
       "Name: overall, dtype: int64"
      ]
     },
     "execution_count": 28,
     "metadata": {},
     "output_type": "execute_result"
    }
   ],
   "source": [
    "review.overall.value_counts()"
   ]
  },
  {
   "cell_type": "code",
   "execution_count": 29,
   "id": "d53a65b7",
   "metadata": {
    "execution": {
     "iopub.execute_input": "2022-10-29T14:08:30.709680Z",
     "iopub.status.busy": "2022-10-29T14:08:30.708549Z",
     "iopub.status.idle": "2022-10-29T14:08:30.723624Z",
     "shell.execute_reply": "2022-10-29T14:08:30.722354Z"
    },
    "papermill": {
     "duration": 0.039213,
     "end_time": "2022-10-29T14:08:30.726124",
     "exception": false,
     "start_time": "2022-10-29T14:08:30.686911",
     "status": "completed"
    },
    "tags": []
   },
   "outputs": [
    {
     "data": {
      "text/html": [
       "<div>\n",
       "<style scoped>\n",
       "    .dataframe tbody tr th:only-of-type {\n",
       "        vertical-align: middle;\n",
       "    }\n",
       "\n",
       "    .dataframe tbody tr th {\n",
       "        vertical-align: top;\n",
       "    }\n",
       "\n",
       "    .dataframe thead th {\n",
       "        text-align: right;\n",
       "    }\n",
       "</style>\n",
       "<table border=\"1\" class=\"dataframe\">\n",
       "  <thead>\n",
       "    <tr style=\"text-align: right;\">\n",
       "      <th></th>\n",
       "      <th>reviewText</th>\n",
       "      <th>overall</th>\n",
       "      <th>encoded_cat</th>\n",
       "    </tr>\n",
       "  </thead>\n",
       "  <tbody>\n",
       "    <tr>\n",
       "      <th>1</th>\n",
       "      <td>Purchased this for my device, it worked as adv...</td>\n",
       "      <td>5.0</td>\n",
       "      <td>4</td>\n",
       "    </tr>\n",
       "    <tr>\n",
       "      <th>2</th>\n",
       "      <td>it works as expected. I should have sprung for...</td>\n",
       "      <td>4.0</td>\n",
       "      <td>3</td>\n",
       "    </tr>\n",
       "    <tr>\n",
       "      <th>3</th>\n",
       "      <td>This think has worked out great.Had a diff. br...</td>\n",
       "      <td>5.0</td>\n",
       "      <td>4</td>\n",
       "    </tr>\n",
       "    <tr>\n",
       "      <th>4</th>\n",
       "      <td>Bought it with Retail Packaging, arrived legit...</td>\n",
       "      <td>5.0</td>\n",
       "      <td>4</td>\n",
       "    </tr>\n",
       "    <tr>\n",
       "      <th>5</th>\n",
       "      <td>It's mini storage.  It doesn't do anything els...</td>\n",
       "      <td>5.0</td>\n",
       "      <td>4</td>\n",
       "    </tr>\n",
       "  </tbody>\n",
       "</table>\n",
       "</div>"
      ],
      "text/plain": [
       "                                          reviewText  overall  encoded_cat\n",
       "1  Purchased this for my device, it worked as adv...      5.0            4\n",
       "2  it works as expected. I should have sprung for...      4.0            3\n",
       "3  This think has worked out great.Had a diff. br...      5.0            4\n",
       "4  Bought it with Retail Packaging, arrived legit...      5.0            4\n",
       "5  It's mini storage.  It doesn't do anything els...      5.0            4"
      ]
     },
     "execution_count": 29,
     "metadata": {},
     "output_type": "execute_result"
    }
   ],
   "source": [
    "review['encoded_cat'] = review.overall.astype('category').cat.codes\n",
    "review.head()"
   ]
  },
  {
   "cell_type": "code",
   "execution_count": 30,
   "id": "ff3fb8f5",
   "metadata": {
    "execution": {
     "iopub.execute_input": "2022-10-29T14:08:30.771796Z",
     "iopub.status.busy": "2022-10-29T14:08:30.771355Z",
     "iopub.status.idle": "2022-10-29T14:08:30.779148Z",
     "shell.execute_reply": "2022-10-29T14:08:30.778038Z"
    },
    "papermill": {
     "duration": 0.033688,
     "end_time": "2022-10-29T14:08:30.781484",
     "exception": false,
     "start_time": "2022-10-29T14:08:30.747796",
     "status": "completed"
    },
    "tags": []
   },
   "outputs": [],
   "source": [
    "def preprocess_review_text(review):\n",
    "    \"\"\"\n",
    "    Function to process the the review text and tranform it into format usable by Machine learning models\n",
    "    \"\"\"\n",
    "    \n",
    "    # to convert all the characters of the review into lower case alphabets\n",
    "    review.lower()\n",
    "    \n",
    "    # Remove urls from the reviews\n",
    "    review = re.sub(r\"http\\S+|www\\S+|https\\S+\", '', review, flags=re.MULTILINE)\n",
    "    \n",
    "    # Remove user related references from the reviews:: '@' and '#' \n",
    "    review = re.sub(r'\\@\\w+|\\#','', review)\n",
    "    \n",
    "    # Remove punctuations from the reviews\n",
    "    review = review.translate(str.maketrans('', '', string.punctuation))\n",
    "    \n",
    "    # Remove stopwords from the reviews\n",
    "    review_tokens = word_tokenize(review)\n",
    "    filtered_words = [w for w in review_tokens if not w in stop_words]\n",
    "    joined_text = \" \".join(filtered_words)\n",
    "    \n",
    "    return joined_text"
   ]
  },
  {
   "cell_type": "code",
   "execution_count": 31,
   "id": "29791655",
   "metadata": {
    "execution": {
     "iopub.execute_input": "2022-10-29T14:08:30.824890Z",
     "iopub.status.busy": "2022-10-29T14:08:30.823857Z",
     "iopub.status.idle": "2022-10-29T14:08:30.829820Z",
     "shell.execute_reply": "2022-10-29T14:08:30.828659Z"
    },
    "papermill": {
     "duration": 0.030054,
     "end_time": "2022-10-29T14:08:30.832070",
     "exception": false,
     "start_time": "2022-10-29T14:08:30.802016",
     "status": "completed"
    },
    "tags": []
   },
   "outputs": [],
   "source": [
    "def get_feature_vector(train_fit):\n",
    "    \"\"\"\n",
    "    Function to Convert a collection of raw documents to a matrix of TF-IDF features.\n",
    "    TF-IDF - Term Frequency Inverse Documnet Frequency\n",
    "    \"\"\"\n",
    "    \n",
    "    vector = TfidfVectorizer(sublinear_tf=True)      # Defining the vector\n",
    "    vector.fit(train_fit)                            # fitting the data into the vector\n",
    "    return vector                                    # returning the vector as function call"
   ]
  },
  {
   "cell_type": "code",
   "execution_count": 32,
   "id": "46b0c937",
   "metadata": {
    "execution": {
     "iopub.execute_input": "2022-10-29T14:08:30.874920Z",
     "iopub.status.busy": "2022-10-29T14:08:30.874527Z",
     "iopub.status.idle": "2022-10-29T14:08:32.130817Z",
     "shell.execute_reply": "2022-10-29T14:08:32.129449Z"
    },
    "papermill": {
     "duration": 1.280941,
     "end_time": "2022-10-29T14:08:32.133460",
     "exception": false,
     "start_time": "2022-10-29T14:08:30.852519",
     "status": "completed"
    },
    "tags": []
   },
   "outputs": [
    {
     "name": "stdout",
     "output_type": "stream",
     "text": [
      "Processed text :: \n",
      "\n",
      " 1       Purchased device worked advertised You never m...\n",
      "2       works expected I sprung higher capacity I thin...\n",
      "3       This think worked greatHad diff bran 64gb card...\n",
      "4       Bought Retail Packaging arrived legit orange e...\n",
      "5       Its mini storage It doesnt anything else suppo...\n",
      "                              ...                        \n",
      "4910    I bought Sandisk 16GB Class 10 use HTC Inspire...\n",
      "4911    Used extending capabilities Samsung Galaxy Not...\n",
      "4912    Great card fast reliable It comes optional ada...\n",
      "4913    Good amount space stuff I want fits GoPro What...\n",
      "4914    Ive heard bad things 64gb Micro SD card crappi...\n",
      "Name: reviewText, Length: 4913, dtype: object\n"
     ]
    }
   ],
   "source": [
    "processed_text = df['reviewText'].apply(preprocess_review_text)\n",
    "\n",
    "print(\"Processed text :: \\n\\n\", processed_text)"
   ]
  },
  {
   "cell_type": "code",
   "execution_count": 33,
   "id": "0e3333bc",
   "metadata": {
    "execution": {
     "iopub.execute_input": "2022-10-29T14:08:32.176934Z",
     "iopub.status.busy": "2022-10-29T14:08:32.176510Z",
     "iopub.status.idle": "2022-10-29T14:08:32.491710Z",
     "shell.execute_reply": "2022-10-29T14:08:32.490494Z"
    },
    "papermill": {
     "duration": 0.34007,
     "end_time": "2022-10-29T14:08:32.494377",
     "exception": false,
     "start_time": "2022-10-29T14:08:32.154307",
     "status": "completed"
    },
    "tags": []
   },
   "outputs": [],
   "source": [
    "stemmer = PorterStemmer()\n",
    "\n",
    "stemmed_words = [stemmer.stem(i) for i in processed_text]"
   ]
  },
  {
   "cell_type": "code",
   "execution_count": 34,
   "id": "385a12be",
   "metadata": {
    "execution": {
     "iopub.execute_input": "2022-10-29T14:08:32.539741Z",
     "iopub.status.busy": "2022-10-29T14:08:32.539294Z",
     "iopub.status.idle": "2022-10-29T14:08:34.565755Z",
     "shell.execute_reply": "2022-10-29T14:08:34.564483Z"
    },
    "papermill": {
     "duration": 2.052514,
     "end_time": "2022-10-29T14:08:34.568390",
     "exception": false,
     "start_time": "2022-10-29T14:08:32.515876",
     "status": "completed"
    },
    "tags": []
   },
   "outputs": [],
   "source": [
    "lemmatizer = WordNetLemmatizer()\n",
    "lemma_words = [lemmatizer.lemmatize(w, pos='a') for w in stemmed_words]"
   ]
  },
  {
   "cell_type": "code",
   "execution_count": 35,
   "id": "36a71389",
   "metadata": {
    "execution": {
     "iopub.execute_input": "2022-10-29T14:08:34.612378Z",
     "iopub.status.busy": "2022-10-29T14:08:34.611910Z",
     "iopub.status.idle": "2022-10-29T14:08:34.843115Z",
     "shell.execute_reply": "2022-10-29T14:08:34.842108Z"
    },
    "papermill": {
     "duration": 0.256613,
     "end_time": "2022-10-29T14:08:34.845716",
     "exception": false,
     "start_time": "2022-10-29T14:08:34.589103",
     "status": "completed"
    },
    "tags": []
   },
   "outputs": [],
   "source": [
    "tf_vector = get_feature_vector(np.array(df[\"reviewText\"]).ravel())"
   ]
  },
  {
   "cell_type": "code",
   "execution_count": 36,
   "id": "c13fb904",
   "metadata": {
    "execution": {
     "iopub.execute_input": "2022-10-29T14:08:34.888960Z",
     "iopub.status.busy": "2022-10-29T14:08:34.888575Z",
     "iopub.status.idle": "2022-10-29T14:08:35.097260Z",
     "shell.execute_reply": "2022-10-29T14:08:35.095909Z"
    },
    "papermill": {
     "duration": 0.233626,
     "end_time": "2022-10-29T14:08:35.099988",
     "exception": false,
     "start_time": "2022-10-29T14:08:34.866362",
     "status": "completed"
    },
    "tags": []
   },
   "outputs": [],
   "source": [
    "X = tf_vector.transform(np.array(review[\"reviewText\"]).ravel())     # Predictor Variable\n",
    "y = np.array(review[\"encoded_cat\"]).ravel()"
   ]
  },
  {
   "cell_type": "code",
   "execution_count": 37,
   "id": "10b93b20",
   "metadata": {
    "execution": {
     "iopub.execute_input": "2022-10-29T14:08:35.143504Z",
     "iopub.status.busy": "2022-10-29T14:08:35.143040Z",
     "iopub.status.idle": "2022-10-29T14:08:35.151357Z",
     "shell.execute_reply": "2022-10-29T14:08:35.150407Z"
    },
    "papermill": {
     "duration": 0.033064,
     "end_time": "2022-10-29T14:08:35.153835",
     "exception": false,
     "start_time": "2022-10-29T14:08:35.120771",
     "status": "completed"
    },
    "tags": []
   },
   "outputs": [],
   "source": [
    "X_train, X_test, y_train, y_test = train_test_split(X, y, test_size=0.2, random_state=30)"
   ]
  },
  {
   "cell_type": "code",
   "execution_count": 38,
   "id": "9a277b2e",
   "metadata": {
    "execution": {
     "iopub.execute_input": "2022-10-29T14:08:35.196741Z",
     "iopub.status.busy": "2022-10-29T14:08:35.195983Z",
     "iopub.status.idle": "2022-10-29T14:08:35.209820Z",
     "shell.execute_reply": "2022-10-29T14:08:35.208753Z"
    },
    "papermill": {
     "duration": 0.038025,
     "end_time": "2022-10-29T14:08:35.212355",
     "exception": false,
     "start_time": "2022-10-29T14:08:35.174330",
     "status": "completed"
    },
    "tags": []
   },
   "outputs": [
    {
     "data": {
      "text/plain": [
       "MultinomialNB()"
      ]
     },
     "execution_count": 38,
     "metadata": {},
     "output_type": "execute_result"
    }
   ],
   "source": [
    "NB_model = MultinomialNB()\n",
    "\n",
    "NB_model.fit(X_train, y_train)\n"
   ]
  },
  {
   "cell_type": "code",
   "execution_count": 39,
   "id": "4b44d1b8",
   "metadata": {
    "execution": {
     "iopub.execute_input": "2022-10-29T14:08:35.256474Z",
     "iopub.status.busy": "2022-10-29T14:08:35.256026Z",
     "iopub.status.idle": "2022-10-29T14:08:35.263163Z",
     "shell.execute_reply": "2022-10-29T14:08:35.262031Z"
    },
    "papermill": {
     "duration": 0.031329,
     "end_time": "2022-10-29T14:08:35.265355",
     "exception": false,
     "start_time": "2022-10-29T14:08:35.234026",
     "status": "completed"
    },
    "tags": []
   },
   "outputs": [
    {
     "name": "stdout",
     "output_type": "stream",
     "text": [
      "Accuracy Score for Naive Bayes Model is ::  0.7863682604272635\n"
     ]
    }
   ],
   "source": [
    "y_predict_nb = NB_model.predict(X_test)\n",
    "\n",
    "print(\"Accuracy Score for Naive Bayes Model is :: \", accuracy_score(y_test, y_predict_nb))"
   ]
  },
  {
   "cell_type": "code",
   "execution_count": 40,
   "id": "edeaf8ec",
   "metadata": {
    "execution": {
     "iopub.execute_input": "2022-10-29T14:08:35.309068Z",
     "iopub.status.busy": "2022-10-29T14:08:35.308352Z",
     "iopub.status.idle": "2022-10-29T14:08:35.319716Z",
     "shell.execute_reply": "2022-10-29T14:08:35.318576Z"
    },
    "papermill": {
     "duration": 0.036333,
     "end_time": "2022-10-29T14:08:35.322356",
     "exception": false,
     "start_time": "2022-10-29T14:08:35.286023",
     "status": "completed"
    },
    "tags": []
   },
   "outputs": [
    {
     "name": "stdout",
     "output_type": "stream",
     "text": [
      "Classification_Report :: \n",
      "\n",
      "               precision    recall  f1-score   support\n",
      "\n",
      "           0       0.00      0.00      0.00        48\n",
      "           1       0.00      0.00      0.00        20\n",
      "           2       0.00      0.00      0.00        24\n",
      "           3       0.00      0.00      0.00       117\n",
      "           4       0.79      1.00      0.88       774\n",
      "\n",
      "    accuracy                           0.79       983\n",
      "   macro avg       0.16      0.20      0.18       983\n",
      "weighted avg       0.62      0.79      0.69       983\n",
      "\n"
     ]
    },
    {
     "name": "stderr",
     "output_type": "stream",
     "text": [
      "/opt/conda/lib/python3.7/site-packages/sklearn/metrics/_classification.py:1318: UndefinedMetricWarning:\n",
      "\n",
      "Precision and F-score are ill-defined and being set to 0.0 in labels with no predicted samples. Use `zero_division` parameter to control this behavior.\n",
      "\n",
      "/opt/conda/lib/python3.7/site-packages/sklearn/metrics/_classification.py:1318: UndefinedMetricWarning:\n",
      "\n",
      "Precision and F-score are ill-defined and being set to 0.0 in labels with no predicted samples. Use `zero_division` parameter to control this behavior.\n",
      "\n",
      "/opt/conda/lib/python3.7/site-packages/sklearn/metrics/_classification.py:1318: UndefinedMetricWarning:\n",
      "\n",
      "Precision and F-score are ill-defined and being set to 0.0 in labels with no predicted samples. Use `zero_division` parameter to control this behavior.\n",
      "\n"
     ]
    }
   ],
   "source": [
    "print(\"Classification_Report :: \\n\\n\", classification_report(y_test, y_predict_nb))"
   ]
  },
  {
   "cell_type": "code",
   "execution_count": 41,
   "id": "c1359289",
   "metadata": {
    "execution": {
     "iopub.execute_input": "2022-10-29T14:08:35.366200Z",
     "iopub.status.busy": "2022-10-29T14:08:35.365635Z",
     "iopub.status.idle": "2022-10-29T14:08:37.372731Z",
     "shell.execute_reply": "2022-10-29T14:08:37.371555Z"
    },
    "papermill": {
     "duration": 2.03359,
     "end_time": "2022-10-29T14:08:37.376943",
     "exception": false,
     "start_time": "2022-10-29T14:08:35.343353",
     "status": "completed"
    },
    "tags": []
   },
   "outputs": [
    {
     "data": {
      "text/plain": [
       "LogisticRegression()"
      ]
     },
     "execution_count": 41,
     "metadata": {},
     "output_type": "execute_result"
    }
   ],
   "source": [
    "# Training Logistics Regression model\n",
    "LR_model = LogisticRegression(solver='lbfgs')\n",
    "LR_model.fit(X_train, y_train)"
   ]
  },
  {
   "cell_type": "code",
   "execution_count": 42,
   "id": "5ef71f86",
   "metadata": {
    "execution": {
     "iopub.execute_input": "2022-10-29T14:08:37.504079Z",
     "iopub.status.busy": "2022-10-29T14:08:37.503661Z",
     "iopub.status.idle": "2022-10-29T14:08:37.511467Z",
     "shell.execute_reply": "2022-10-29T14:08:37.510287Z"
    },
    "papermill": {
     "duration": 0.036593,
     "end_time": "2022-10-29T14:08:37.515186",
     "exception": false,
     "start_time": "2022-10-29T14:08:37.478593",
     "status": "completed"
    },
    "tags": []
   },
   "outputs": [
    {
     "name": "stdout",
     "output_type": "stream",
     "text": [
      "Accuracy Score for Logistic Regression Model is ::  0.797558494404883\n"
     ]
    }
   ],
   "source": [
    "y_predict_lr = LR_model.predict(X_test)\n",
    "\n",
    "print(\"Accuracy Score for Logistic Regression Model is :: \",accuracy_score(y_test, y_predict_lr))"
   ]
  },
  {
   "cell_type": "code",
   "execution_count": 43,
   "id": "604638a2",
   "metadata": {
    "execution": {
     "iopub.execute_input": "2022-10-29T14:08:37.561569Z",
     "iopub.status.busy": "2022-10-29T14:08:37.560523Z",
     "iopub.status.idle": "2022-10-29T14:08:37.572341Z",
     "shell.execute_reply": "2022-10-29T14:08:37.570674Z"
    },
    "papermill": {
     "duration": 0.037394,
     "end_time": "2022-10-29T14:08:37.574749",
     "exception": false,
     "start_time": "2022-10-29T14:08:37.537355",
     "status": "completed"
    },
    "tags": []
   },
   "outputs": [
    {
     "name": "stdout",
     "output_type": "stream",
     "text": [
      "Classification_Report :: \n",
      "\n",
      "               precision    recall  f1-score   support\n",
      "\n",
      "           0       0.65      0.23      0.34        48\n",
      "           1       0.00      0.00      0.00        20\n",
      "           2       0.00      0.00      0.00        24\n",
      "           3       0.00      0.00      0.00       117\n",
      "           4       0.80      1.00      0.89       774\n",
      "\n",
      "    accuracy                           0.80       983\n",
      "   macro avg       0.29      0.25      0.25       983\n",
      "weighted avg       0.66      0.80      0.72       983\n",
      "\n"
     ]
    },
    {
     "name": "stderr",
     "output_type": "stream",
     "text": [
      "/opt/conda/lib/python3.7/site-packages/sklearn/metrics/_classification.py:1318: UndefinedMetricWarning:\n",
      "\n",
      "Precision and F-score are ill-defined and being set to 0.0 in labels with no predicted samples. Use `zero_division` parameter to control this behavior.\n",
      "\n",
      "/opt/conda/lib/python3.7/site-packages/sklearn/metrics/_classification.py:1318: UndefinedMetricWarning:\n",
      "\n",
      "Precision and F-score are ill-defined and being set to 0.0 in labels with no predicted samples. Use `zero_division` parameter to control this behavior.\n",
      "\n",
      "/opt/conda/lib/python3.7/site-packages/sklearn/metrics/_classification.py:1318: UndefinedMetricWarning:\n",
      "\n",
      "Precision and F-score are ill-defined and being set to 0.0 in labels with no predicted samples. Use `zero_division` parameter to control this behavior.\n",
      "\n"
     ]
    }
   ],
   "source": [
    "from sklearn.metrics import classification_report\n",
    "\n",
    "print(\"Classification_Report :: \\n\\n\", classification_report(y_test, y_predict_lr))"
   ]
  },
  {
   "cell_type": "code",
   "execution_count": 44,
   "id": "743e3d13",
   "metadata": {
    "execution": {
     "iopub.execute_input": "2022-10-29T14:08:37.619788Z",
     "iopub.status.busy": "2022-10-29T14:08:37.618970Z",
     "iopub.status.idle": "2022-10-29T14:08:37.630117Z",
     "shell.execute_reply": "2022-10-29T14:08:37.628921Z"
    },
    "papermill": {
     "duration": 0.036379,
     "end_time": "2022-10-29T14:08:37.632583",
     "exception": false,
     "start_time": "2022-10-29T14:08:37.596204",
     "status": "completed"
    },
    "tags": []
   },
   "outputs": [
    {
     "data": {
      "text/plain": [
       "5.0    79.81\n",
       "4.0    10.71\n",
       "1.0     4.97\n",
       "3.0     2.89\n",
       "2.0     1.63\n",
       "Name: overall, dtype: float64"
      ]
     },
     "execution_count": 44,
     "metadata": {},
     "output_type": "execute_result"
    }
   ],
   "source": [
    "round(df['overall'].value_counts()*100/len(df),2)"
   ]
  },
  {
   "cell_type": "code",
   "execution_count": 45,
   "id": "f85cb25b",
   "metadata": {
    "execution": {
     "iopub.execute_input": "2022-10-29T14:08:37.682026Z",
     "iopub.status.busy": "2022-10-29T14:08:37.681614Z",
     "iopub.status.idle": "2022-10-29T14:08:37.701917Z",
     "shell.execute_reply": "2022-10-29T14:08:37.700560Z"
    },
    "papermill": {
     "duration": 0.048026,
     "end_time": "2022-10-29T14:08:37.704763",
     "exception": false,
     "start_time": "2022-10-29T14:08:37.656737",
     "status": "completed"
    },
    "tags": []
   },
   "outputs": [
    {
     "data": {
      "text/html": [
       "<div>\n",
       "<style scoped>\n",
       "    .dataframe tbody tr th:only-of-type {\n",
       "        vertical-align: middle;\n",
       "    }\n",
       "\n",
       "    .dataframe tbody tr th {\n",
       "        vertical-align: top;\n",
       "    }\n",
       "\n",
       "    .dataframe thead th {\n",
       "        text-align: right;\n",
       "    }\n",
       "</style>\n",
       "<table border=\"1\" class=\"dataframe\">\n",
       "  <thead>\n",
       "    <tr style=\"text-align: right;\">\n",
       "      <th></th>\n",
       "      <th>reviewerName</th>\n",
       "      <th>overall</th>\n",
       "      <th>reviewText</th>\n",
       "      <th>reviewTime</th>\n",
       "      <th>day_diff</th>\n",
       "      <th>helpful_yes</th>\n",
       "      <th>helpful_no</th>\n",
       "      <th>total_vote</th>\n",
       "      <th>score_pos_neg_diff</th>\n",
       "      <th>score_average_rating</th>\n",
       "      <th>wilson_lower_bound</th>\n",
       "    </tr>\n",
       "  </thead>\n",
       "  <tbody>\n",
       "    <tr>\n",
       "      <th>2031</th>\n",
       "      <td>Hyoun Kim \"Faluzure\"</td>\n",
       "      <td>5.0</td>\n",
       "      <td>[[ UPDATE - 6/19/2014 ]]So my lovely wife boug...</td>\n",
       "      <td>2013-01-05</td>\n",
       "      <td>702</td>\n",
       "      <td>1952</td>\n",
       "      <td>68</td>\n",
       "      <td>2020</td>\n",
       "      <td>1884</td>\n",
       "      <td>0.966337</td>\n",
       "      <td>0.957544</td>\n",
       "    </tr>\n",
       "    <tr>\n",
       "      <th>3449</th>\n",
       "      <td>NLee the Engineer</td>\n",
       "      <td>5.0</td>\n",
       "      <td>I have tested dozens of SDHC and micro-SDHC ca...</td>\n",
       "      <td>2012-09-26</td>\n",
       "      <td>803</td>\n",
       "      <td>1428</td>\n",
       "      <td>77</td>\n",
       "      <td>1505</td>\n",
       "      <td>1351</td>\n",
       "      <td>0.948837</td>\n",
       "      <td>0.936519</td>\n",
       "    </tr>\n",
       "    <tr>\n",
       "      <th>4212</th>\n",
       "      <td>SkincareCEO</td>\n",
       "      <td>1.0</td>\n",
       "      <td>NOTE:  please read the last update (scroll to ...</td>\n",
       "      <td>2013-05-08</td>\n",
       "      <td>579</td>\n",
       "      <td>1568</td>\n",
       "      <td>126</td>\n",
       "      <td>1694</td>\n",
       "      <td>1442</td>\n",
       "      <td>0.925620</td>\n",
       "      <td>0.912139</td>\n",
       "    </tr>\n",
       "    <tr>\n",
       "      <th>317</th>\n",
       "      <td>Amazon Customer \"Kelly\"</td>\n",
       "      <td>1.0</td>\n",
       "      <td>If your card gets hot enough to be painful, it...</td>\n",
       "      <td>2012-02-09</td>\n",
       "      <td>1033</td>\n",
       "      <td>422</td>\n",
       "      <td>73</td>\n",
       "      <td>495</td>\n",
       "      <td>349</td>\n",
       "      <td>0.852525</td>\n",
       "      <td>0.818577</td>\n",
       "    </tr>\n",
       "    <tr>\n",
       "      <th>4672</th>\n",
       "      <td>Twister</td>\n",
       "      <td>5.0</td>\n",
       "      <td>Sandisk announcement of the first 128GB micro ...</td>\n",
       "      <td>2014-07-03</td>\n",
       "      <td>158</td>\n",
       "      <td>45</td>\n",
       "      <td>4</td>\n",
       "      <td>49</td>\n",
       "      <td>41</td>\n",
       "      <td>0.918367</td>\n",
       "      <td>0.808109</td>\n",
       "    </tr>\n",
       "  </tbody>\n",
       "</table>\n",
       "</div>"
      ],
      "text/plain": [
       "                 reviewerName  overall  \\\n",
       "2031     Hyoun Kim \"Faluzure\"      5.0   \n",
       "3449        NLee the Engineer      5.0   \n",
       "4212              SkincareCEO      1.0   \n",
       "317   Amazon Customer \"Kelly\"      1.0   \n",
       "4672                  Twister      5.0   \n",
       "\n",
       "                                             reviewText  reviewTime  day_diff  \\\n",
       "2031  [[ UPDATE - 6/19/2014 ]]So my lovely wife boug...  2013-01-05       702   \n",
       "3449  I have tested dozens of SDHC and micro-SDHC ca...  2012-09-26       803   \n",
       "4212  NOTE:  please read the last update (scroll to ...  2013-05-08       579   \n",
       "317   If your card gets hot enough to be painful, it...  2012-02-09      1033   \n",
       "4672  Sandisk announcement of the first 128GB micro ...  2014-07-03       158   \n",
       "\n",
       "      helpful_yes  helpful_no  total_vote  score_pos_neg_diff  \\\n",
       "2031         1952          68        2020                1884   \n",
       "3449         1428          77        1505                1351   \n",
       "4212         1568         126        1694                1442   \n",
       "317           422          73         495                 349   \n",
       "4672           45           4          49                  41   \n",
       "\n",
       "      score_average_rating  wilson_lower_bound  \n",
       "2031              0.966337            0.957544  \n",
       "3449              0.948837            0.936519  \n",
       "4212              0.925620            0.912139  \n",
       "317               0.852525            0.818577  \n",
       "4672              0.918367            0.808109  "
      ]
     },
     "execution_count": 45,
     "metadata": {},
     "output_type": "execute_result"
    }
   ],
   "source": [
    "df = df.sort_values(\"wilson_lower_bound\", ascending=False)\n",
    "df.drop('Unnamed: 0', inplace = True, axis = 1)\n",
    "df.head()"
   ]
  },
  {
   "cell_type": "code",
   "execution_count": 46,
   "id": "2ce3f586",
   "metadata": {
    "execution": {
     "iopub.execute_input": "2022-10-29T14:08:37.750616Z",
     "iopub.status.busy": "2022-10-29T14:08:37.749738Z",
     "iopub.status.idle": "2022-10-29T14:08:37.789888Z",
     "shell.execute_reply": "2022-10-29T14:08:37.788539Z"
    },
    "papermill": {
     "duration": 0.065405,
     "end_time": "2022-10-29T14:08:37.792098",
     "exception": false,
     "start_time": "2022-10-29T14:08:37.726693",
     "status": "completed"
    },
    "tags": []
   },
   "outputs": [
    {
     "name": "stdout",
     "output_type": "stream",
     "text": [
      "~~~~~~~~~~~~~~~~~~~~~~~~~~~~~~~~~~~~~ SHAPE ~~~~~~~~~~~~~~~~~~~~~~~~~~~~~~~~~~~~~~\n",
      "Rows: 4913\n",
      "Columns: 11\n",
      "~~~~~~~~~~~~~~~~~~~~~~~~~~~~~~~~~~~~~ TYPES ~~~~~~~~~~~~~~~~~~~~~~~~~~~~~~~~~~~~~~\n",
      "reviewerName             object\n",
      "overall                 float64\n",
      "reviewText               object\n",
      "reviewTime               object\n",
      "day_diff                  int64\n",
      "helpful_yes               int64\n",
      "helpful_no                int64\n",
      "total_vote                int64\n",
      "score_pos_neg_diff        int64\n",
      "score_average_rating    float64\n",
      "wilson_lower_bound      float64\n",
      "dtype: object\n",
      "~~~~~~~~~~~~~~~~~~~~~~~~~~~~~~~~~~~~~~~~~~~~~~~~~~~~~~~~~~~~~~~~~~~~~~~~~~~~~~~~~~\n",
      "Empty DataFrame\n",
      "Columns: [Total Missing Values, Ratio]\n",
      "Index: []\n",
      "~~~~~~~~~~~~~~~~~~~~~~~~~~~~~~~~ DUPLICATED VALUES ~~~~~~~~~~~~~~~~~~~~~~~~~~~~~~~~\n",
      "0\n",
      "~~~~~~~~~~~~~~~~~~~~~~~~~~~~~~~~~~~ QUANTILES ~~~~~~~~~~~~~~~~~~~~~~~~~~~~~~~~~~~~\n",
      "                       0.00  0.05   0.50        0.95       0.99         1.00\n",
      "overall                 1.0   2.0    5.0    5.000000    5.00000     5.000000\n",
      "day_diff                1.0  98.0  431.0  747.400000  943.00000  1064.000000\n",
      "helpful_yes             0.0   0.0    0.0    1.000000    3.00000  1952.000000\n",
      "helpful_no              0.0   0.0    0.0    0.000000    2.00000   183.000000\n",
      "total_vote              0.0   0.0    0.0    1.000000    4.00000  2020.000000\n",
      "score_pos_neg_diff   -130.0   0.0    0.0    1.000000    2.00000  1884.000000\n",
      "score_average_rating    0.0   0.0    0.0    1.000000    1.00000     1.000000\n",
      "wilson_lower_bound      0.0   0.0    0.0    0.206549    0.34238     0.957544\n"
     ]
    }
   ],
   "source": [
    "def missing_values_analysis(df):\n",
    "    na_columns_ = [col for col in df.columns if df[col].isnull().sum() > 0]\n",
    "    n_miss = df[na_columns_].isnull().sum().sort_values(ascending=True)\n",
    "    ratio_ = (df[na_columns_].isnull().sum() / df.shape[0] * 100).sort_values(ascending=True)\n",
    "    missing_df = pd.concat([n_miss, np.round(ratio_, 2)], axis=1, keys=['Total Missing Values', 'Ratio'])\n",
    "    missing_df = pd.DataFrame(missing_df)\n",
    "    return missing_df\n",
    "\n",
    "def check_dataframe(df, head=5, tail = 5):\n",
    "    \n",
    "    print(\" SHAPE \".center(82,'~'))\n",
    "    print('Rows: {}'.format(df.shape[0]))\n",
    "    print('Columns: {}'.format(df.shape[1]))\n",
    "    print(\" TYPES \".center(82,'~'))\n",
    "    print(df.dtypes)\n",
    "    print(\"\".center(82,'~'))\n",
    "    print(missing_values_analysis(df))\n",
    "    print(' DUPLICATED VALUES '.center(83,'~'))\n",
    "    print(df.duplicated().sum())\n",
    "    print(\" QUANTILES \".center(82,'~'))\n",
    "    print(df.quantile([0, 0.05, 0.50, 0.95, 0.99, 1]).T)\n",
    "\n",
    "check_dataframe(df)"
   ]
  },
  {
   "cell_type": "code",
   "execution_count": 47,
   "id": "13769b4d",
   "metadata": {
    "execution": {
     "iopub.execute_input": "2022-10-29T14:08:37.837449Z",
     "iopub.status.busy": "2022-10-29T14:08:37.836783Z",
     "iopub.status.idle": "2022-10-29T14:08:37.861331Z",
     "shell.execute_reply": "2022-10-29T14:08:37.860458Z"
    },
    "papermill": {
     "duration": 0.050204,
     "end_time": "2022-10-29T14:08:37.863820",
     "exception": false,
     "start_time": "2022-10-29T14:08:37.813616",
     "status": "completed"
    },
    "tags": []
   },
   "outputs": [
    {
     "data": {
      "text/html": [
       "<div>\n",
       "<style scoped>\n",
       "    .dataframe tbody tr th:only-of-type {\n",
       "        vertical-align: middle;\n",
       "    }\n",
       "\n",
       "    .dataframe tbody tr th {\n",
       "        vertical-align: top;\n",
       "    }\n",
       "\n",
       "    .dataframe thead th {\n",
       "        text-align: right;\n",
       "    }\n",
       "</style>\n",
       "<table border=\"1\" class=\"dataframe\">\n",
       "  <thead>\n",
       "    <tr style=\"text-align: right;\">\n",
       "      <th></th>\n",
       "      <th>Variable</th>\n",
       "      <th>Classes</th>\n",
       "    </tr>\n",
       "  </thead>\n",
       "  <tbody>\n",
       "    <tr>\n",
       "      <th>0</th>\n",
       "      <td>reviewText</td>\n",
       "      <td>4912</td>\n",
       "    </tr>\n",
       "    <tr>\n",
       "      <th>1</th>\n",
       "      <td>reviewerName</td>\n",
       "      <td>4593</td>\n",
       "    </tr>\n",
       "    <tr>\n",
       "      <th>2</th>\n",
       "      <td>reviewTime</td>\n",
       "      <td>689</td>\n",
       "    </tr>\n",
       "    <tr>\n",
       "      <th>3</th>\n",
       "      <td>day_diff</td>\n",
       "      <td>689</td>\n",
       "    </tr>\n",
       "    <tr>\n",
       "      <th>4</th>\n",
       "      <td>wilson_lower_bound</td>\n",
       "      <td>40</td>\n",
       "    </tr>\n",
       "    <tr>\n",
       "      <th>5</th>\n",
       "      <td>score_average_rating</td>\n",
       "      <td>28</td>\n",
       "    </tr>\n",
       "    <tr>\n",
       "      <th>6</th>\n",
       "      <td>score_pos_neg_diff</td>\n",
       "      <td>27</td>\n",
       "    </tr>\n",
       "    <tr>\n",
       "      <th>7</th>\n",
       "      <td>total_vote</td>\n",
       "      <td>26</td>\n",
       "    </tr>\n",
       "    <tr>\n",
       "      <th>8</th>\n",
       "      <td>helpful_yes</td>\n",
       "      <td>23</td>\n",
       "    </tr>\n",
       "    <tr>\n",
       "      <th>9</th>\n",
       "      <td>helpful_no</td>\n",
       "      <td>17</td>\n",
       "    </tr>\n",
       "    <tr>\n",
       "      <th>10</th>\n",
       "      <td>overall</td>\n",
       "      <td>5</td>\n",
       "    </tr>\n",
       "  </tbody>\n",
       "</table>\n",
       "</div>"
      ],
      "text/plain": [
       "                Variable  Classes\n",
       "0             reviewText     4912\n",
       "1           reviewerName     4593\n",
       "2             reviewTime      689\n",
       "3               day_diff      689\n",
       "4     wilson_lower_bound       40\n",
       "5   score_average_rating       28\n",
       "6     score_pos_neg_diff       27\n",
       "7             total_vote       26\n",
       "8            helpful_yes       23\n",
       "9             helpful_no       17\n",
       "10               overall        5"
      ]
     },
     "execution_count": 47,
     "metadata": {},
     "output_type": "execute_result"
    }
   ],
   "source": [
    "def check_class(dataframe):\n",
    "    nunique_df = pd.DataFrame({'Variable': dataframe.columns,\n",
    "                               'Classes': [dataframe[i].nunique() \\\n",
    "                                           for i in dataframe.columns]})\n",
    "\n",
    "    nunique_df = nunique_df.sort_values('Classes', ascending=False)\n",
    "    nunique_df = nunique_df.reset_index(drop = True)\n",
    "    return nunique_df\n",
    "\n",
    "check_class(df)"
   ]
  },
  {
   "cell_type": "code",
   "execution_count": 48,
   "id": "ce327193",
   "metadata": {
    "execution": {
     "iopub.execute_input": "2022-10-29T14:08:37.909612Z",
     "iopub.status.busy": "2022-10-29T14:08:37.909181Z",
     "iopub.status.idle": "2022-10-29T14:08:37.920316Z",
     "shell.execute_reply": "2022-10-29T14:08:37.919206Z"
    },
    "papermill": {
     "duration": 0.036808,
     "end_time": "2022-10-29T14:08:37.922685",
     "exception": false,
     "start_time": "2022-10-29T14:08:37.885877",
     "status": "completed"
    },
    "tags": []
   },
   "outputs": [],
   "source": [
    "constraints = ['#581845','#C70039','#2E4053','#1ABC9C','#7F8C8D']\n",
    "\n",
    "def categorical_variable_summary(df, column_name):\n",
    "    fig = make_subplots(rows=1,cols=2,\n",
    "                        subplot_titles=('Countplot','Percentages'),\n",
    "                        specs=[[{\"type\": \"xy\"}, {'type':'domain'}]])\n",
    "\n",
    "    fig.add_trace(go.Bar( y = df[column_name].value_counts().values.tolist(), \n",
    "                          x = [str(i) for i in df[column_name].value_counts().index], \n",
    "                          text = df[column_name].value_counts().values.tolist(),\n",
    "                          textfont = dict(size=15),\n",
    "                          name = column_name,\n",
    "                          textposition = 'auto',\n",
    "                          showlegend=False,\n",
    "                          marker=dict(color = constraints,\n",
    "                                      line=dict(color='#DBE6EC',\n",
    "                                                width=1))),\n",
    "                  row = 1, col = 1)\n",
    "    \n",
    "    fig.add_trace(go.Pie(labels= df[column_name].value_counts().keys(),\n",
    "                         values= df[column_name].value_counts().values,\n",
    "                         textfont = dict(size = 20),\n",
    "                         textposition='auto',\n",
    "                         showlegend = False,\n",
    "                         name = column_name,\n",
    "                         marker=dict(colors=constraints)),\n",
    "                  row = 1, col = 2)\n",
    "    \n",
    "    fig.update_layout(title={'text': column_name,\n",
    "                             'y':0.9,\n",
    "                             'x':0.5,\n",
    "                             'xanchor': 'center',\n",
    "                             'yanchor': 'top'},\n",
    "                      template='plotly_white')\n",
    "    \n",
    "    iplot(fig)"
   ]
  },
  {
   "cell_type": "code",
   "execution_count": 49,
   "id": "5b2a702f",
   "metadata": {
    "execution": {
     "iopub.execute_input": "2022-10-29T14:08:37.968663Z",
     "iopub.status.busy": "2022-10-29T14:08:37.968210Z",
     "iopub.status.idle": "2022-10-29T14:08:39.060498Z",
     "shell.execute_reply": "2022-10-29T14:08:39.059376Z"
    },
    "papermill": {
     "duration": 1.118741,
     "end_time": "2022-10-29T14:08:39.063212",
     "exception": false,
     "start_time": "2022-10-29T14:08:37.944471",
     "status": "completed"
    },
    "tags": []
   },
   "outputs": [
    {
     "data": {
      "text/html": [
       "        <script type=\"text/javascript\">\n",
       "        window.PlotlyConfig = {MathJaxConfig: 'local'};\n",
       "        if (window.MathJax && window.MathJax.Hub && window.MathJax.Hub.Config) {window.MathJax.Hub.Config({SVG: {font: \"STIX-Web\"}});}\n",
       "        if (typeof require !== 'undefined') {\n",
       "        require.undef(\"plotly\");\n",
       "        requirejs.config({\n",
       "            paths: {\n",
       "                'plotly': ['https://cdn.plot.ly/plotly-2.14.0.min']\n",
       "            }\n",
       "        });\n",
       "        require(['plotly'], function(Plotly) {\n",
       "            window._Plotly = Plotly;\n",
       "        });\n",
       "        }\n",
       "        </script>\n",
       "        "
      ]
     },
     "metadata": {},
     "output_type": "display_data"
    },
    {
     "data": {
      "text/html": [
       "<div>                            <div id=\"1be10ff5-15af-4d68-97a0-035193d83d3a\" class=\"plotly-graph-div\" style=\"height:525px; width:100%;\"></div>            <script type=\"text/javascript\">                require([\"plotly\"], function(Plotly) {                    window.PLOTLYENV=window.PLOTLYENV || {};                                    if (document.getElementById(\"1be10ff5-15af-4d68-97a0-035193d83d3a\")) {                    Plotly.newPlot(                        \"1be10ff5-15af-4d68-97a0-035193d83d3a\",                        [{\"marker\":{\"color\":[\"#581845\",\"#C70039\",\"#2E4053\",\"#1ABC9C\",\"#7F8C8D\"],\"line\":{\"color\":\"#DBE6EC\",\"width\":1}},\"name\":\"overall\",\"showlegend\":false,\"text\":[\"3921\",\"526\",\"244\",\"142\",\"80\"],\"textfont\":{\"size\":15},\"textposition\":\"auto\",\"x\":[\"5.0\",\"4.0\",\"1.0\",\"3.0\",\"2.0\"],\"xaxis\":\"x\",\"y\":[3921,526,244,142,80],\"yaxis\":\"y\",\"type\":\"bar\"},{\"domain\":{\"x\":[0.55,1.0],\"y\":[0.0,1.0]},\"labels\":[5.0,4.0,1.0,3.0,2.0],\"marker\":{\"colors\":[\"#581845\",\"#C70039\",\"#2E4053\",\"#1ABC9C\",\"#7F8C8D\"]},\"name\":\"overall\",\"showlegend\":false,\"textfont\":{\"size\":20},\"textposition\":\"auto\",\"values\":[3921,526,244,142,80],\"type\":\"pie\"}],                        {\"annotations\":[{\"font\":{\"size\":16},\"showarrow\":false,\"text\":\"Countplot\",\"x\":0.225,\"xanchor\":\"center\",\"xref\":\"paper\",\"y\":1.0,\"yanchor\":\"bottom\",\"yref\":\"paper\"},{\"font\":{\"size\":16},\"showarrow\":false,\"text\":\"Percentages\",\"x\":0.775,\"xanchor\":\"center\",\"xref\":\"paper\",\"y\":1.0,\"yanchor\":\"bottom\",\"yref\":\"paper\"}],\"template\":{\"data\":{\"barpolar\":[{\"marker\":{\"line\":{\"color\":\"white\",\"width\":0.5},\"pattern\":{\"fillmode\":\"overlay\",\"size\":10,\"solidity\":0.2}},\"type\":\"barpolar\"}],\"bar\":[{\"error_x\":{\"color\":\"#2a3f5f\"},\"error_y\":{\"color\":\"#2a3f5f\"},\"marker\":{\"line\":{\"color\":\"white\",\"width\":0.5},\"pattern\":{\"fillmode\":\"overlay\",\"size\":10,\"solidity\":0.2}},\"type\":\"bar\"}],\"carpet\":[{\"aaxis\":{\"endlinecolor\":\"#2a3f5f\",\"gridcolor\":\"#C8D4E3\",\"linecolor\":\"#C8D4E3\",\"minorgridcolor\":\"#C8D4E3\",\"startlinecolor\":\"#2a3f5f\"},\"baxis\":{\"endlinecolor\":\"#2a3f5f\",\"gridcolor\":\"#C8D4E3\",\"linecolor\":\"#C8D4E3\",\"minorgridcolor\":\"#C8D4E3\",\"startlinecolor\":\"#2a3f5f\"},\"type\":\"carpet\"}],\"choropleth\":[{\"colorbar\":{\"outlinewidth\":0,\"ticks\":\"\"},\"type\":\"choropleth\"}],\"contourcarpet\":[{\"colorbar\":{\"outlinewidth\":0,\"ticks\":\"\"},\"type\":\"contourcarpet\"}],\"contour\":[{\"colorbar\":{\"outlinewidth\":0,\"ticks\":\"\"},\"colorscale\":[[0.0,\"#0d0887\"],[0.1111111111111111,\"#46039f\"],[0.2222222222222222,\"#7201a8\"],[0.3333333333333333,\"#9c179e\"],[0.4444444444444444,\"#bd3786\"],[0.5555555555555556,\"#d8576b\"],[0.6666666666666666,\"#ed7953\"],[0.7777777777777778,\"#fb9f3a\"],[0.8888888888888888,\"#fdca26\"],[1.0,\"#f0f921\"]],\"type\":\"contour\"}],\"heatmapgl\":[{\"colorbar\":{\"outlinewidth\":0,\"ticks\":\"\"},\"colorscale\":[[0.0,\"#0d0887\"],[0.1111111111111111,\"#46039f\"],[0.2222222222222222,\"#7201a8\"],[0.3333333333333333,\"#9c179e\"],[0.4444444444444444,\"#bd3786\"],[0.5555555555555556,\"#d8576b\"],[0.6666666666666666,\"#ed7953\"],[0.7777777777777778,\"#fb9f3a\"],[0.8888888888888888,\"#fdca26\"],[1.0,\"#f0f921\"]],\"type\":\"heatmapgl\"}],\"heatmap\":[{\"colorbar\":{\"outlinewidth\":0,\"ticks\":\"\"},\"colorscale\":[[0.0,\"#0d0887\"],[0.1111111111111111,\"#46039f\"],[0.2222222222222222,\"#7201a8\"],[0.3333333333333333,\"#9c179e\"],[0.4444444444444444,\"#bd3786\"],[0.5555555555555556,\"#d8576b\"],[0.6666666666666666,\"#ed7953\"],[0.7777777777777778,\"#fb9f3a\"],[0.8888888888888888,\"#fdca26\"],[1.0,\"#f0f921\"]],\"type\":\"heatmap\"}],\"histogram2dcontour\":[{\"colorbar\":{\"outlinewidth\":0,\"ticks\":\"\"},\"colorscale\":[[0.0,\"#0d0887\"],[0.1111111111111111,\"#46039f\"],[0.2222222222222222,\"#7201a8\"],[0.3333333333333333,\"#9c179e\"],[0.4444444444444444,\"#bd3786\"],[0.5555555555555556,\"#d8576b\"],[0.6666666666666666,\"#ed7953\"],[0.7777777777777778,\"#fb9f3a\"],[0.8888888888888888,\"#fdca26\"],[1.0,\"#f0f921\"]],\"type\":\"histogram2dcontour\"}],\"histogram2d\":[{\"colorbar\":{\"outlinewidth\":0,\"ticks\":\"\"},\"colorscale\":[[0.0,\"#0d0887\"],[0.1111111111111111,\"#46039f\"],[0.2222222222222222,\"#7201a8\"],[0.3333333333333333,\"#9c179e\"],[0.4444444444444444,\"#bd3786\"],[0.5555555555555556,\"#d8576b\"],[0.6666666666666666,\"#ed7953\"],[0.7777777777777778,\"#fb9f3a\"],[0.8888888888888888,\"#fdca26\"],[1.0,\"#f0f921\"]],\"type\":\"histogram2d\"}],\"histogram\":[{\"marker\":{\"pattern\":{\"fillmode\":\"overlay\",\"size\":10,\"solidity\":0.2}},\"type\":\"histogram\"}],\"mesh3d\":[{\"colorbar\":{\"outlinewidth\":0,\"ticks\":\"\"},\"type\":\"mesh3d\"}],\"parcoords\":[{\"line\":{\"colorbar\":{\"outlinewidth\":0,\"ticks\":\"\"}},\"type\":\"parcoords\"}],\"pie\":[{\"automargin\":true,\"type\":\"pie\"}],\"scatter3d\":[{\"line\":{\"colorbar\":{\"outlinewidth\":0,\"ticks\":\"\"}},\"marker\":{\"colorbar\":{\"outlinewidth\":0,\"ticks\":\"\"}},\"type\":\"scatter3d\"}],\"scattercarpet\":[{\"marker\":{\"colorbar\":{\"outlinewidth\":0,\"ticks\":\"\"}},\"type\":\"scattercarpet\"}],\"scattergeo\":[{\"marker\":{\"colorbar\":{\"outlinewidth\":0,\"ticks\":\"\"}},\"type\":\"scattergeo\"}],\"scattergl\":[{\"marker\":{\"colorbar\":{\"outlinewidth\":0,\"ticks\":\"\"}},\"type\":\"scattergl\"}],\"scattermapbox\":[{\"marker\":{\"colorbar\":{\"outlinewidth\":0,\"ticks\":\"\"}},\"type\":\"scattermapbox\"}],\"scatterpolargl\":[{\"marker\":{\"colorbar\":{\"outlinewidth\":0,\"ticks\":\"\"}},\"type\":\"scatterpolargl\"}],\"scatterpolar\":[{\"marker\":{\"colorbar\":{\"outlinewidth\":0,\"ticks\":\"\"}},\"type\":\"scatterpolar\"}],\"scatter\":[{\"fillpattern\":{\"fillmode\":\"overlay\",\"size\":10,\"solidity\":0.2},\"type\":\"scatter\"}],\"scatterternary\":[{\"marker\":{\"colorbar\":{\"outlinewidth\":0,\"ticks\":\"\"}},\"type\":\"scatterternary\"}],\"surface\":[{\"colorbar\":{\"outlinewidth\":0,\"ticks\":\"\"},\"colorscale\":[[0.0,\"#0d0887\"],[0.1111111111111111,\"#46039f\"],[0.2222222222222222,\"#7201a8\"],[0.3333333333333333,\"#9c179e\"],[0.4444444444444444,\"#bd3786\"],[0.5555555555555556,\"#d8576b\"],[0.6666666666666666,\"#ed7953\"],[0.7777777777777778,\"#fb9f3a\"],[0.8888888888888888,\"#fdca26\"],[1.0,\"#f0f921\"]],\"type\":\"surface\"}],\"table\":[{\"cells\":{\"fill\":{\"color\":\"#EBF0F8\"},\"line\":{\"color\":\"white\"}},\"header\":{\"fill\":{\"color\":\"#C8D4E3\"},\"line\":{\"color\":\"white\"}},\"type\":\"table\"}]},\"layout\":{\"annotationdefaults\":{\"arrowcolor\":\"#2a3f5f\",\"arrowhead\":0,\"arrowwidth\":1},\"autotypenumbers\":\"strict\",\"coloraxis\":{\"colorbar\":{\"outlinewidth\":0,\"ticks\":\"\"}},\"colorscale\":{\"diverging\":[[0,\"#8e0152\"],[0.1,\"#c51b7d\"],[0.2,\"#de77ae\"],[0.3,\"#f1b6da\"],[0.4,\"#fde0ef\"],[0.5,\"#f7f7f7\"],[0.6,\"#e6f5d0\"],[0.7,\"#b8e186\"],[0.8,\"#7fbc41\"],[0.9,\"#4d9221\"],[1,\"#276419\"]],\"sequential\":[[0.0,\"#0d0887\"],[0.1111111111111111,\"#46039f\"],[0.2222222222222222,\"#7201a8\"],[0.3333333333333333,\"#9c179e\"],[0.4444444444444444,\"#bd3786\"],[0.5555555555555556,\"#d8576b\"],[0.6666666666666666,\"#ed7953\"],[0.7777777777777778,\"#fb9f3a\"],[0.8888888888888888,\"#fdca26\"],[1.0,\"#f0f921\"]],\"sequentialminus\":[[0.0,\"#0d0887\"],[0.1111111111111111,\"#46039f\"],[0.2222222222222222,\"#7201a8\"],[0.3333333333333333,\"#9c179e\"],[0.4444444444444444,\"#bd3786\"],[0.5555555555555556,\"#d8576b\"],[0.6666666666666666,\"#ed7953\"],[0.7777777777777778,\"#fb9f3a\"],[0.8888888888888888,\"#fdca26\"],[1.0,\"#f0f921\"]]},\"colorway\":[\"#636efa\",\"#EF553B\",\"#00cc96\",\"#ab63fa\",\"#FFA15A\",\"#19d3f3\",\"#FF6692\",\"#B6E880\",\"#FF97FF\",\"#FECB52\"],\"font\":{\"color\":\"#2a3f5f\"},\"geo\":{\"bgcolor\":\"white\",\"lakecolor\":\"white\",\"landcolor\":\"white\",\"showlakes\":true,\"showland\":true,\"subunitcolor\":\"#C8D4E3\"},\"hoverlabel\":{\"align\":\"left\"},\"hovermode\":\"closest\",\"mapbox\":{\"style\":\"light\"},\"paper_bgcolor\":\"white\",\"plot_bgcolor\":\"white\",\"polar\":{\"angularaxis\":{\"gridcolor\":\"#EBF0F8\",\"linecolor\":\"#EBF0F8\",\"ticks\":\"\"},\"bgcolor\":\"white\",\"radialaxis\":{\"gridcolor\":\"#EBF0F8\",\"linecolor\":\"#EBF0F8\",\"ticks\":\"\"}},\"scene\":{\"xaxis\":{\"backgroundcolor\":\"white\",\"gridcolor\":\"#DFE8F3\",\"gridwidth\":2,\"linecolor\":\"#EBF0F8\",\"showbackground\":true,\"ticks\":\"\",\"zerolinecolor\":\"#EBF0F8\"},\"yaxis\":{\"backgroundcolor\":\"white\",\"gridcolor\":\"#DFE8F3\",\"gridwidth\":2,\"linecolor\":\"#EBF0F8\",\"showbackground\":true,\"ticks\":\"\",\"zerolinecolor\":\"#EBF0F8\"},\"zaxis\":{\"backgroundcolor\":\"white\",\"gridcolor\":\"#DFE8F3\",\"gridwidth\":2,\"linecolor\":\"#EBF0F8\",\"showbackground\":true,\"ticks\":\"\",\"zerolinecolor\":\"#EBF0F8\"}},\"shapedefaults\":{\"line\":{\"color\":\"#2a3f5f\"}},\"ternary\":{\"aaxis\":{\"gridcolor\":\"#DFE8F3\",\"linecolor\":\"#A2B1C6\",\"ticks\":\"\"},\"baxis\":{\"gridcolor\":\"#DFE8F3\",\"linecolor\":\"#A2B1C6\",\"ticks\":\"\"},\"bgcolor\":\"white\",\"caxis\":{\"gridcolor\":\"#DFE8F3\",\"linecolor\":\"#A2B1C6\",\"ticks\":\"\"}},\"title\":{\"x\":0.05},\"xaxis\":{\"automargin\":true,\"gridcolor\":\"#EBF0F8\",\"linecolor\":\"#EBF0F8\",\"ticks\":\"\",\"title\":{\"standoff\":15},\"zerolinecolor\":\"#EBF0F8\",\"zerolinewidth\":2},\"yaxis\":{\"automargin\":true,\"gridcolor\":\"#EBF0F8\",\"linecolor\":\"#EBF0F8\",\"ticks\":\"\",\"title\":{\"standoff\":15},\"zerolinecolor\":\"#EBF0F8\",\"zerolinewidth\":2}}},\"title\":{\"text\":\"overall\",\"x\":0.5,\"xanchor\":\"center\",\"y\":0.9,\"yanchor\":\"top\"},\"xaxis\":{\"anchor\":\"y\",\"domain\":[0.0,0.45]},\"yaxis\":{\"anchor\":\"x\",\"domain\":[0.0,1.0]}},                        {\"responsive\": true}                    ).then(function(){\n",
       "                            \n",
       "var gd = document.getElementById('1be10ff5-15af-4d68-97a0-035193d83d3a');\n",
       "var x = new MutationObserver(function (mutations, observer) {{\n",
       "        var display = window.getComputedStyle(gd).display;\n",
       "        if (!display || display === 'none') {{\n",
       "            console.log([gd, 'removed!']);\n",
       "            Plotly.purge(gd);\n",
       "            observer.disconnect();\n",
       "        }}\n",
       "}});\n",
       "\n",
       "// Listen for the removal of the full notebook cells\n",
       "var notebookContainer = gd.closest('#notebook-container');\n",
       "if (notebookContainer) {{\n",
       "    x.observe(notebookContainer, {childList: true});\n",
       "}}\n",
       "\n",
       "// Listen for the clearing of the current output cell\n",
       "var outputEl = gd.closest('.output');\n",
       "if (outputEl) {{\n",
       "    x.observe(outputEl, {childList: true});\n",
       "}}\n",
       "\n",
       "                        })                };                });            </script>        </div>"
      ]
     },
     "metadata": {},
     "output_type": "display_data"
    }
   ],
   "source": [
    "categorical_variable_summary(df,'overall')"
   ]
  },
  {
   "cell_type": "code",
   "execution_count": 50,
   "id": "95ac5c94",
   "metadata": {
    "execution": {
     "iopub.execute_input": "2022-10-29T14:08:39.111606Z",
     "iopub.status.busy": "2022-10-29T14:08:39.110712Z",
     "iopub.status.idle": "2022-10-29T14:08:39.118850Z",
     "shell.execute_reply": "2022-10-29T14:08:39.117895Z"
    },
    "papermill": {
     "duration": 0.033455,
     "end_time": "2022-10-29T14:08:39.120994",
     "exception": false,
     "start_time": "2022-10-29T14:08:39.087539",
     "status": "completed"
    },
    "tags": []
   },
   "outputs": [
    {
     "data": {
      "text/plain": [
       "2031    [[ UPDATE - 6/19/2014 ]]So my lovely wife boug...\n",
       "3449    I have tested dozens of SDHC and micro-SDHC ca...\n",
       "4212    NOTE:  please read the last update (scroll to ...\n",
       "317     If your card gets hot enough to be painful, it...\n",
       "4672    Sandisk announcement of the first 128GB micro ...\n",
       "Name: reviewText, dtype: object"
      ]
     },
     "execution_count": 50,
     "metadata": {},
     "output_type": "execute_result"
    }
   ],
   "source": [
    "df.reviewText.head()"
   ]
  },
  {
   "cell_type": "code",
   "execution_count": 51,
   "id": "27bb6048",
   "metadata": {
    "execution": {
     "iopub.execute_input": "2022-10-29T14:08:39.168515Z",
     "iopub.status.busy": "2022-10-29T14:08:39.167746Z",
     "iopub.status.idle": "2022-10-29T14:08:39.174288Z",
     "shell.execute_reply": "2022-10-29T14:08:39.173346Z"
    },
    "papermill": {
     "duration": 0.033039,
     "end_time": "2022-10-29T14:08:39.176436",
     "exception": false,
     "start_time": "2022-10-29T14:08:39.143397",
     "status": "completed"
    },
    "tags": []
   },
   "outputs": [
    {
     "data": {
      "text/plain": [
       "'[[ UPDATE - 6/19/2014 ]]So my lovely wife bought me a Samsung Galaxy Tab 4 for Father\\'s Day and I\\'ve been loving it ever since.  Just as other with Samsung products, the Galaxy Tab 4 has the ability to add a microSD card to expand the memory on the device.  Since it\\'s been over a year, I decided to do some more research to see if SanDisk offered anything new.  As of 6/19/2014, their product lineup for microSD cards from worst to best (performance-wise) are the as follows:SanDiskSanDisk UltraSanDisk Ultra PLUSSanDisk ExtremeSanDisk Extreme PLUSSanDisk Extreme PRONow, the difference between all of these cards are simply the speed in which you can read/write data to the card.  Yes, the published rating of most all these cards (except the SanDisk regular) are Class 10/UHS-I but that\\'s just a rating... Actual real world performance does get better with each model, but with faster cards come more expensive prices.  Since Amazon doesn\\'t carry the Ultra PLUS model of microSD card, I had to do direct comparisons between the SanDisk Ultra ($34.27), Extreme ($57.95), and Extreme PLUS ($67.95).As mentioned in my earlier review, I purchased the SanDisk Ultra for my Galaxy S4.  My question was, did I want to pay over $20 more for a card that is faster than the one I already owned?  Or I could pay almost double to get SanDisk\\'s 2nd-most fastest microSD card.The Ultra works perfectly fine for my style of usage (storing/capturing pictures & HD video and movie playback) on my phone.  So in the end, I ended up just buying another SanDisk Ultra 64GB card.  I use my cell phone *more* than I do my tablet and if the card is good enough for my phone, it\\'s good enough for my tablet.  I don\\'t own a 4K HD camera or anything like that, so I honestly didn\\'t see a need to get one of the faster cards at this time.I am now a proud owner of 2 SanDisk Ultra cards and have absolutely 0 issues with it in my Samsung devices.[[ ORIGINAL REVIEW - 5/1/2013 ]]I haven\\'t had to buy a microSD card in a long time. The last time I bought one was for my cell phone over 2 years ago. But since my cellular contract was up, I knew I would have to get a newer card in addition to my new phone, the Samsung Galaxy S4. Reason for this is because I knew my small 16GB microSD card wasn\\'t going to cut it.Doing research on the Galaxy S4, I wanted to get the best card possible that had decent capacity (32 GB or greater). This led me to find that the Galaxy S4 supports the microSDXC Class 10 UHS-I card, which is the fastest possible given that class. Searching for that specifically on Amazon gave me results of only 3 vendors (as of April) that makes these microSDXC Class 10 UHS-1 cards. They are Sandisk (the majority), Samsung and Lexar. Nobody else makes these that are sold on Amazon.Seeing how SanDisk is a pretty good name out of the 3 (I\\'ve used them the most), I decided upon the SanDisk because Lexar was overpriced and the Samsung one was overpriced (as well as not eligible for Amazon Prime).But the scary thing is that when you filter by the SanDisk, you literally get DOZENS of options. All of them have different model numbers, different sizes, etc. Then there\\'s that confusion of what\\'s the difference between SDHC & SDXC?SDHC vs SDXC:SDHC stand for \"Secure Digital High Capacity\" and SDXC stands for \"Secure Digital eXtended Capacity\". Essentially these two cards are the same with the exception that SDHC only supports capcities up to 32GB and is formated with the FAT32 file system. The SDXC cards are formatted with the exFAT file system. If you use an SDXC card in a device, it must support that file system, otherwise it may not be recognizable and/or you have to reformat the card to FAT32.FAT32 vs exFAT:The differences between the two file systems means that FAT32 has a maximum file size of 4GB, limited by that file system. exFAT on the otherhand, supports file sizes up to 2TB (terabytes). The only thing you need to know here really is that it\\'s possible your device doesn\\'t support exFAT. If that\\'s the case, just reformat it to FAT32. REMEMBER FORMATTING ERASES ALL DATA!To clarify the model numbers, I I hopped over to the SanDisk official webpage. What I found there is that they offer two \"highspeed\" options for SanDisk cards. These are SanDisk Extreme Pro and SanDisk Ultra. SanDisk Extreme Pro is a line that supports read speeds up to 95MB/sec, however they are SDHC only. To make things worse, they are currently only available in 16GB & 8GB capacities. Since one of my requirements was to have a lot of storage, I ruled these out.The remaining devices listed on Amazon\\'s search were the SanDisk Ultra line. But here, confusion sets in because SanDisk separates these cards to two different devices. Cameras & mobile devices. Is there a real difference between the two or is this just a marketing stunt? Unfortunately I\\'m not sure but I do know the price difference between the two range from a couple cents to a few dollars. Since I wasn\\'t sure, I opted for the one specifically targeted for mobile devices (just in case there is some kind of compatibility issue). To find the exact model number, I would go to Sandisk\\'s webpage (sandisk.com) and compare their existing product lineup. From there, you get exact model numbers and you can then search Amazon for these model numbers. That is how I got mine (SDSDQUA-064G).As for speed tests, I haven\\'t run any specific testing, but copying 8 GB worth of data from my PC to the card literally took just a few minutes.One last note is that Amazon attaches additional characters to the end (for example SDSDQUA-064G-AFFP-A vs SDSDQUA-064G-U46A). The difference between the two is that the \"AFFP-A\" means \"Amazon Frustration Free Packaging\". Other than that, these are exactly the same.  If you\\'re wondering what I got (and want to use it in your Galaxy S4), I got the SDSDQUA-064G-u46A and it works like charm.'"
      ]
     },
     "execution_count": 51,
     "metadata": {},
     "output_type": "execute_result"
    }
   ],
   "source": [
    "example_review = df.reviewText[2031]\n",
    "example_review"
   ]
  },
  {
   "cell_type": "code",
   "execution_count": 52,
   "id": "3feac9da",
   "metadata": {
    "execution": {
     "iopub.execute_input": "2022-10-29T14:08:39.223981Z",
     "iopub.status.busy": "2022-10-29T14:08:39.223212Z",
     "iopub.status.idle": "2022-10-29T14:08:39.230158Z",
     "shell.execute_reply": "2022-10-29T14:08:39.229073Z"
    },
    "papermill": {
     "duration": 0.032949,
     "end_time": "2022-10-29T14:08:39.232266",
     "exception": false,
     "start_time": "2022-10-29T14:08:39.199317",
     "status": "completed"
    },
    "tags": []
   },
   "outputs": [
    {
     "data": {
      "text/plain": [
       "'   UPDATE               So my lovely wife bought me a Samsung Galaxy Tab   for Father s Day and I ve been loving it ever since   Just as other with Samsung products  the Galaxy Tab   has the ability to add a microSD card to expand the memory on the device   Since it s been over a year  I decided to do some more research to see if SanDisk offered anything new   As of            their product lineup for microSD cards from worst to best  performance wise  are the as follows SanDiskSanDisk UltraSanDisk Ultra PLUSSanDisk ExtremeSanDisk Extreme PLUSSanDisk Extreme PRONow  the difference between all of these cards are simply the speed in which you can read write data to the card   Yes  the published rating of most all these cards  except the SanDisk regular  are Class    UHS I but that s just a rating    Actual real world performance does get better with each model  but with faster cards come more expensive prices   Since Amazon doesn t carry the Ultra PLUS model of microSD card  I had to do direct comparisons between the SanDisk Ultra           Extreme           and Extreme PLUS          As mentioned in my earlier review  I purchased the SanDisk Ultra for my Galaxy S    My question was  did I want to pay over     more for a card that is faster than the one I already owned   Or I could pay almost double to get SanDisk s  nd most fastest microSD card The Ultra works perfectly fine for my style of usage  storing capturing pictures   HD video and movie playback  on my phone   So in the end  I ended up just buying another SanDisk Ultra   GB card   I use my cell phone  more  than I do my tablet and if the card is good enough for my phone  it s good enough for my tablet   I don t own a  K HD camera or anything like that  so I honestly didn t see a need to get one of the faster cards at this time I am now a proud owner of   SanDisk Ultra cards and have absolutely   issues with it in my Samsung devices    ORIGINAL REVIEW              I haven t had to buy a microSD card in a long time  The last time I bought one was for my cell phone over   years ago  But since my cellular contract was up  I knew I would have to get a newer card in addition to my new phone  the Samsung Galaxy S   Reason for this is because I knew my small   GB microSD card wasn t going to cut it Doing research on the Galaxy S   I wanted to get the best card possible that had decent capacity     GB or greater   This led me to find that the Galaxy S  supports the microSDXC Class    UHS I card  which is the fastest possible given that class  Searching for that specifically on Amazon gave me results of only   vendors  as of April  that makes these microSDXC Class    UHS   cards  They are Sandisk  the majority   Samsung and Lexar  Nobody else makes these that are sold on Amazon Seeing how SanDisk is a pretty good name out of the    I ve used them the most   I decided upon the SanDisk because Lexar was overpriced and the Samsung one was overpriced  as well as not eligible for Amazon Prime  But the scary thing is that when you filter by the SanDisk  you literally get DOZENS of options  All of them have different model numbers  different sizes  etc  Then there s that confusion of what s the difference between SDHC   SDXC SDHC vs SDXC SDHC stand for  Secure Digital High Capacity  and SDXC stands for  Secure Digital eXtended Capacity   Essentially these two cards are the same with the exception that SDHC only supports capcities up to   GB and is formated with the FAT   file system  The SDXC cards are formatted with the exFAT file system  If you use an SDXC card in a device  it must support that file system  otherwise it may not be recognizable and or you have to reformat the card to FAT   FAT   vs exFAT The differences between the two file systems means that FAT   has a maximum file size of  GB  limited by that file system  exFAT on the otherhand  supports file sizes up to  TB  terabytes   The only thing you need to know here really is that it s possible your device doesn t support exFAT  If that s the case  just reformat it to FAT    REMEMBER FORMATTING ERASES ALL DATA To clarify the model numbers  I I hopped over to the SanDisk official webpage  What I found there is that they offer two  highspeed  options for SanDisk cards  These are SanDisk Extreme Pro and SanDisk Ultra  SanDisk Extreme Pro is a line that supports read speeds up to   MB sec  however they are SDHC only  To make things worse  they are currently only available in   GB    GB capacities  Since one of my requirements was to have a lot of storage  I ruled these out The remaining devices listed on Amazon s search were the SanDisk Ultra line  But here  confusion sets in because SanDisk separates these cards to two different devices  Cameras   mobile devices  Is there a real difference between the two or is this just a marketing stunt  Unfortunately I m not sure but I do know the price difference between the two range from a couple cents to a few dollars  Since I wasn t sure  I opted for the one specifically targeted for mobile devices  just in case there is some kind of compatibility issue   To find the exact model number  I would go to Sandisk s webpage  sandisk com  and compare their existing product lineup  From there  you get exact model numbers and you can then search Amazon for these model numbers  That is how I got mine  SDSDQUA    G  As for speed tests  I haven t run any specific testing  but copying   GB worth of data from my PC to the card literally took just a few minutes One last note is that Amazon attaches additional characters to the end  for example SDSDQUA    G AFFP A vs SDSDQUA    G U  A   The difference between the two is that the  AFFP A  means  Amazon Frustration Free Packaging   Other than that  these are exactly the same   If you re wondering what I got  and want to use it in your Galaxy S    I got the SDSDQUA    G u  A and it works like charm '"
      ]
     },
     "execution_count": 52,
     "metadata": {},
     "output_type": "execute_result"
    }
   ],
   "source": [
    "example_review = re.sub(\"[^a-zA-Z]\",' ',example_review)\n",
    "example_review"
   ]
  },
  {
   "cell_type": "code",
   "execution_count": 53,
   "id": "56d47aca",
   "metadata": {
    "execution": {
     "iopub.execute_input": "2022-10-29T14:08:39.280367Z",
     "iopub.status.busy": "2022-10-29T14:08:39.279952Z",
     "iopub.status.idle": "2022-10-29T14:08:39.285496Z",
     "shell.execute_reply": "2022-10-29T14:08:39.283775Z"
    },
    "papermill": {
     "duration": 0.032049,
     "end_time": "2022-10-29T14:08:39.287734",
     "exception": false,
     "start_time": "2022-10-29T14:08:39.255685",
     "status": "completed"
    },
    "tags": []
   },
   "outputs": [],
   "source": [
    "example_review = example_review.lower().split()"
   ]
  },
  {
   "cell_type": "code",
   "execution_count": 54,
   "id": "fb7c9476",
   "metadata": {
    "execution": {
     "iopub.execute_input": "2022-10-29T14:08:39.334699Z",
     "iopub.status.busy": "2022-10-29T14:08:39.334038Z",
     "iopub.status.idle": "2022-10-29T14:08:39.357241Z",
     "shell.execute_reply": "2022-10-29T14:08:39.356409Z"
    },
    "papermill": {
     "duration": 0.049051,
     "end_time": "2022-10-29T14:08:39.359382",
     "exception": false,
     "start_time": "2022-10-29T14:08:39.310331",
     "status": "completed"
    },
    "tags": []
   },
   "outputs": [
    {
     "data": {
      "text/plain": [
       "['update',\n",
       " 'so',\n",
       " 'my',\n",
       " 'lovely',\n",
       " 'wife',\n",
       " 'bought',\n",
       " 'me',\n",
       " 'a',\n",
       " 'samsung',\n",
       " 'galaxy',\n",
       " 'tab',\n",
       " 'for',\n",
       " 'father',\n",
       " 's',\n",
       " 'day',\n",
       " 'and',\n",
       " 'i',\n",
       " 've',\n",
       " 'been',\n",
       " 'loving',\n",
       " 'it',\n",
       " 'ever',\n",
       " 'since',\n",
       " 'just',\n",
       " 'as',\n",
       " 'other',\n",
       " 'with',\n",
       " 'samsung',\n",
       " 'products',\n",
       " 'the',\n",
       " 'galaxy',\n",
       " 'tab',\n",
       " 'has',\n",
       " 'the',\n",
       " 'ability',\n",
       " 'to',\n",
       " 'add',\n",
       " 'a',\n",
       " 'microsd',\n",
       " 'card',\n",
       " 'to',\n",
       " 'expand',\n",
       " 'the',\n",
       " 'memory',\n",
       " 'on',\n",
       " 'the',\n",
       " 'device',\n",
       " 'since',\n",
       " 'it',\n",
       " 's',\n",
       " 'been',\n",
       " 'over',\n",
       " 'a',\n",
       " 'year',\n",
       " 'i',\n",
       " 'decided',\n",
       " 'to',\n",
       " 'do',\n",
       " 'some',\n",
       " 'more',\n",
       " 'research',\n",
       " 'to',\n",
       " 'see',\n",
       " 'if',\n",
       " 'sandisk',\n",
       " 'offered',\n",
       " 'anything',\n",
       " 'new',\n",
       " 'as',\n",
       " 'of',\n",
       " 'their',\n",
       " 'product',\n",
       " 'lineup',\n",
       " 'for',\n",
       " 'microsd',\n",
       " 'cards',\n",
       " 'from',\n",
       " 'worst',\n",
       " 'to',\n",
       " 'best',\n",
       " 'performance',\n",
       " 'wise',\n",
       " 'are',\n",
       " 'the',\n",
       " 'as',\n",
       " 'follows',\n",
       " 'sandisksandisk',\n",
       " 'ultrasandisk',\n",
       " 'ultra',\n",
       " 'plussandisk',\n",
       " 'extremesandisk',\n",
       " 'extreme',\n",
       " 'plussandisk',\n",
       " 'extreme',\n",
       " 'pronow',\n",
       " 'the',\n",
       " 'difference',\n",
       " 'between',\n",
       " 'all',\n",
       " 'of',\n",
       " 'these',\n",
       " 'cards',\n",
       " 'are',\n",
       " 'simply',\n",
       " 'the',\n",
       " 'speed',\n",
       " 'in',\n",
       " 'which',\n",
       " 'you',\n",
       " 'can',\n",
       " 'read',\n",
       " 'write',\n",
       " 'data',\n",
       " 'to',\n",
       " 'the',\n",
       " 'card',\n",
       " 'yes',\n",
       " 'the',\n",
       " 'published',\n",
       " 'rating',\n",
       " 'of',\n",
       " 'most',\n",
       " 'all',\n",
       " 'these',\n",
       " 'cards',\n",
       " 'except',\n",
       " 'the',\n",
       " 'sandisk',\n",
       " 'regular',\n",
       " 'are',\n",
       " 'class',\n",
       " 'uhs',\n",
       " 'i',\n",
       " 'but',\n",
       " 'that',\n",
       " 's',\n",
       " 'just',\n",
       " 'a',\n",
       " 'rating',\n",
       " 'actual',\n",
       " 'real',\n",
       " 'world',\n",
       " 'performance',\n",
       " 'does',\n",
       " 'get',\n",
       " 'better',\n",
       " 'with',\n",
       " 'each',\n",
       " 'model',\n",
       " 'but',\n",
       " 'with',\n",
       " 'faster',\n",
       " 'cards',\n",
       " 'come',\n",
       " 'more',\n",
       " 'expensive',\n",
       " 'prices',\n",
       " 'since',\n",
       " 'amazon',\n",
       " 'doesn',\n",
       " 't',\n",
       " 'carry',\n",
       " 'the',\n",
       " 'ultra',\n",
       " 'plus',\n",
       " 'model',\n",
       " 'of',\n",
       " 'microsd',\n",
       " 'card',\n",
       " 'i',\n",
       " 'had',\n",
       " 'to',\n",
       " 'do',\n",
       " 'direct',\n",
       " 'comparisons',\n",
       " 'between',\n",
       " 'the',\n",
       " 'sandisk',\n",
       " 'ultra',\n",
       " 'extreme',\n",
       " 'and',\n",
       " 'extreme',\n",
       " 'plus',\n",
       " 'as',\n",
       " 'mentioned',\n",
       " 'in',\n",
       " 'my',\n",
       " 'earlier',\n",
       " 'review',\n",
       " 'i',\n",
       " 'purchased',\n",
       " 'the',\n",
       " 'sandisk',\n",
       " 'ultra',\n",
       " 'for',\n",
       " 'my',\n",
       " 'galaxy',\n",
       " 's',\n",
       " 'my',\n",
       " 'question',\n",
       " 'was',\n",
       " 'did',\n",
       " 'i',\n",
       " 'want',\n",
       " 'to',\n",
       " 'pay',\n",
       " 'over',\n",
       " 'more',\n",
       " 'for',\n",
       " 'a',\n",
       " 'card',\n",
       " 'that',\n",
       " 'is',\n",
       " 'faster',\n",
       " 'than',\n",
       " 'the',\n",
       " 'one',\n",
       " 'i',\n",
       " 'already',\n",
       " 'owned',\n",
       " 'or',\n",
       " 'i',\n",
       " 'could',\n",
       " 'pay',\n",
       " 'almost',\n",
       " 'double',\n",
       " 'to',\n",
       " 'get',\n",
       " 'sandisk',\n",
       " 's',\n",
       " 'nd',\n",
       " 'most',\n",
       " 'fastest',\n",
       " 'microsd',\n",
       " 'card',\n",
       " 'the',\n",
       " 'ultra',\n",
       " 'works',\n",
       " 'perfectly',\n",
       " 'fine',\n",
       " 'for',\n",
       " 'my',\n",
       " 'style',\n",
       " 'of',\n",
       " 'usage',\n",
       " 'storing',\n",
       " 'capturing',\n",
       " 'pictures',\n",
       " 'hd',\n",
       " 'video',\n",
       " 'and',\n",
       " 'movie',\n",
       " 'playback',\n",
       " 'on',\n",
       " 'my',\n",
       " 'phone',\n",
       " 'so',\n",
       " 'in',\n",
       " 'the',\n",
       " 'end',\n",
       " 'i',\n",
       " 'ended',\n",
       " 'up',\n",
       " 'just',\n",
       " 'buying',\n",
       " 'another',\n",
       " 'sandisk',\n",
       " 'ultra',\n",
       " 'gb',\n",
       " 'card',\n",
       " 'i',\n",
       " 'use',\n",
       " 'my',\n",
       " 'cell',\n",
       " 'phone',\n",
       " 'more',\n",
       " 'than',\n",
       " 'i',\n",
       " 'do',\n",
       " 'my',\n",
       " 'tablet',\n",
       " 'and',\n",
       " 'if',\n",
       " 'the',\n",
       " 'card',\n",
       " 'is',\n",
       " 'good',\n",
       " 'enough',\n",
       " 'for',\n",
       " 'my',\n",
       " 'phone',\n",
       " 'it',\n",
       " 's',\n",
       " 'good',\n",
       " 'enough',\n",
       " 'for',\n",
       " 'my',\n",
       " 'tablet',\n",
       " 'i',\n",
       " 'don',\n",
       " 't',\n",
       " 'own',\n",
       " 'a',\n",
       " 'k',\n",
       " 'hd',\n",
       " 'camera',\n",
       " 'or',\n",
       " 'anything',\n",
       " 'like',\n",
       " 'that',\n",
       " 'so',\n",
       " 'i',\n",
       " 'honestly',\n",
       " 'didn',\n",
       " 't',\n",
       " 'see',\n",
       " 'a',\n",
       " 'need',\n",
       " 'to',\n",
       " 'get',\n",
       " 'one',\n",
       " 'of',\n",
       " 'the',\n",
       " 'faster',\n",
       " 'cards',\n",
       " 'at',\n",
       " 'this',\n",
       " 'time',\n",
       " 'i',\n",
       " 'am',\n",
       " 'now',\n",
       " 'a',\n",
       " 'proud',\n",
       " 'owner',\n",
       " 'of',\n",
       " 'sandisk',\n",
       " 'ultra',\n",
       " 'cards',\n",
       " 'and',\n",
       " 'have',\n",
       " 'absolutely',\n",
       " 'issues',\n",
       " 'with',\n",
       " 'it',\n",
       " 'in',\n",
       " 'my',\n",
       " 'samsung',\n",
       " 'devices',\n",
       " 'original',\n",
       " 'review',\n",
       " 'i',\n",
       " 'haven',\n",
       " 't',\n",
       " 'had',\n",
       " 'to',\n",
       " 'buy',\n",
       " 'a',\n",
       " 'microsd',\n",
       " 'card',\n",
       " 'in',\n",
       " 'a',\n",
       " 'long',\n",
       " 'time',\n",
       " 'the',\n",
       " 'last',\n",
       " 'time',\n",
       " 'i',\n",
       " 'bought',\n",
       " 'one',\n",
       " 'was',\n",
       " 'for',\n",
       " 'my',\n",
       " 'cell',\n",
       " 'phone',\n",
       " 'over',\n",
       " 'years',\n",
       " 'ago',\n",
       " 'but',\n",
       " 'since',\n",
       " 'my',\n",
       " 'cellular',\n",
       " 'contract',\n",
       " 'was',\n",
       " 'up',\n",
       " 'i',\n",
       " 'knew',\n",
       " 'i',\n",
       " 'would',\n",
       " 'have',\n",
       " 'to',\n",
       " 'get',\n",
       " 'a',\n",
       " 'newer',\n",
       " 'card',\n",
       " 'in',\n",
       " 'addition',\n",
       " 'to',\n",
       " 'my',\n",
       " 'new',\n",
       " 'phone',\n",
       " 'the',\n",
       " 'samsung',\n",
       " 'galaxy',\n",
       " 's',\n",
       " 'reason',\n",
       " 'for',\n",
       " 'this',\n",
       " 'is',\n",
       " 'because',\n",
       " 'i',\n",
       " 'knew',\n",
       " 'my',\n",
       " 'small',\n",
       " 'gb',\n",
       " 'microsd',\n",
       " 'card',\n",
       " 'wasn',\n",
       " 't',\n",
       " 'going',\n",
       " 'to',\n",
       " 'cut',\n",
       " 'it',\n",
       " 'doing',\n",
       " 'research',\n",
       " 'on',\n",
       " 'the',\n",
       " 'galaxy',\n",
       " 's',\n",
       " 'i',\n",
       " 'wanted',\n",
       " 'to',\n",
       " 'get',\n",
       " 'the',\n",
       " 'best',\n",
       " 'card',\n",
       " 'possible',\n",
       " 'that',\n",
       " 'had',\n",
       " 'decent',\n",
       " 'capacity',\n",
       " 'gb',\n",
       " 'or',\n",
       " 'greater',\n",
       " 'this',\n",
       " 'led',\n",
       " 'me',\n",
       " 'to',\n",
       " 'find',\n",
       " 'that',\n",
       " 'the',\n",
       " 'galaxy',\n",
       " 's',\n",
       " 'supports',\n",
       " 'the',\n",
       " 'microsdxc',\n",
       " 'class',\n",
       " 'uhs',\n",
       " 'i',\n",
       " 'card',\n",
       " 'which',\n",
       " 'is',\n",
       " 'the',\n",
       " 'fastest',\n",
       " 'possible',\n",
       " 'given',\n",
       " 'that',\n",
       " 'class',\n",
       " 'searching',\n",
       " 'for',\n",
       " 'that',\n",
       " 'specifically',\n",
       " 'on',\n",
       " 'amazon',\n",
       " 'gave',\n",
       " 'me',\n",
       " 'results',\n",
       " 'of',\n",
       " 'only',\n",
       " 'vendors',\n",
       " 'as',\n",
       " 'of',\n",
       " 'april',\n",
       " 'that',\n",
       " 'makes',\n",
       " 'these',\n",
       " 'microsdxc',\n",
       " 'class',\n",
       " 'uhs',\n",
       " 'cards',\n",
       " 'they',\n",
       " 'are',\n",
       " 'sandisk',\n",
       " 'the',\n",
       " 'majority',\n",
       " 'samsung',\n",
       " 'and',\n",
       " 'lexar',\n",
       " 'nobody',\n",
       " 'else',\n",
       " 'makes',\n",
       " 'these',\n",
       " 'that',\n",
       " 'are',\n",
       " 'sold',\n",
       " 'on',\n",
       " 'amazon',\n",
       " 'seeing',\n",
       " 'how',\n",
       " 'sandisk',\n",
       " 'is',\n",
       " 'a',\n",
       " 'pretty',\n",
       " 'good',\n",
       " 'name',\n",
       " 'out',\n",
       " 'of',\n",
       " 'the',\n",
       " 'i',\n",
       " 've',\n",
       " 'used',\n",
       " 'them',\n",
       " 'the',\n",
       " 'most',\n",
       " 'i',\n",
       " 'decided',\n",
       " 'upon',\n",
       " 'the',\n",
       " 'sandisk',\n",
       " 'because',\n",
       " 'lexar',\n",
       " 'was',\n",
       " 'overpriced',\n",
       " 'and',\n",
       " 'the',\n",
       " 'samsung',\n",
       " 'one',\n",
       " 'was',\n",
       " 'overpriced',\n",
       " 'as',\n",
       " 'well',\n",
       " 'as',\n",
       " 'not',\n",
       " 'eligible',\n",
       " 'for',\n",
       " 'amazon',\n",
       " 'prime',\n",
       " 'but',\n",
       " 'the',\n",
       " 'scary',\n",
       " 'thing',\n",
       " 'is',\n",
       " 'that',\n",
       " 'when',\n",
       " 'you',\n",
       " 'filter',\n",
       " 'by',\n",
       " 'the',\n",
       " 'sandisk',\n",
       " 'you',\n",
       " 'literally',\n",
       " 'get',\n",
       " 'dozens',\n",
       " 'of',\n",
       " 'options',\n",
       " 'all',\n",
       " 'of',\n",
       " 'them',\n",
       " 'have',\n",
       " 'different',\n",
       " 'model',\n",
       " 'numbers',\n",
       " 'different',\n",
       " 'sizes',\n",
       " 'etc',\n",
       " 'then',\n",
       " 'there',\n",
       " 's',\n",
       " 'that',\n",
       " 'confusion',\n",
       " 'of',\n",
       " 'what',\n",
       " 's',\n",
       " 'the',\n",
       " 'difference',\n",
       " 'between',\n",
       " 'sdhc',\n",
       " 'sdxc',\n",
       " 'sdhc',\n",
       " 'vs',\n",
       " 'sdxc',\n",
       " 'sdhc',\n",
       " 'stand',\n",
       " 'for',\n",
       " 'secure',\n",
       " 'digital',\n",
       " 'high',\n",
       " 'capacity',\n",
       " 'and',\n",
       " 'sdxc',\n",
       " 'stands',\n",
       " 'for',\n",
       " 'secure',\n",
       " 'digital',\n",
       " 'extended',\n",
       " 'capacity',\n",
       " 'essentially',\n",
       " 'these',\n",
       " 'two',\n",
       " 'cards',\n",
       " 'are',\n",
       " 'the',\n",
       " 'same',\n",
       " 'with',\n",
       " 'the',\n",
       " 'exception',\n",
       " 'that',\n",
       " 'sdhc',\n",
       " 'only',\n",
       " 'supports',\n",
       " 'capcities',\n",
       " 'up',\n",
       " 'to',\n",
       " 'gb',\n",
       " 'and',\n",
       " 'is',\n",
       " 'formated',\n",
       " 'with',\n",
       " 'the',\n",
       " 'fat',\n",
       " 'file',\n",
       " 'system',\n",
       " 'the',\n",
       " 'sdxc',\n",
       " 'cards',\n",
       " 'are',\n",
       " 'formatted',\n",
       " 'with',\n",
       " 'the',\n",
       " 'exfat',\n",
       " 'file',\n",
       " 'system',\n",
       " 'if',\n",
       " 'you',\n",
       " 'use',\n",
       " 'an',\n",
       " 'sdxc',\n",
       " 'card',\n",
       " 'in',\n",
       " 'a',\n",
       " 'device',\n",
       " 'it',\n",
       " 'must',\n",
       " 'support',\n",
       " 'that',\n",
       " 'file',\n",
       " 'system',\n",
       " 'otherwise',\n",
       " 'it',\n",
       " 'may',\n",
       " 'not',\n",
       " 'be',\n",
       " 'recognizable',\n",
       " 'and',\n",
       " 'or',\n",
       " 'you',\n",
       " 'have',\n",
       " 'to',\n",
       " 'reformat',\n",
       " 'the',\n",
       " 'card',\n",
       " 'to',\n",
       " 'fat',\n",
       " 'fat',\n",
       " 'vs',\n",
       " 'exfat',\n",
       " 'the',\n",
       " 'differences',\n",
       " 'between',\n",
       " 'the',\n",
       " 'two',\n",
       " 'file',\n",
       " 'systems',\n",
       " 'means',\n",
       " 'that',\n",
       " 'fat',\n",
       " 'has',\n",
       " 'a',\n",
       " 'maximum',\n",
       " 'file',\n",
       " 'size',\n",
       " 'of',\n",
       " 'gb',\n",
       " 'limited',\n",
       " 'by',\n",
       " 'that',\n",
       " 'file',\n",
       " 'system',\n",
       " 'exfat',\n",
       " 'on',\n",
       " 'the',\n",
       " 'otherhand',\n",
       " 'supports',\n",
       " 'file',\n",
       " 'sizes',\n",
       " 'up',\n",
       " 'to',\n",
       " 'tb',\n",
       " 'terabytes',\n",
       " 'the',\n",
       " 'only',\n",
       " 'thing',\n",
       " 'you',\n",
       " 'need',\n",
       " 'to',\n",
       " 'know',\n",
       " 'here',\n",
       " 'really',\n",
       " 'is',\n",
       " 'that',\n",
       " 'it',\n",
       " 's',\n",
       " 'possible',\n",
       " 'your',\n",
       " 'device',\n",
       " 'doesn',\n",
       " 't',\n",
       " 'support',\n",
       " 'exfat',\n",
       " 'if',\n",
       " 'that',\n",
       " 's',\n",
       " 'the',\n",
       " 'case',\n",
       " 'just',\n",
       " 'reformat',\n",
       " 'it',\n",
       " 'to',\n",
       " 'fat',\n",
       " 'remember',\n",
       " 'formatting',\n",
       " 'erases',\n",
       " 'all',\n",
       " 'data',\n",
       " 'to',\n",
       " 'clarify',\n",
       " 'the',\n",
       " 'model',\n",
       " 'numbers',\n",
       " 'i',\n",
       " 'i',\n",
       " 'hopped',\n",
       " 'over',\n",
       " 'to',\n",
       " 'the',\n",
       " 'sandisk',\n",
       " 'official',\n",
       " 'webpage',\n",
       " 'what',\n",
       " 'i',\n",
       " 'found',\n",
       " 'there',\n",
       " 'is',\n",
       " 'that',\n",
       " 'they',\n",
       " 'offer',\n",
       " 'two',\n",
       " 'highspeed',\n",
       " 'options',\n",
       " 'for',\n",
       " 'sandisk',\n",
       " 'cards',\n",
       " 'these',\n",
       " 'are',\n",
       " 'sandisk',\n",
       " 'extreme',\n",
       " 'pro',\n",
       " 'and',\n",
       " 'sandisk',\n",
       " 'ultra',\n",
       " 'sandisk',\n",
       " 'extreme',\n",
       " 'pro',\n",
       " 'is',\n",
       " 'a',\n",
       " 'line',\n",
       " 'that',\n",
       " 'supports',\n",
       " 'read',\n",
       " 'speeds',\n",
       " 'up',\n",
       " 'to',\n",
       " 'mb',\n",
       " 'sec',\n",
       " 'however',\n",
       " 'they',\n",
       " 'are',\n",
       " 'sdhc',\n",
       " 'only',\n",
       " 'to',\n",
       " 'make',\n",
       " 'things',\n",
       " 'worse',\n",
       " 'they',\n",
       " 'are',\n",
       " 'currently',\n",
       " 'only',\n",
       " 'available',\n",
       " 'in',\n",
       " 'gb',\n",
       " 'gb',\n",
       " 'capacities',\n",
       " 'since',\n",
       " 'one',\n",
       " 'of',\n",
       " 'my',\n",
       " 'requirements',\n",
       " 'was',\n",
       " 'to',\n",
       " 'have',\n",
       " 'a',\n",
       " 'lot',\n",
       " 'of',\n",
       " 'storage',\n",
       " 'i',\n",
       " 'ruled',\n",
       " 'these',\n",
       " 'out',\n",
       " 'the',\n",
       " 'remaining',\n",
       " 'devices',\n",
       " 'listed',\n",
       " 'on',\n",
       " 'amazon',\n",
       " 's',\n",
       " 'search',\n",
       " 'were',\n",
       " 'the',\n",
       " 'sandisk',\n",
       " 'ultra',\n",
       " 'line',\n",
       " 'but',\n",
       " 'here',\n",
       " 'confusion',\n",
       " 'sets',\n",
       " 'in',\n",
       " 'because',\n",
       " 'sandisk',\n",
       " 'separates',\n",
       " 'these',\n",
       " 'cards',\n",
       " 'to',\n",
       " 'two',\n",
       " 'different',\n",
       " 'devices',\n",
       " 'cameras',\n",
       " 'mobile',\n",
       " 'devices',\n",
       " 'is',\n",
       " 'there',\n",
       " 'a',\n",
       " 'real',\n",
       " 'difference',\n",
       " 'between',\n",
       " 'the',\n",
       " 'two',\n",
       " 'or',\n",
       " 'is',\n",
       " 'this',\n",
       " 'just',\n",
       " 'a',\n",
       " 'marketing',\n",
       " 'stunt',\n",
       " 'unfortunately',\n",
       " 'i',\n",
       " 'm',\n",
       " 'not',\n",
       " 'sure',\n",
       " 'but',\n",
       " 'i',\n",
       " 'do',\n",
       " 'know',\n",
       " 'the',\n",
       " 'price',\n",
       " 'difference',\n",
       " 'between',\n",
       " 'the',\n",
       " 'two',\n",
       " 'range',\n",
       " 'from',\n",
       " 'a',\n",
       " 'couple',\n",
       " 'cents',\n",
       " 'to',\n",
       " 'a',\n",
       " 'few',\n",
       " 'dollars',\n",
       " 'since',\n",
       " 'i',\n",
       " 'wasn',\n",
       " 't',\n",
       " 'sure',\n",
       " 'i',\n",
       " 'opted',\n",
       " 'for',\n",
       " 'the',\n",
       " 'one',\n",
       " 'specifically',\n",
       " 'targeted',\n",
       " 'for',\n",
       " 'mobile',\n",
       " 'devices',\n",
       " 'just',\n",
       " 'in',\n",
       " 'case',\n",
       " 'there',\n",
       " 'is',\n",
       " 'some',\n",
       " 'kind',\n",
       " 'of',\n",
       " 'compatibility',\n",
       " 'issue',\n",
       " 'to',\n",
       " 'find',\n",
       " 'the',\n",
       " 'exact',\n",
       " 'model',\n",
       " 'number',\n",
       " 'i',\n",
       " 'would',\n",
       " 'go',\n",
       " 'to',\n",
       " 'sandisk',\n",
       " 's',\n",
       " 'webpage',\n",
       " 'sandisk',\n",
       " 'com',\n",
       " 'and',\n",
       " 'compare',\n",
       " 'their',\n",
       " 'existing',\n",
       " 'product',\n",
       " 'lineup',\n",
       " 'from',\n",
       " 'there',\n",
       " 'you',\n",
       " 'get',\n",
       " 'exact',\n",
       " 'model',\n",
       " 'numbers',\n",
       " 'and',\n",
       " 'you',\n",
       " 'can',\n",
       " 'then',\n",
       " 'search',\n",
       " 'amazon',\n",
       " 'for',\n",
       " 'these',\n",
       " 'model',\n",
       " 'numbers',\n",
       " 'that',\n",
       " 'is',\n",
       " 'how',\n",
       " 'i',\n",
       " 'got',\n",
       " 'mine',\n",
       " 'sdsdqua',\n",
       " 'g',\n",
       " 'as',\n",
       " 'for',\n",
       " 'speed',\n",
       " 'tests',\n",
       " 'i',\n",
       " 'haven',\n",
       " 't',\n",
       " 'run',\n",
       " 'any',\n",
       " 'specific',\n",
       " 'testing',\n",
       " 'but',\n",
       " 'copying',\n",
       " 'gb',\n",
       " 'worth',\n",
       " 'of',\n",
       " 'data',\n",
       " 'from',\n",
       " 'my',\n",
       " 'pc',\n",
       " 'to',\n",
       " 'the',\n",
       " 'card',\n",
       " 'literally',\n",
       " 'took',\n",
       " 'just',\n",
       " 'a',\n",
       " 'few',\n",
       " 'minutes',\n",
       " 'one',\n",
       " 'last',\n",
       " 'note',\n",
       " 'is',\n",
       " ...]"
      ]
     },
     "execution_count": 54,
     "metadata": {},
     "output_type": "execute_result"
    }
   ],
   "source": [
    "example_review"
   ]
  },
  {
   "cell_type": "code",
   "execution_count": 55,
   "id": "f801aae1",
   "metadata": {
    "execution": {
     "iopub.execute_input": "2022-10-29T14:08:39.424783Z",
     "iopub.status.busy": "2022-10-29T14:08:39.423378Z",
     "iopub.status.idle": "2022-10-29T14:08:39.543030Z",
     "shell.execute_reply": "2022-10-29T14:08:39.541902Z"
    },
    "papermill": {
     "duration": 0.158267,
     "end_time": "2022-10-29T14:08:39.546271",
     "exception": false,
     "start_time": "2022-10-29T14:08:39.388004",
     "status": "completed"
    },
    "tags": []
   },
   "outputs": [
    {
     "data": {
      "text/html": [
       "<div>\n",
       "<style scoped>\n",
       "    .dataframe tbody tr th:only-of-type {\n",
       "        vertical-align: middle;\n",
       "    }\n",
       "\n",
       "    .dataframe tbody tr th {\n",
       "        vertical-align: top;\n",
       "    }\n",
       "\n",
       "    .dataframe thead th {\n",
       "        text-align: right;\n",
       "    }\n",
       "</style>\n",
       "<table border=\"1\" class=\"dataframe\">\n",
       "  <thead>\n",
       "    <tr style=\"text-align: right;\">\n",
       "      <th></th>\n",
       "      <th>reviewerName</th>\n",
       "      <th>overall</th>\n",
       "      <th>reviewText</th>\n",
       "      <th>reviewTime</th>\n",
       "      <th>day_diff</th>\n",
       "      <th>helpful_yes</th>\n",
       "      <th>helpful_no</th>\n",
       "      <th>total_vote</th>\n",
       "      <th>score_pos_neg_diff</th>\n",
       "      <th>score_average_rating</th>\n",
       "      <th>wilson_lower_bound</th>\n",
       "    </tr>\n",
       "  </thead>\n",
       "  <tbody>\n",
       "    <tr>\n",
       "      <th>2031</th>\n",
       "      <td>Hyoun Kim \"Faluzure\"</td>\n",
       "      <td>5.0</td>\n",
       "      <td>update               so my lovely wife boug...</td>\n",
       "      <td>2013-01-05</td>\n",
       "      <td>702</td>\n",
       "      <td>1952</td>\n",
       "      <td>68</td>\n",
       "      <td>2020</td>\n",
       "      <td>1884</td>\n",
       "      <td>0.966337</td>\n",
       "      <td>0.957544</td>\n",
       "    </tr>\n",
       "    <tr>\n",
       "      <th>3449</th>\n",
       "      <td>NLee the Engineer</td>\n",
       "      <td>5.0</td>\n",
       "      <td>i have tested dozens of sdhc and micro sdhc ca...</td>\n",
       "      <td>2012-09-26</td>\n",
       "      <td>803</td>\n",
       "      <td>1428</td>\n",
       "      <td>77</td>\n",
       "      <td>1505</td>\n",
       "      <td>1351</td>\n",
       "      <td>0.948837</td>\n",
       "      <td>0.936519</td>\n",
       "    </tr>\n",
       "    <tr>\n",
       "      <th>4212</th>\n",
       "      <td>SkincareCEO</td>\n",
       "      <td>1.0</td>\n",
       "      <td>note   please read the last update  scroll to ...</td>\n",
       "      <td>2013-05-08</td>\n",
       "      <td>579</td>\n",
       "      <td>1568</td>\n",
       "      <td>126</td>\n",
       "      <td>1694</td>\n",
       "      <td>1442</td>\n",
       "      <td>0.925620</td>\n",
       "      <td>0.912139</td>\n",
       "    </tr>\n",
       "    <tr>\n",
       "      <th>317</th>\n",
       "      <td>Amazon Customer \"Kelly\"</td>\n",
       "      <td>1.0</td>\n",
       "      <td>if your card gets hot enough to be painful  it...</td>\n",
       "      <td>2012-02-09</td>\n",
       "      <td>1033</td>\n",
       "      <td>422</td>\n",
       "      <td>73</td>\n",
       "      <td>495</td>\n",
       "      <td>349</td>\n",
       "      <td>0.852525</td>\n",
       "      <td>0.818577</td>\n",
       "    </tr>\n",
       "    <tr>\n",
       "      <th>4672</th>\n",
       "      <td>Twister</td>\n",
       "      <td>5.0</td>\n",
       "      <td>sandisk announcement of the first    gb micro ...</td>\n",
       "      <td>2014-07-03</td>\n",
       "      <td>158</td>\n",
       "      <td>45</td>\n",
       "      <td>4</td>\n",
       "      <td>49</td>\n",
       "      <td>41</td>\n",
       "      <td>0.918367</td>\n",
       "      <td>0.808109</td>\n",
       "    </tr>\n",
       "    <tr>\n",
       "      <th>1835</th>\n",
       "      <td>goconfigure</td>\n",
       "      <td>5.0</td>\n",
       "      <td>bought from bestbuy online the day it was anno...</td>\n",
       "      <td>2014-02-28</td>\n",
       "      <td>283</td>\n",
       "      <td>60</td>\n",
       "      <td>8</td>\n",
       "      <td>68</td>\n",
       "      <td>52</td>\n",
       "      <td>0.882353</td>\n",
       "      <td>0.784651</td>\n",
       "    </tr>\n",
       "    <tr>\n",
       "      <th>3981</th>\n",
       "      <td>R. Sutton, Jr. \"RWSynergy\"</td>\n",
       "      <td>5.0</td>\n",
       "      <td>the last few days i have been diligently shopp...</td>\n",
       "      <td>2012-10-22</td>\n",
       "      <td>777</td>\n",
       "      <td>112</td>\n",
       "      <td>27</td>\n",
       "      <td>139</td>\n",
       "      <td>85</td>\n",
       "      <td>0.805755</td>\n",
       "      <td>0.732136</td>\n",
       "    </tr>\n",
       "    <tr>\n",
       "      <th>3807</th>\n",
       "      <td>R. Heisler</td>\n",
       "      <td>3.0</td>\n",
       "      <td>i bought this card to replace a lost    gig in...</td>\n",
       "      <td>2013-02-27</td>\n",
       "      <td>649</td>\n",
       "      <td>22</td>\n",
       "      <td>3</td>\n",
       "      <td>25</td>\n",
       "      <td>19</td>\n",
       "      <td>0.880000</td>\n",
       "      <td>0.700442</td>\n",
       "    </tr>\n",
       "    <tr>\n",
       "      <th>4306</th>\n",
       "      <td>Stellar Eller</td>\n",
       "      <td>5.0</td>\n",
       "      <td>while i got this card as a  deal of the day  o...</td>\n",
       "      <td>2012-09-06</td>\n",
       "      <td>823</td>\n",
       "      <td>51</td>\n",
       "      <td>14</td>\n",
       "      <td>65</td>\n",
       "      <td>37</td>\n",
       "      <td>0.784615</td>\n",
       "      <td>0.670334</td>\n",
       "    </tr>\n",
       "    <tr>\n",
       "      <th>4596</th>\n",
       "      <td>Tom Henriksen \"Doggy Diner\"</td>\n",
       "      <td>1.0</td>\n",
       "      <td>hi i ordered two card and they arrived the nex...</td>\n",
       "      <td>2012-09-22</td>\n",
       "      <td>807</td>\n",
       "      <td>82</td>\n",
       "      <td>27</td>\n",
       "      <td>109</td>\n",
       "      <td>55</td>\n",
       "      <td>0.752294</td>\n",
       "      <td>0.663595</td>\n",
       "    </tr>\n",
       "  </tbody>\n",
       "</table>\n",
       "</div>"
      ],
      "text/plain": [
       "                     reviewerName  overall  \\\n",
       "2031         Hyoun Kim \"Faluzure\"      5.0   \n",
       "3449            NLee the Engineer      5.0   \n",
       "4212                  SkincareCEO      1.0   \n",
       "317       Amazon Customer \"Kelly\"      1.0   \n",
       "4672                      Twister      5.0   \n",
       "1835                  goconfigure      5.0   \n",
       "3981   R. Sutton, Jr. \"RWSynergy\"      5.0   \n",
       "3807                   R. Heisler      3.0   \n",
       "4306                Stellar Eller      5.0   \n",
       "4596  Tom Henriksen \"Doggy Diner\"      1.0   \n",
       "\n",
       "                                             reviewText  reviewTime  day_diff  \\\n",
       "2031     update               so my lovely wife boug...  2013-01-05       702   \n",
       "3449  i have tested dozens of sdhc and micro sdhc ca...  2012-09-26       803   \n",
       "4212  note   please read the last update  scroll to ...  2013-05-08       579   \n",
       "317   if your card gets hot enough to be painful  it...  2012-02-09      1033   \n",
       "4672  sandisk announcement of the first    gb micro ...  2014-07-03       158   \n",
       "1835  bought from bestbuy online the day it was anno...  2014-02-28       283   \n",
       "3981  the last few days i have been diligently shopp...  2012-10-22       777   \n",
       "3807  i bought this card to replace a lost    gig in...  2013-02-27       649   \n",
       "4306  while i got this card as a  deal of the day  o...  2012-09-06       823   \n",
       "4596  hi i ordered two card and they arrived the nex...  2012-09-22       807   \n",
       "\n",
       "      helpful_yes  helpful_no  total_vote  score_pos_neg_diff  \\\n",
       "2031         1952          68        2020                1884   \n",
       "3449         1428          77        1505                1351   \n",
       "4212         1568         126        1694                1442   \n",
       "317           422          73         495                 349   \n",
       "4672           45           4          49                  41   \n",
       "1835           60           8          68                  52   \n",
       "3981          112          27         139                  85   \n",
       "3807           22           3          25                  19   \n",
       "4306           51          14          65                  37   \n",
       "4596           82          27         109                  55   \n",
       "\n",
       "      score_average_rating  wilson_lower_bound  \n",
       "2031              0.966337            0.957544  \n",
       "3449              0.948837            0.936519  \n",
       "4212              0.925620            0.912139  \n",
       "317               0.852525            0.818577  \n",
       "4672              0.918367            0.808109  \n",
       "1835              0.882353            0.784651  \n",
       "3981              0.805755            0.732136  \n",
       "3807              0.880000            0.700442  \n",
       "4306              0.784615            0.670334  \n",
       "4596              0.752294            0.663595  "
      ]
     },
     "execution_count": 55,
     "metadata": {},
     "output_type": "execute_result"
    }
   ],
   "source": [
    "rt = lambda x: re.sub(\"[^a-zA-Z]\",' ',str(x))\n",
    "df[\"reviewText\"] = df[\"reviewText\"].map(rt)\n",
    "df[\"reviewText\"] = df[\"reviewText\"].str.lower()\n",
    "df.head(10)"
   ]
  },
  {
   "cell_type": "code",
   "execution_count": 56,
   "id": "49075e17",
   "metadata": {
    "execution": {
     "iopub.execute_input": "2022-10-29T14:08:39.613091Z",
     "iopub.status.busy": "2022-10-29T14:08:39.612473Z",
     "iopub.status.idle": "2022-10-29T14:09:29.823156Z",
     "shell.execute_reply": "2022-10-29T14:09:29.821982Z"
    },
    "papermill": {
     "duration": 50.249653,
     "end_time": "2022-10-29T14:09:29.826202",
     "exception": false,
     "start_time": "2022-10-29T14:08:39.576549",
     "status": "completed"
    },
    "tags": []
   },
   "outputs": [],
   "source": [
    "'''\n",
    "# Sentiment analysis\n",
    "# TextBlob Exit will return polarity and subjectivity.\n",
    "# Polarity indicates your mood, that is, whether it is positive.\n",
    "# It returns a value between 0 and 1. The closer to 1 the more positive, the closer to 0 the more negative.\n",
    "'''\n",
    "\n",
    "df[['polarity', 'subjectivity']] = df['reviewText'].apply(lambda Text: pd.Series(TextBlob(Text).sentiment))\n",
    "\n",
    "for index, row in df['reviewText'].iteritems():\n",
    "\n",
    "    score = SentimentIntensityAnalyzer().polarity_scores(row)\n",
    "\n",
    "    neg = score['neg']\n",
    "    neu = score['neu']\n",
    "    pos = score['pos']\n",
    "    if neg > pos:\n",
    "        df.loc[index, 'sentiment'] = \"Negative\"\n",
    "    elif pos > neg:\n",
    "        df.loc[index, 'sentiment'] = \"Positive\"\n",
    "    else:\n",
    "        df.loc[index, 'sentiment'] = \"neutral\""
   ]
  },
  {
   "cell_type": "code",
   "execution_count": 57,
   "id": "8c635c86",
   "metadata": {
    "execution": {
     "iopub.execute_input": "2022-10-29T14:09:29.877537Z",
     "iopub.status.busy": "2022-10-29T14:09:29.876654Z",
     "iopub.status.idle": "2022-10-29T14:09:29.899344Z",
     "shell.execute_reply": "2022-10-29T14:09:29.898230Z"
    },
    "papermill": {
     "duration": 0.050215,
     "end_time": "2022-10-29T14:09:29.901626",
     "exception": false,
     "start_time": "2022-10-29T14:09:29.851411",
     "status": "completed"
    },
    "tags": []
   },
   "outputs": [
    {
     "data": {
      "text/html": [
       "<div>\n",
       "<style scoped>\n",
       "    .dataframe tbody tr th:only-of-type {\n",
       "        vertical-align: middle;\n",
       "    }\n",
       "\n",
       "    .dataframe tbody tr th {\n",
       "        vertical-align: top;\n",
       "    }\n",
       "\n",
       "    .dataframe thead th {\n",
       "        text-align: right;\n",
       "    }\n",
       "</style>\n",
       "<table border=\"1\" class=\"dataframe\">\n",
       "  <thead>\n",
       "    <tr style=\"text-align: right;\">\n",
       "      <th></th>\n",
       "      <th>reviewerName</th>\n",
       "      <th>overall</th>\n",
       "      <th>reviewText</th>\n",
       "      <th>reviewTime</th>\n",
       "      <th>day_diff</th>\n",
       "      <th>helpful_yes</th>\n",
       "      <th>helpful_no</th>\n",
       "      <th>total_vote</th>\n",
       "      <th>score_pos_neg_diff</th>\n",
       "      <th>score_average_rating</th>\n",
       "      <th>wilson_lower_bound</th>\n",
       "      <th>polarity</th>\n",
       "      <th>subjectivity</th>\n",
       "      <th>sentiment</th>\n",
       "    </tr>\n",
       "  </thead>\n",
       "  <tbody>\n",
       "    <tr>\n",
       "      <th>2031</th>\n",
       "      <td>Hyoun Kim \"Faluzure\"</td>\n",
       "      <td>5.0</td>\n",
       "      <td>update               so my lovely wife boug...</td>\n",
       "      <td>2013-01-05</td>\n",
       "      <td>702</td>\n",
       "      <td>1952</td>\n",
       "      <td>68</td>\n",
       "      <td>2020</td>\n",
       "      <td>1884</td>\n",
       "      <td>0.966337</td>\n",
       "      <td>0.957544</td>\n",
       "      <td>0.163859</td>\n",
       "      <td>0.562259</td>\n",
       "      <td>Positive</td>\n",
       "    </tr>\n",
       "    <tr>\n",
       "      <th>3449</th>\n",
       "      <td>NLee the Engineer</td>\n",
       "      <td>5.0</td>\n",
       "      <td>i have tested dozens of sdhc and micro sdhc ca...</td>\n",
       "      <td>2012-09-26</td>\n",
       "      <td>803</td>\n",
       "      <td>1428</td>\n",
       "      <td>77</td>\n",
       "      <td>1505</td>\n",
       "      <td>1351</td>\n",
       "      <td>0.948837</td>\n",
       "      <td>0.936519</td>\n",
       "      <td>0.103870</td>\n",
       "      <td>0.516435</td>\n",
       "      <td>Positive</td>\n",
       "    </tr>\n",
       "    <tr>\n",
       "      <th>4212</th>\n",
       "      <td>SkincareCEO</td>\n",
       "      <td>1.0</td>\n",
       "      <td>note   please read the last update  scroll to ...</td>\n",
       "      <td>2013-05-08</td>\n",
       "      <td>579</td>\n",
       "      <td>1568</td>\n",
       "      <td>126</td>\n",
       "      <td>1694</td>\n",
       "      <td>1442</td>\n",
       "      <td>0.925620</td>\n",
       "      <td>0.912139</td>\n",
       "      <td>0.212251</td>\n",
       "      <td>0.505394</td>\n",
       "      <td>Positive</td>\n",
       "    </tr>\n",
       "    <tr>\n",
       "      <th>317</th>\n",
       "      <td>Amazon Customer \"Kelly\"</td>\n",
       "      <td>1.0</td>\n",
       "      <td>if your card gets hot enough to be painful  it...</td>\n",
       "      <td>2012-02-09</td>\n",
       "      <td>1033</td>\n",
       "      <td>422</td>\n",
       "      <td>73</td>\n",
       "      <td>495</td>\n",
       "      <td>349</td>\n",
       "      <td>0.852525</td>\n",
       "      <td>0.818577</td>\n",
       "      <td>0.143519</td>\n",
       "      <td>0.494207</td>\n",
       "      <td>Positive</td>\n",
       "    </tr>\n",
       "    <tr>\n",
       "      <th>4672</th>\n",
       "      <td>Twister</td>\n",
       "      <td>5.0</td>\n",
       "      <td>sandisk announcement of the first    gb micro ...</td>\n",
       "      <td>2014-07-03</td>\n",
       "      <td>158</td>\n",
       "      <td>45</td>\n",
       "      <td>4</td>\n",
       "      <td>49</td>\n",
       "      <td>41</td>\n",
       "      <td>0.918367</td>\n",
       "      <td>0.808109</td>\n",
       "      <td>0.172332</td>\n",
       "      <td>0.511282</td>\n",
       "      <td>Positive</td>\n",
       "    </tr>\n",
       "  </tbody>\n",
       "</table>\n",
       "</div>"
      ],
      "text/plain": [
       "                 reviewerName  overall  \\\n",
       "2031     Hyoun Kim \"Faluzure\"      5.0   \n",
       "3449        NLee the Engineer      5.0   \n",
       "4212              SkincareCEO      1.0   \n",
       "317   Amazon Customer \"Kelly\"      1.0   \n",
       "4672                  Twister      5.0   \n",
       "\n",
       "                                             reviewText  reviewTime  day_diff  \\\n",
       "2031     update               so my lovely wife boug...  2013-01-05       702   \n",
       "3449  i have tested dozens of sdhc and micro sdhc ca...  2012-09-26       803   \n",
       "4212  note   please read the last update  scroll to ...  2013-05-08       579   \n",
       "317   if your card gets hot enough to be painful  it...  2012-02-09      1033   \n",
       "4672  sandisk announcement of the first    gb micro ...  2014-07-03       158   \n",
       "\n",
       "      helpful_yes  helpful_no  total_vote  score_pos_neg_diff  \\\n",
       "2031         1952          68        2020                1884   \n",
       "3449         1428          77        1505                1351   \n",
       "4212         1568         126        1694                1442   \n",
       "317           422          73         495                 349   \n",
       "4672           45           4          49                  41   \n",
       "\n",
       "      score_average_rating  wilson_lower_bound  polarity  subjectivity  \\\n",
       "2031              0.966337            0.957544  0.163859      0.562259   \n",
       "3449              0.948837            0.936519  0.103870      0.516435   \n",
       "4212              0.925620            0.912139  0.212251      0.505394   \n",
       "317               0.852525            0.818577  0.143519      0.494207   \n",
       "4672              0.918367            0.808109  0.172332      0.511282   \n",
       "\n",
       "     sentiment  \n",
       "2031  Positive  \n",
       "3449  Positive  \n",
       "4212  Positive  \n",
       "317   Positive  \n",
       "4672  Positive  "
      ]
     },
     "execution_count": 57,
     "metadata": {},
     "output_type": "execute_result"
    }
   ],
   "source": [
    "df[df[\"sentiment\"] == \"Positive\"].sort_values(\"wilson_lower_bound\", ascending=False).head(5)"
   ]
  },
  {
   "cell_type": "code",
   "execution_count": 58,
   "id": "9a0caac6",
   "metadata": {
    "execution": {
     "iopub.execute_input": "2022-10-29T14:09:29.953136Z",
     "iopub.status.busy": "2022-10-29T14:09:29.952756Z",
     "iopub.status.idle": "2022-10-29T14:09:30.024105Z",
     "shell.execute_reply": "2022-10-29T14:09:30.023000Z"
    },
    "papermill": {
     "duration": 0.099896,
     "end_time": "2022-10-29T14:09:30.026361",
     "exception": false,
     "start_time": "2022-10-29T14:09:29.926465",
     "status": "completed"
    },
    "tags": []
   },
   "outputs": [
    {
     "data": {
      "text/html": [
       "<div>                            <div id=\"b06d5fb8-9ab9-4a22-98f7-00994c30059b\" class=\"plotly-graph-div\" style=\"height:525px; width:100%;\"></div>            <script type=\"text/javascript\">                require([\"plotly\"], function(Plotly) {                    window.PLOTLYENV=window.PLOTLYENV || {};                                    if (document.getElementById(\"b06d5fb8-9ab9-4a22-98f7-00994c30059b\")) {                    Plotly.newPlot(                        \"b06d5fb8-9ab9-4a22-98f7-00994c30059b\",                        [{\"marker\":{\"color\":[\"#581845\",\"#C70039\",\"#2E4053\",\"#1ABC9C\",\"#7F8C8D\"],\"line\":{\"color\":\"#DBE6EC\",\"width\":1}},\"name\":\"sentiment\",\"showlegend\":false,\"text\":[\"3702\",\"939\",\"272\"],\"textfont\":{\"size\":15},\"textposition\":\"auto\",\"x\":[\"Positive\",\"Negative\",\"neutral\"],\"xaxis\":\"x\",\"y\":[3702,939,272],\"yaxis\":\"y\",\"type\":\"bar\"},{\"domain\":{\"x\":[0.55,1.0],\"y\":[0.0,1.0]},\"labels\":[\"Positive\",\"Negative\",\"neutral\"],\"marker\":{\"colors\":[\"#581845\",\"#C70039\",\"#2E4053\",\"#1ABC9C\",\"#7F8C8D\"]},\"name\":\"sentiment\",\"showlegend\":false,\"textfont\":{\"size\":20},\"textposition\":\"auto\",\"values\":[3702,939,272],\"type\":\"pie\"}],                        {\"annotations\":[{\"font\":{\"size\":16},\"showarrow\":false,\"text\":\"Countplot\",\"x\":0.225,\"xanchor\":\"center\",\"xref\":\"paper\",\"y\":1.0,\"yanchor\":\"bottom\",\"yref\":\"paper\"},{\"font\":{\"size\":16},\"showarrow\":false,\"text\":\"Percentages\",\"x\":0.775,\"xanchor\":\"center\",\"xref\":\"paper\",\"y\":1.0,\"yanchor\":\"bottom\",\"yref\":\"paper\"}],\"template\":{\"data\":{\"barpolar\":[{\"marker\":{\"line\":{\"color\":\"white\",\"width\":0.5},\"pattern\":{\"fillmode\":\"overlay\",\"size\":10,\"solidity\":0.2}},\"type\":\"barpolar\"}],\"bar\":[{\"error_x\":{\"color\":\"#2a3f5f\"},\"error_y\":{\"color\":\"#2a3f5f\"},\"marker\":{\"line\":{\"color\":\"white\",\"width\":0.5},\"pattern\":{\"fillmode\":\"overlay\",\"size\":10,\"solidity\":0.2}},\"type\":\"bar\"}],\"carpet\":[{\"aaxis\":{\"endlinecolor\":\"#2a3f5f\",\"gridcolor\":\"#C8D4E3\",\"linecolor\":\"#C8D4E3\",\"minorgridcolor\":\"#C8D4E3\",\"startlinecolor\":\"#2a3f5f\"},\"baxis\":{\"endlinecolor\":\"#2a3f5f\",\"gridcolor\":\"#C8D4E3\",\"linecolor\":\"#C8D4E3\",\"minorgridcolor\":\"#C8D4E3\",\"startlinecolor\":\"#2a3f5f\"},\"type\":\"carpet\"}],\"choropleth\":[{\"colorbar\":{\"outlinewidth\":0,\"ticks\":\"\"},\"type\":\"choropleth\"}],\"contourcarpet\":[{\"colorbar\":{\"outlinewidth\":0,\"ticks\":\"\"},\"type\":\"contourcarpet\"}],\"contour\":[{\"colorbar\":{\"outlinewidth\":0,\"ticks\":\"\"},\"colorscale\":[[0.0,\"#0d0887\"],[0.1111111111111111,\"#46039f\"],[0.2222222222222222,\"#7201a8\"],[0.3333333333333333,\"#9c179e\"],[0.4444444444444444,\"#bd3786\"],[0.5555555555555556,\"#d8576b\"],[0.6666666666666666,\"#ed7953\"],[0.7777777777777778,\"#fb9f3a\"],[0.8888888888888888,\"#fdca26\"],[1.0,\"#f0f921\"]],\"type\":\"contour\"}],\"heatmapgl\":[{\"colorbar\":{\"outlinewidth\":0,\"ticks\":\"\"},\"colorscale\":[[0.0,\"#0d0887\"],[0.1111111111111111,\"#46039f\"],[0.2222222222222222,\"#7201a8\"],[0.3333333333333333,\"#9c179e\"],[0.4444444444444444,\"#bd3786\"],[0.5555555555555556,\"#d8576b\"],[0.6666666666666666,\"#ed7953\"],[0.7777777777777778,\"#fb9f3a\"],[0.8888888888888888,\"#fdca26\"],[1.0,\"#f0f921\"]],\"type\":\"heatmapgl\"}],\"heatmap\":[{\"colorbar\":{\"outlinewidth\":0,\"ticks\":\"\"},\"colorscale\":[[0.0,\"#0d0887\"],[0.1111111111111111,\"#46039f\"],[0.2222222222222222,\"#7201a8\"],[0.3333333333333333,\"#9c179e\"],[0.4444444444444444,\"#bd3786\"],[0.5555555555555556,\"#d8576b\"],[0.6666666666666666,\"#ed7953\"],[0.7777777777777778,\"#fb9f3a\"],[0.8888888888888888,\"#fdca26\"],[1.0,\"#f0f921\"]],\"type\":\"heatmap\"}],\"histogram2dcontour\":[{\"colorbar\":{\"outlinewidth\":0,\"ticks\":\"\"},\"colorscale\":[[0.0,\"#0d0887\"],[0.1111111111111111,\"#46039f\"],[0.2222222222222222,\"#7201a8\"],[0.3333333333333333,\"#9c179e\"],[0.4444444444444444,\"#bd3786\"],[0.5555555555555556,\"#d8576b\"],[0.6666666666666666,\"#ed7953\"],[0.7777777777777778,\"#fb9f3a\"],[0.8888888888888888,\"#fdca26\"],[1.0,\"#f0f921\"]],\"type\":\"histogram2dcontour\"}],\"histogram2d\":[{\"colorbar\":{\"outlinewidth\":0,\"ticks\":\"\"},\"colorscale\":[[0.0,\"#0d0887\"],[0.1111111111111111,\"#46039f\"],[0.2222222222222222,\"#7201a8\"],[0.3333333333333333,\"#9c179e\"],[0.4444444444444444,\"#bd3786\"],[0.5555555555555556,\"#d8576b\"],[0.6666666666666666,\"#ed7953\"],[0.7777777777777778,\"#fb9f3a\"],[0.8888888888888888,\"#fdca26\"],[1.0,\"#f0f921\"]],\"type\":\"histogram2d\"}],\"histogram\":[{\"marker\":{\"pattern\":{\"fillmode\":\"overlay\",\"size\":10,\"solidity\":0.2}},\"type\":\"histogram\"}],\"mesh3d\":[{\"colorbar\":{\"outlinewidth\":0,\"ticks\":\"\"},\"type\":\"mesh3d\"}],\"parcoords\":[{\"line\":{\"colorbar\":{\"outlinewidth\":0,\"ticks\":\"\"}},\"type\":\"parcoords\"}],\"pie\":[{\"automargin\":true,\"type\":\"pie\"}],\"scatter3d\":[{\"line\":{\"colorbar\":{\"outlinewidth\":0,\"ticks\":\"\"}},\"marker\":{\"colorbar\":{\"outlinewidth\":0,\"ticks\":\"\"}},\"type\":\"scatter3d\"}],\"scattercarpet\":[{\"marker\":{\"colorbar\":{\"outlinewidth\":0,\"ticks\":\"\"}},\"type\":\"scattercarpet\"}],\"scattergeo\":[{\"marker\":{\"colorbar\":{\"outlinewidth\":0,\"ticks\":\"\"}},\"type\":\"scattergeo\"}],\"scattergl\":[{\"marker\":{\"colorbar\":{\"outlinewidth\":0,\"ticks\":\"\"}},\"type\":\"scattergl\"}],\"scattermapbox\":[{\"marker\":{\"colorbar\":{\"outlinewidth\":0,\"ticks\":\"\"}},\"type\":\"scattermapbox\"}],\"scatterpolargl\":[{\"marker\":{\"colorbar\":{\"outlinewidth\":0,\"ticks\":\"\"}},\"type\":\"scatterpolargl\"}],\"scatterpolar\":[{\"marker\":{\"colorbar\":{\"outlinewidth\":0,\"ticks\":\"\"}},\"type\":\"scatterpolar\"}],\"scatter\":[{\"fillpattern\":{\"fillmode\":\"overlay\",\"size\":10,\"solidity\":0.2},\"type\":\"scatter\"}],\"scatterternary\":[{\"marker\":{\"colorbar\":{\"outlinewidth\":0,\"ticks\":\"\"}},\"type\":\"scatterternary\"}],\"surface\":[{\"colorbar\":{\"outlinewidth\":0,\"ticks\":\"\"},\"colorscale\":[[0.0,\"#0d0887\"],[0.1111111111111111,\"#46039f\"],[0.2222222222222222,\"#7201a8\"],[0.3333333333333333,\"#9c179e\"],[0.4444444444444444,\"#bd3786\"],[0.5555555555555556,\"#d8576b\"],[0.6666666666666666,\"#ed7953\"],[0.7777777777777778,\"#fb9f3a\"],[0.8888888888888888,\"#fdca26\"],[1.0,\"#f0f921\"]],\"type\":\"surface\"}],\"table\":[{\"cells\":{\"fill\":{\"color\":\"#EBF0F8\"},\"line\":{\"color\":\"white\"}},\"header\":{\"fill\":{\"color\":\"#C8D4E3\"},\"line\":{\"color\":\"white\"}},\"type\":\"table\"}]},\"layout\":{\"annotationdefaults\":{\"arrowcolor\":\"#2a3f5f\",\"arrowhead\":0,\"arrowwidth\":1},\"autotypenumbers\":\"strict\",\"coloraxis\":{\"colorbar\":{\"outlinewidth\":0,\"ticks\":\"\"}},\"colorscale\":{\"diverging\":[[0,\"#8e0152\"],[0.1,\"#c51b7d\"],[0.2,\"#de77ae\"],[0.3,\"#f1b6da\"],[0.4,\"#fde0ef\"],[0.5,\"#f7f7f7\"],[0.6,\"#e6f5d0\"],[0.7,\"#b8e186\"],[0.8,\"#7fbc41\"],[0.9,\"#4d9221\"],[1,\"#276419\"]],\"sequential\":[[0.0,\"#0d0887\"],[0.1111111111111111,\"#46039f\"],[0.2222222222222222,\"#7201a8\"],[0.3333333333333333,\"#9c179e\"],[0.4444444444444444,\"#bd3786\"],[0.5555555555555556,\"#d8576b\"],[0.6666666666666666,\"#ed7953\"],[0.7777777777777778,\"#fb9f3a\"],[0.8888888888888888,\"#fdca26\"],[1.0,\"#f0f921\"]],\"sequentialminus\":[[0.0,\"#0d0887\"],[0.1111111111111111,\"#46039f\"],[0.2222222222222222,\"#7201a8\"],[0.3333333333333333,\"#9c179e\"],[0.4444444444444444,\"#bd3786\"],[0.5555555555555556,\"#d8576b\"],[0.6666666666666666,\"#ed7953\"],[0.7777777777777778,\"#fb9f3a\"],[0.8888888888888888,\"#fdca26\"],[1.0,\"#f0f921\"]]},\"colorway\":[\"#636efa\",\"#EF553B\",\"#00cc96\",\"#ab63fa\",\"#FFA15A\",\"#19d3f3\",\"#FF6692\",\"#B6E880\",\"#FF97FF\",\"#FECB52\"],\"font\":{\"color\":\"#2a3f5f\"},\"geo\":{\"bgcolor\":\"white\",\"lakecolor\":\"white\",\"landcolor\":\"white\",\"showlakes\":true,\"showland\":true,\"subunitcolor\":\"#C8D4E3\"},\"hoverlabel\":{\"align\":\"left\"},\"hovermode\":\"closest\",\"mapbox\":{\"style\":\"light\"},\"paper_bgcolor\":\"white\",\"plot_bgcolor\":\"white\",\"polar\":{\"angularaxis\":{\"gridcolor\":\"#EBF0F8\",\"linecolor\":\"#EBF0F8\",\"ticks\":\"\"},\"bgcolor\":\"white\",\"radialaxis\":{\"gridcolor\":\"#EBF0F8\",\"linecolor\":\"#EBF0F8\",\"ticks\":\"\"}},\"scene\":{\"xaxis\":{\"backgroundcolor\":\"white\",\"gridcolor\":\"#DFE8F3\",\"gridwidth\":2,\"linecolor\":\"#EBF0F8\",\"showbackground\":true,\"ticks\":\"\",\"zerolinecolor\":\"#EBF0F8\"},\"yaxis\":{\"backgroundcolor\":\"white\",\"gridcolor\":\"#DFE8F3\",\"gridwidth\":2,\"linecolor\":\"#EBF0F8\",\"showbackground\":true,\"ticks\":\"\",\"zerolinecolor\":\"#EBF0F8\"},\"zaxis\":{\"backgroundcolor\":\"white\",\"gridcolor\":\"#DFE8F3\",\"gridwidth\":2,\"linecolor\":\"#EBF0F8\",\"showbackground\":true,\"ticks\":\"\",\"zerolinecolor\":\"#EBF0F8\"}},\"shapedefaults\":{\"line\":{\"color\":\"#2a3f5f\"}},\"ternary\":{\"aaxis\":{\"gridcolor\":\"#DFE8F3\",\"linecolor\":\"#A2B1C6\",\"ticks\":\"\"},\"baxis\":{\"gridcolor\":\"#DFE8F3\",\"linecolor\":\"#A2B1C6\",\"ticks\":\"\"},\"bgcolor\":\"white\",\"caxis\":{\"gridcolor\":\"#DFE8F3\",\"linecolor\":\"#A2B1C6\",\"ticks\":\"\"}},\"title\":{\"x\":0.05},\"xaxis\":{\"automargin\":true,\"gridcolor\":\"#EBF0F8\",\"linecolor\":\"#EBF0F8\",\"ticks\":\"\",\"title\":{\"standoff\":15},\"zerolinecolor\":\"#EBF0F8\",\"zerolinewidth\":2},\"yaxis\":{\"automargin\":true,\"gridcolor\":\"#EBF0F8\",\"linecolor\":\"#EBF0F8\",\"ticks\":\"\",\"title\":{\"standoff\":15},\"zerolinecolor\":\"#EBF0F8\",\"zerolinewidth\":2}}},\"title\":{\"text\":\"sentiment\",\"x\":0.5,\"xanchor\":\"center\",\"y\":0.9,\"yanchor\":\"top\"},\"xaxis\":{\"anchor\":\"y\",\"domain\":[0.0,0.45]},\"yaxis\":{\"anchor\":\"x\",\"domain\":[0.0,1.0]}},                        {\"responsive\": true}                    ).then(function(){\n",
       "                            \n",
       "var gd = document.getElementById('b06d5fb8-9ab9-4a22-98f7-00994c30059b');\n",
       "var x = new MutationObserver(function (mutations, observer) {{\n",
       "        var display = window.getComputedStyle(gd).display;\n",
       "        if (!display || display === 'none') {{\n",
       "            console.log([gd, 'removed!']);\n",
       "            Plotly.purge(gd);\n",
       "            observer.disconnect();\n",
       "        }}\n",
       "}});\n",
       "\n",
       "// Listen for the removal of the full notebook cells\n",
       "var notebookContainer = gd.closest('#notebook-container');\n",
       "if (notebookContainer) {{\n",
       "    x.observe(notebookContainer, {childList: true});\n",
       "}}\n",
       "\n",
       "// Listen for the clearing of the current output cell\n",
       "var outputEl = gd.closest('.output');\n",
       "if (outputEl) {{\n",
       "    x.observe(outputEl, {childList: true});\n",
       "}}\n",
       "\n",
       "                        })                };                });            </script>        </div>"
      ]
     },
     "metadata": {},
     "output_type": "display_data"
    }
   ],
   "source": [
    "categorical_variable_summary(df,'sentiment')"
   ]
  },
  {
   "cell_type": "code",
   "execution_count": 59,
   "id": "38371995",
   "metadata": {
    "execution": {
     "iopub.execute_input": "2022-10-29T14:09:30.079285Z",
     "iopub.status.busy": "2022-10-29T14:09:30.078879Z",
     "iopub.status.idle": "2022-10-29T14:09:30.095589Z",
     "shell.execute_reply": "2022-10-29T14:09:30.094769Z"
    },
    "papermill": {
     "duration": 0.045549,
     "end_time": "2022-10-29T14:09:30.097612",
     "exception": false,
     "start_time": "2022-10-29T14:09:30.052063",
     "status": "completed"
    },
    "tags": []
   },
   "outputs": [
    {
     "data": {
      "text/html": [
       "<div>\n",
       "<style scoped>\n",
       "    .dataframe tbody tr th:only-of-type {\n",
       "        vertical-align: middle;\n",
       "    }\n",
       "\n",
       "    .dataframe tbody tr th {\n",
       "        vertical-align: top;\n",
       "    }\n",
       "\n",
       "    .dataframe thead th {\n",
       "        text-align: right;\n",
       "    }\n",
       "</style>\n",
       "<table border=\"1\" class=\"dataframe\">\n",
       "  <thead>\n",
       "    <tr style=\"text-align: right;\">\n",
       "      <th></th>\n",
       "      <th>overall</th>\n",
       "    </tr>\n",
       "    <tr>\n",
       "      <th>sentiment</th>\n",
       "      <th></th>\n",
       "    </tr>\n",
       "  </thead>\n",
       "  <tbody>\n",
       "    <tr>\n",
       "      <th>Negative</th>\n",
       "      <td>3.968051</td>\n",
       "    </tr>\n",
       "    <tr>\n",
       "      <th>Positive</th>\n",
       "      <td>4.737439</td>\n",
       "    </tr>\n",
       "    <tr>\n",
       "      <th>neutral</th>\n",
       "      <td>4.687500</td>\n",
       "    </tr>\n",
       "  </tbody>\n",
       "</table>\n",
       "</div>"
      ],
      "text/plain": [
       "            overall\n",
       "sentiment          \n",
       "Negative   3.968051\n",
       "Positive   4.737439\n",
       "neutral    4.687500"
      ]
     },
     "execution_count": 59,
     "metadata": {},
     "output_type": "execute_result"
    }
   ],
   "source": [
    "df.groupby([\"sentiment\"])[['overall']].mean()"
   ]
  },
  {
   "cell_type": "code",
   "execution_count": null,
   "id": "152e45ef",
   "metadata": {
    "papermill": {
     "duration": 0.024712,
     "end_time": "2022-10-29T14:09:30.147240",
     "exception": false,
     "start_time": "2022-10-29T14:09:30.122528",
     "status": "completed"
    },
    "tags": []
   },
   "outputs": [],
   "source": []
  }
 ],
 "metadata": {
  "kernelspec": {
   "display_name": "Python 3",
   "language": "python",
   "name": "python3"
  },
  "language_info": {
   "codemirror_mode": {
    "name": "ipython",
    "version": 3
   },
   "file_extension": ".py",
   "mimetype": "text/x-python",
   "name": "python",
   "nbconvert_exporter": "python",
   "pygments_lexer": "ipython3",
   "version": "3.7.12"
  },
  "papermill": {
   "default_parameters": {},
   "duration": 76.858234,
   "end_time": "2022-10-29T14:09:31.295901",
   "environment_variables": {},
   "exception": null,
   "input_path": "__notebook__.ipynb",
   "output_path": "__notebook__.ipynb",
   "parameters": {},
   "start_time": "2022-10-29T14:08:14.437667",
   "version": "2.3.4"
  }
 },
 "nbformat": 4,
 "nbformat_minor": 5
}
